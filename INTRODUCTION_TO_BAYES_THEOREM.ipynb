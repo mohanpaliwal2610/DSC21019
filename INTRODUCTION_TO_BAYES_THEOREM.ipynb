{
 "cells": [
  {
   "cell_type": "markdown",
   "metadata": {
    "id": "JVDx14ye3sJt"
   },
   "source": [
    "# Introduction to Bayes Theorem\n",
    "Bayes Theorem provides a principled way for calculating a conditional probability. This tutorial provides the intuition for estimating the probabilties using baayes theorem. \n",
    "\n",
    "**Conditional probability** is the probability of one event given the occurrence of another event, often described in terms of events A and B from two dependent random variables e.g. `X` and `Y`.\n",
    "\n",
    "The conditional probability can be calculated using the joint probability\n",
    "P(A | B)=  (P (A∩B) ) / (P(B))\n",
    "\n",
    "The conditional probability is not symmetrical. ie., P(A|B) ≠ P(B|A).\n",
    "\n",
    "One conditional probability can be calculated using the other conditional\n",
    "probability. This is called Bayes'Theorem and can be stated as\n",
    "\n",
    "                              `P(A|B) = (P(B|A) * P(A)) / P(B)`\n",
    "\n",
    "P(A|B) = posterior probability\n",
    "\n",
    "P(A) = Prior Probability\n",
    "\n",
    "P(B|A) = Likelihood\n",
    "\n",
    "P(B) = Evidence.\n",
    "\n",
    "Bayes Theorem provides a principled way for calculating a conditional probability and an alternative to using the joint probability.\n",
    "\n",
    "                  `P(A∕B)=  (P(B│A) * P(A)) / (P(B|A) * P(A) + P(B| NOT A) * P(NOT A))`\n",
    "\n",
    "Thus the bayes theorm can be restated as\n",
    "\n",
    "                    Posterior = ( Likelihood X Prior ) / Evidence\n",
    "\n",
    "In terms of Binary classifier, the probabilities can be defined as :-\n",
    "\n",
    "1. P(not B | not A): True Negative Rate or TNR (**specificity**).\n",
    "\n",
    "2. P(B | not A): False Positive Rate or FPR.\n",
    "\n",
    "3. P(not B | A): False Negative Rate or FNR.\n",
    "\n",
    "4. P(B | A): True Positive Rate or TPR (**sensitivity or recall**).\n",
    "\n",
    "5. P(A | B): Positive Predictive Value or PPV (**Precision**).\n",
    "\n",
    "We can re-state the Bayes theorem as\n",
    "\n",
    "                            PPV = ( (TPR * P(A)) / ( (TPR * P(A)) + (FPR * P(not A) ) ) "
   ]
  },
  {
   "cell_type": "code",
   "execution_count": null,
   "metadata": {},
   "outputs": [],
   "source": []
  },
  {
   "cell_type": "code",
   "execution_count": null,
   "metadata": {},
   "outputs": [],
   "source": []
  },
  {
   "cell_type": "markdown",
   "metadata": {
    "id": "uA4mOVD-BVV4"
   },
   "source": [
    "# Lets solve some questions and find answers via Phython Script.\n",
    "\n",
    "1. Consider the case where an elderly person (over 80 years of age) falls, what is the probability that they will die from the fall? Let's assume that the base rate of someone elderly dying P(A) is 10%, and the base rate for elderly people falling P(B) is 5%, and from all elderly people, 7% of those that die had a fall P(B | A)."
   ]
  },
  {
   "cell_type": "code",
   "execution_count": null,
   "metadata": {
    "colab": {
     "base_uri": "https://localhost:8080/"
    },
    "id": "vfvBp_B9BnK-",
    "outputId": "e59c6791-50fb-4ba8-95de-a1ca5746af03"
   },
   "outputs": [
    {
     "name": "stdout",
     "output_type": "stream",
     "text": [
      "P(A|B) = 14.000%\n"
     ]
    }
   ],
   "source": [
    "# calculate the probability of an elderly person dying from a fall\n",
    "\n",
    "# calculate P(A|B) given P(B|A), P(A) and P(B)\n",
    "def bayes_theorem(p_a, p_b, p_b_given_a):\n",
    "  # calculate P(A|B) = P(B|A) * P(A) / P(B)\n",
    "  p_a_given_b = (p_b_given_a * p_a) / p_b\n",
    "  return p_a_given_b\n",
    "\n",
    "# P(A)\n",
    "p_a = 0.10\n",
    "# P(B)\n",
    "p_b = 0.05\n",
    "# P(B|A)\n",
    "p_b_given_a = 0.07\n",
    "\n",
    "# calculate P(A|B)\n",
    "result = bayes_theorem(p_a, p_b, p_b_given_a)\n",
    "\n",
    "# summarize\n",
    "print('P(A|B) = %.3f%%' % (result * 100))"
   ]
  },
  {
   "cell_type": "markdown",
   "metadata": {
    "id": "o3ZsqUiECZ29"
   },
   "source": [
    "That is if an elderly person falls then there is a 14% probability that they will die from the fall."
   ]
  },
  {
   "cell_type": "markdown",
   "metadata": {
    "id": "iUHdinn5DP6O"
   },
   "source": [
    "# Email spam detection.\n",
    "\n",
    "Consider, 2% of the email we receive is spam P(A). Let's assume that the spam detector is really good and when an email is spam that it detects it P(B | A) with an accuracy of 99%, and when an email is not spam, it will mark it as spam with a very low rate of 0.1% P(B | not A). We need to find P(Spam | Detected).\n",
    "\n",
    "## Solution\n",
    "After plugging the values in to the formula:\n",
    "\n",
    "P(A|B) = ( P (B|A) * P(A) ) / P(B).\n",
    "\n",
    "P(Spam|Detected) = (P(Detected|Spam) * P(Spam)) / P(Detected)\n",
    "\n",
    "Few values missing - P(B) and P(Detected)..... How to estimate them?????\n",
    "\n",
    "                  \n",
    "\n",
    "```\n",
    "            P(B) = P(B|A) X P(A) + P(B|not A) X P(not A).\n",
    "      P(Detected) = P(Detected|Spam) X P(Spam) + P(Detected|not Spam) X P(not Spam)\n",
    "```\n",
    "We know P(Detected|not Spam) which is 0.1% and we can calculate P(not Spam) as 1 - P(Spam)\n",
    "P(not Spam) = 1 - 0.02 = 0.98.\n",
    "\n",
    "Calculate P(Detected) = 0.02078\n",
    "\n",
    "Since, now we have all the values, let's estimate the P(Spam | Detected)"
   ]
  },
  {
   "cell_type": "code",
   "execution_count": null,
   "metadata": {
    "colab": {
     "base_uri": "https://localhost:8080/"
    },
    "id": "RW7LsobzCbdw",
    "outputId": "bcc10c83-3ef2-4e4a-bf03-f1ea1f54914c"
   },
   "outputs": [
    {
     "name": "stdout",
     "output_type": "stream",
     "text": [
      "P(A|B) = 95.284%\n"
     ]
    }
   ],
   "source": [
    "# calculate the probability of an email in the spam folder being spam\n",
    "# calculate P(A|B) given P(A), P(B|A), P(B|not A)\n",
    "def bayes_theorem(p_a, p_b_given_a, p_b_given_not_a):\n",
    "  # calculate P(not A)\n",
    "  not_a = 1 - p_a\n",
    "  # calculate P(B)\n",
    "  p_b = p_b_given_a * p_a + p_b_given_not_a * not_a\n",
    "  # calculate P(A|B)\n",
    "  p_a_given_b = (p_b_given_a * p_a) / p_b\n",
    "  return p_a_given_b\n",
    "\n",
    "#P(A)\n",
    "p_a = 0.02\n",
    "# P(B|A)\n",
    "p_b_given_a = 0.99\n",
    "# P(B|not A)\n",
    "p_b_given_not_a = 0.001\n",
    "# calculate P(A|B)\n",
    "result = bayes_theorem(p_a, p_b_given_a, p_b_given_not_a)\n",
    "# summarize\n",
    "print('P(A|B) = %.3f%%' % (result * 100))"
   ]
  },
  {
   "cell_type": "markdown",
   "metadata": {
    "id": "CkSwo6HHGVRJ"
   },
   "source": [
    "Hnece, if an email is in the spam folder, there is a 95.2% probability that it is in fact spam."
   ]
  },
  {
   "cell_type": "markdown",
   "metadata": {
    "id": "V5LmX479Gd94"
   },
   "source": [
    "# Liars and Lie Detectors\n",
    "\n",
    "Consider the case where a person is tested with a lie detector and gets a positive result suggesting that they are lying, what is the probability that the person is indeed lying?\n",
    "Let's assume some details, such as most people that are tested are telling the truth, such as 98%, meaning (1 - 0.98) or 2% are liars P(A). Let's also assume that when someone is lying that the test can detect them well, but not great, such as 72% of the time P(B|A). Let's also assume that when the machine says they are not lying, this is true 97% of the time P(not B | not A).\n",
    "\n",
    "We need to find - \n",
    "\n",
    "P(Lying | Positive) = ( P(Positive | Lying) * P(Lying) ) / P(Positive)\n",
    "\n",
    "Any Missing Values???? P(Positive) = ?\n",
    "\n"
   ]
  },
  {
   "cell_type": "code",
   "execution_count": null,
   "metadata": {
    "colab": {
     "base_uri": "https://localhost:8080/"
    },
    "id": "gAaax9BZGXtd",
    "outputId": "397024df-d1ca-46e8-8aaf-843db76b034d"
   },
   "outputs": [
    {
     "name": "stdout",
     "output_type": "stream",
     "text": [
      "P(A|B) = 32.877%\n"
     ]
    }
   ],
   "source": [
    "# calculate the probability of a person lying given a positive lie detector result\n",
    "# calculate P(A|B) given P(A), P(B|A), P(not B|not A)\n",
    "def bayes_theorem(p_a, p_b_given_a, p_not_b_given_not_a):\n",
    "  # calculate P(not A)\n",
    "  not_a = 1 - p_a\n",
    "  # calculate P(B|not A)\n",
    "  p_b_given_not_a = 1 - p_not_b_given_not_a\n",
    "  # calculate P(B)\n",
    "  p_b = p_b_given_a * p_a + p_b_given_not_a * not_a\n",
    "  # calculate P(A|B)\n",
    "  p_a_given_b = (p_b_given_a * p_a) / p_b\n",
    "  return p_a_given_b\n",
    "\n",
    "# P(A), base rate\n",
    "p_a = 0.02\n",
    "# P(B|A)\n",
    "p_b_given_a = 0.72\n",
    "# P(not B| not A)\n",
    "p_not_b_given_not_a = 0.97\n",
    "# calculate P(A|B)\n",
    "result = bayes_theorem(p_a, p_b_given_a, p_not_b_given_not_a)\n",
    "# summarize\n",
    "print('P(A|B) = %.3f%%' % (result * 100))"
   ]
  },
  {
   "cell_type": "markdown",
   "metadata": {
    "id": "7hkbic_uHjkq"
   },
   "source": [
    "That is, if the lie detector test comes back with a positive result, then there is a 32.8%\n",
    "probability that they are in fact lying. It's a poor test!"
   ]
  }
 ],
 "metadata": {
  "colab": {
   "collapsed_sections": [],
   "name": "INTRODUCTION TO BAYES THEOREM.ipynb",
   "provenance": []
  },
  "kernelspec": {
   "display_name": "Python 3",
   "language": "python",
   "name": "python3"
  },
  "language_info": {
   "codemirror_mode": {
    "name": "ipython",
    "version": 3
   },
   "file_extension": ".py",
   "mimetype": "text/x-python",
   "name": "python",
   "nbconvert_exporter": "python",
   "pygments_lexer": "ipython3",
   "version": "3.8.5"
  }
 },
 "nbformat": 4,
 "nbformat_minor": 1
}
