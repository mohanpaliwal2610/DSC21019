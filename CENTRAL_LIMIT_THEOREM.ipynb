{
 "cells": [
  {
   "cell_type": "markdown",
   "metadata": {
    "id": "iV2PCLllPaCD"
   },
   "source": [
    "The central limit theorem (CLT) is one of the most important results of probability theory and serves as the foundation of many methods of statistical analysis. At a high level, the theorem states the distribution of many sample means, known as a sampling distribution, will be normally distributed. This rule holds even if the underlying distribution itself is not normally distributed. As a result we can treat the sample mean as if it were drawn normal distribution."
   ]
  },
  {
   "cell_type": "markdown",
   "metadata": {
    "id": "jfEOX9LgP1ES"
   },
   "source": [
    "Unfortunately, real world data is often not normally distributed and the distribution of a sample tends to mirror the distribution of the population. This means a sample taken from a population with a skewed distribution will also tend to be skewed. Let's investigate by plotting the data and sample we created earlier and by checking the skew:"
   ]
  },
  {
   "cell_type": "code",
   "execution_count": null,
   "metadata": {
    "colab": {
     "base_uri": "https://localhost:8080/",
     "height": 282
    },
    "id": "921yg8-ZK7OR",
    "outputId": "91a2af25-d13c-48eb-ccbf-2e1667613c38"
   },
   "outputs": [
    {
     "data": {
      "text/plain": [
       "45.002372"
      ]
     },
     "execution_count": 13,
     "metadata": {},
     "output_type": "execute_result"
    },
    {
     "data": {
      "image/png": "[encoded data removed]",
      "text/plain": [
       "<Figure size 432x288 with 1 Axes>"
      ]
     },
     "metadata": {
      "needs_background": "light"
     },
     "output_type": "display_data"
    }
   ],
   "source": [
    "import numpy as np\n",
    "import pandas as pd\n",
    "import scipy.stats as stats\n",
    "from scipy.stats import bernoulli, norm, poisson\n",
    "from scipy.stats import kurtosis, skew\n",
    "import seaborn as sns\n",
    "import matplotlib.pyplot as plt\n",
    "import random\n",
    "import math\n",
    "\n",
    "\n",
    "np.random.seed(10)\n",
    "population_ages1 = stats.poisson.rvs(loc=20, mu=35, size=150000)\n",
    "population_ages2 = stats.poisson.rvs(loc=20, mu=10, size=100000)\n",
    "population_ages = np.concatenate((population_ages1, population_ages2))\n",
    "plt.hist(population_ages , bins=100);\n",
    "population_ages.mean()"
   ]
  },
  {
   "cell_type": "code",
   "execution_count": null,
   "metadata": {
    "colab": {
     "base_uri": "https://localhost:8080/",
     "height": 570
    },
    "id": "cVC75TyrQKSk",
    "outputId": "6a0acf18-d633-4a30-8809-5185da09507e"
   },
   "outputs": [
    {
     "name": "stdout",
     "output_type": "stream",
     "text": [
      "-0.12008483603917186\n"
     ]
    },
    {
     "data": {
      "image/png": "[encoded data removed]",
      "text/plain": [
       "<Figure size 648x648 with 1 Axes>"
      ]
     },
     "metadata": {
      "needs_background": "light"
     },
     "output_type": "display_data"
    }
   ],
   "source": [
    "pd.DataFrame(population_ages).hist(bins=58,\n",
    "                                  range=(17.5,75.5),\n",
    "                                  figsize=(9,9))\n",
    "\n",
    "print( stats.skew(population_ages) );"
   ]
  },
  {
   "cell_type": "markdown",
   "metadata": {
    "id": "uXXkyBw-QxZw"
   },
   "source": [
    "The distribution has low skewness, but the plot reveals the data is clearly not normal: instead of one symmetric bell curve, it has as bimodal distribution with two high density peaks. The sample we drew from this population should have roughly the same shape and skew:"
   ]
  },
  {
   "cell_type": "code",
   "execution_count": null,
   "metadata": {
    "colab": {
     "base_uri": "https://localhost:8080/",
     "height": 570
    },
    "id": "94rAXMFmQyvV",
    "outputId": "93c38ad9-4c0f-4801-a246-77967eefaef2"
   },
   "outputs": [
    {
     "name": "stdout",
     "output_type": "stream",
     "text": [
      "0.004370851565068423\n"
     ]
    },
    {
     "data": {
      "image/png": "[encoded data removed]",
      "text/plain": [
       "<Figure size 648x648 with 1 Axes>"
      ]
     },
     "metadata": {
      "needs_background": "light"
     },
     "output_type": "display_data"
    }
   ],
   "source": [
    "# Sample 500 values\n",
    "np.random.seed(10)\n",
    "sample_ages = np.random.choice(a = population_ages, size=500)\n",
    "pd.DataFrame(sample_ages).hist(bins=58,\n",
    "                                  range=(17.5,75.5),\n",
    "                                  figsize=(9,9));\n",
    "\n",
    "print( stats.skew(sample_ages) )"
   ]
  },
  {
   "cell_type": "markdown",
   "metadata": {
    "id": "HJWmtf-tRAfy"
   },
   "source": [
    "## NEED FOR CENTRAL LIMIT THEOREM\n",
    "\n",
    "The sample has roughly the same shape as the underlying population. This suggests that we can't apply techniques that assume a normal distribution to this data set, since it is not normal.\n",
    "\n",
    "But this can be relsoved using CLT\n",
    "\n",
    "**Illustration:**"
   ]
  },
  {
   "cell_type": "code",
   "execution_count": null,
   "metadata": {
    "colab": {
     "base_uri": "https://localhost:8080/",
     "height": 265
    },
    "id": "xUHBu8JeRXWD",
    "outputId": "15f567b5-5d0e-4c51-86ec-622e8d0384ce"
   },
   "outputs": [
    {
     "data": {
      "image/png": "[encoded data removed]",
      "text/plain": [
       "<Figure size 432x288 with 1 Axes>"
      ]
     },
     "metadata": {
      "needs_background": "light"
     },
     "output_type": "display_data"
    }
   ],
   "source": [
    "# Let’s define a clearly non-normal distribution.\n",
    "\n",
    "elements = np.arange(6)\n",
    "probabilities = [0.3, 0., 0.05, 0.05, 0.2, 0.4]\n",
    "X = np.random.choice(elements, 100, p=probabilities)\n",
    "sns.histplot(X, stat='probability');\n"
   ]
  },
  {
   "cell_type": "markdown",
   "metadata": {
    "id": "QKvQoCI9bLkr"
   },
   "source": [
    "Now, we can draw samples from it. We are going to draw samples of size 4 and calculate its mean."
   ]
  },
  {
   "cell_type": "code",
   "execution_count": null,
   "metadata": {
    "colab": {
     "base_uri": "https://localhost:8080/"
    },
    "id": "OXvQGct4bPGU",
    "outputId": "e1fac2d4-0753-4f8b-b0f8-e415227f87c1"
   },
   "outputs": [
    {
     "name": "stdout",
     "output_type": "stream",
     "text": [
      "[0 5 4 0]\n",
      "2.25\n"
     ]
    }
   ],
   "source": [
    "s_1 = np.random.choice(elements, 4, p=probabilities)\n",
    "print(s_1)\n",
    "x_bar_1 = np.mean(s_1)\n",
    "print(x_bar_1)"
   ]
  },
  {
   "cell_type": "markdown",
   "metadata": {
    "id": "8V18lzWsbTEO"
   },
   "source": [
    "Let’s do the same procedure 10,000 times."
   ]
  },
  {
   "cell_type": "code",
   "execution_count": null,
   "metadata": {
    "colab": {
     "base_uri": "https://localhost:8080/",
     "height": 352
    },
    "id": "SBC4C6GVbTtU",
    "outputId": "f8856a05-e702-4c12-9cf6-e88c823f8f17"
   },
   "outputs": [
    {
     "name": "stdout",
     "output_type": "stream",
     "text": [
      "Kurtosis: -0.37\n",
      "Skew: -0.27\n",
      "---\n",
      "μ=3.04\n",
      "σ=1.06\n"
     ]
    },
    {
     "data": {
      "image/png": "[encoded data removed]",
      "text/plain": [
       "<Figure size 432x288 with 1 Axes>"
      ]
     },
     "metadata": {
      "needs_background": "light"
     },
     "output_type": "display_data"
    }
   ],
   "source": [
    "s = []\n",
    "n=4\n",
    "for i in range(10000):\n",
    "    s.append(np.random.choice(elements, n, p=probabilities))\n",
    "s = np.mean(np.asarray(s), axis=1)\n",
    "\n",
    "print('Kurtosis: ' + str(np.round(kurtosis(s),2)))\n",
    "print('Skew: ' + str(np.round(skew(s),2)))\n",
    "print('---')\n",
    "print('μ=' + str(np.round(np.mean(s), 2)))\n",
    "print('σ=' + str(np.round(np.std(s), 2)))\n",
    "sns.histplot(s, stat='probability');"
   ]
  },
  {
   "cell_type": "markdown",
   "metadata": {
    "id": "NcGm9ozkbiAt"
   },
   "source": [
    "The CTL tells us that as you take more samples and calculate their mean, the resulting distribution will approximate a normal distribution. We can measure it by the value of the skewness and kurtosis, which for a normal distribution should be zero. A positively skewed distribution has a tail to the right, while a negative one has a tail to the left. If the distribution has positive kurtosis, it has fatter tails than the normal distribution; conversely, the tails would be thinner in a negative scenario.\n",
    "\n",
    "What the CLT also tells us is that the approximation becomes better as the sample size increases. So let’s test it by increasing the sample size from 4 to 20 and then to 100."
   ]
  },
  {
   "cell_type": "code",
   "execution_count": null,
   "metadata": {
    "colab": {
     "base_uri": "https://localhost:8080/",
     "height": 352
    },
    "id": "xstegAf3biw9",
    "outputId": "e51ba8a3-bdd5-4799-87a2-72909eacde99"
   },
   "outputs": [
    {
     "name": "stdout",
     "output_type": "stream",
     "text": [
      "Kurtosis: -0.03\n",
      "Skew: -0.14\n",
      "---\n",
      "μ=3.05\n",
      "σ=0.47\n"
     ]
    },
    {
     "data": {
      "image/png": "[encoded data removed]",
      "text/plain": [
       "<Figure size 432x288 with 1 Axes>"
      ]
     },
     "metadata": {
      "needs_background": "light"
     },
     "output_type": "display_data"
    }
   ],
   "source": [
    "s = []\n",
    "n=20\n",
    "for i in range(10000):\n",
    "    s.append(np.random.choice(elements, n, p=probabilities))\n",
    "s = np.mean(np.asarray(s), axis=1)\n",
    "\n",
    "print('Kurtosis: ' + str(np.round(kurtosis(s),2)))\n",
    "print('Skew: ' + str(np.round(skew(s),2)))\n",
    "print('---')\n",
    "print('μ=' + str(np.round(np.mean(s), 2)))\n",
    "print('σ=' + str(np.round(np.std(s), 2)))\n",
    "sns.histplot(s, stat='probability');"
   ]
  },
  {
   "cell_type": "code",
   "execution_count": null,
   "metadata": {
    "colab": {
     "base_uri": "https://localhost:8080/",
     "height": 352
    },
    "id": "P0WyP4oZboaG",
    "outputId": "15c47a13-98d0-4c4f-cba0-82ed57981f77"
   },
   "outputs": [
    {
     "name": "stdout",
     "output_type": "stream",
     "text": [
      "Kurtosis: -0.06\n",
      "Skew: -0.04\n",
      "---\n",
      "μ=3.05\n",
      "σ=0.21\n"
     ]
    },
    {
     "data": {
      "image/png": "[encoded data removed]",
      "text/plain": [
       "<Figure size 432x288 with 1 Axes>"
      ]
     },
     "metadata": {
      "needs_background": "light"
     },
     "output_type": "display_data"
    }
   ],
   "source": [
    "s = []\n",
    "n=100\n",
    "for i in range(10000):\n",
    "    s.append(np.random.choice(elements, n, p=probabilities))\n",
    "s = np.mean(np.asarray(s), axis=1)\n",
    "\n",
    "print('Kurtosis: ' + str(np.round(kurtosis(s),2)))\n",
    "print('Skew: ' + str(np.round(skew(s),2)))\n",
    "print('---')\n",
    "print('μ=' + str(np.round(np.mean(s), 2)))\n",
    "print('σ=' + str(np.round(np.std(s), 2)))\n",
    "sns.histplot(s, stat='probability');"
   ]
  },
  {
   "cell_type": "markdown",
   "metadata": {
    "id": "jkCH_DZcbz2A"
   },
   "source": [
    "Notice how the last plot resembles a normal distribution. There is a convention that a sample size bigger than 30 is enough to approximate a normal distribution. Also, notice that the value of the mean and standard deviation of the sampling distribution that we have been plotting for the different sample sizes. Not surprisingly, the mean is the same as the original distribution. But the value for the standard deviation is indeed strange, as it has been shrinking. In fact, this is an important property to take note of: the standard deviation of our sampling distribution of sample means is the square root of the standard deviation of the original population divided by the sample size."
   ]
  },
  {
   "cell_type": "markdown",
   "metadata": {
    "id": "thlWb1sMnvUK"
   },
   "source": [
    "## practice question \n",
    "EXPONENTIAL VIA CENTRAL LIMIT THEOREM."
   ]
  }
 ],
 "metadata": {
  "colab": {
   "name": "CENTRAL_LIMIT_THEOREM.ipynb",
   "provenance": []
  },
  "kernelspec": {
   "display_name": "Python 3",
   "language": "python",
   "name": "python3"
  },
  "language_info": {
   "codemirror_mode": {
    "name": "ipython",
    "version": 3
   },
   "file_extension": ".py",
   "mimetype": "text/x-python",
   "name": "python",
   "nbconvert_exporter": "python",
   "pygments_lexer": "ipython3",
   "version": "3.8.5"
  }
 },
 "nbformat": 4,
 "nbformat_minor": 1
}
