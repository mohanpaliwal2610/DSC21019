{
 "cells": [
  {
   "cell_type": "markdown",
   "metadata": {
    "id": "HEtNqDzC8Ola"
   },
   "source": [
    "# Assignment No : 2\n",
    "Name   : Paliwal Mohan Subhash\n",
    "\n",
    "Reg No : P2DSC21019\n",
    "\n",
    "Date : 15/01/2022"
   ]
  },
  {
   "cell_type": "code",
   "execution_count": 4,
   "metadata": {
    "id": "DUAnvkE68Olm"
   },
   "outputs": [],
   "source": [
    "import random\n",
    "import math\n",
    "import pandas as pd"
   ]
  },
  {
   "cell_type": "code",
   "execution_count": 5,
   "metadata": {
    "id": "fFj9P-zs8Olu"
   },
   "outputs": [],
   "source": [
    "import numpy as np\n",
    "import matplotlib.pyplot as plt\n",
    "from scipy.stats import bernoulli, norm, poisson\n",
    "from scipy import stats\n",
    "from scipy.stats import kurtosis, skew\n",
    "import seaborn as sns\n",
    "%matplotlib inline\n",
    "\n"
   ]
  },
  {
   "cell_type": "markdown",
   "metadata": {
    "id": "Q4ObGycV8Ol0"
   },
   "source": [
    "## 1. SAMPLING THEOREM"
   ]
  },
  {
   "cell_type": "markdown",
   "metadata": {
    "id": "qmA7H1yU8Ol4"
   },
   "source": [
    "#### 1) Rick takes an SRS of 75 citizens on a distant planet to see what proportion of citizens sampled are satisfied with their standard of living. Suppose that 60% of the 1,000,000,000 citizens who live on the planet are satisfied with their living standards. What are the mean and standard deviation of the sampling distribution of the proportion of citizens who are satisfied with their standard of living?"
   ]
  },
  {
   "cell_type": "code",
   "execution_count": null,
   "metadata": {
    "id": "JSjdnjzi8Ol6",
    "outputId": "f5e0c638-e0c7-4e81-c1a3-a97675384f38"
   },
   "outputs": [
    {
     "name": "stdout",
     "output_type": "stream",
     "text": [
      "0.6\n",
      "0.0565685424949238\n"
     ]
    }
   ],
   "source": [
    "n=75 # B(n,p)\n",
    "hat_p = 0.6\n",
    "print(hat_p)\n",
    "#sd(P)=sqrt((pq/n))\n",
    "sigma_p_hat = np.sqrt(0.6*(1-0.6)/75)\n",
    "print(sigma_p_hat)"
   ]
  },
  {
   "cell_type": "code",
   "execution_count": null,
   "metadata": {
    "id": "DqanKI8H8Ol-",
    "outputId": "582cfe9e-94ce-44cb-b4d2-7d7b5cb89fee",
    "scrolled": true
   },
   "outputs": [
    {
     "data": {
      "text/plain": [
       "(array([  5.,  26., 107., 241., 513., 567., 357., 145.,  35.,   4.]),\n",
       " array([30. , 32.9, 35.8, 38.7, 41.6, 44.5, 47.4, 50.3, 53.2, 56.1, 59. ]),\n",
       " <BarContainer object of 10 artists>)"
      ]
     },
     "execution_count": 221,
     "metadata": {},
     "output_type": "execute_result"
    },
    {
     "data": {
      "image/png": "[encoded data removed]",
      "text/plain": [
       "<Figure size 432x288 with 1 Axes>"
      ]
     },
     "metadata": {
      "needs_background": "light"
     },
     "output_type": "display_data"
    }
   ],
   "source": [
    "p=0.6\n",
    "n=75\n",
    "x=bernoulli(p)\n",
    "y=[x.rvs(n) for i in range(2000)]\n",
    "plt.hist(np.sum(y,axis=1))"
   ]
  },
  {
   "cell_type": "code",
   "execution_count": null,
   "metadata": {
    "id": "gcgKs86R8OmD",
    "outputId": "be8cbac1-fb38-4b0a-8a48-49f3aad69968"
   },
   "outputs": [
    {
     "name": "stdout",
     "output_type": "stream",
     "text": [
      "emparically calculated mean : 0.6000066666666667\n",
      "Theoritical calculated mean : 0.6  \n",
      "\n",
      "emparically calculated standard deviation : 0.056416703200382064\n",
      "Theoritical calculated standard deviatio : 0.0565685424949238  \n",
      "\n"
     ]
    }
   ],
   "source": [
    "print(\"emparically calculated mean :\", np.mean(np.mean(y,axis=1)))\n",
    "print(\"Theoritical calculated mean :\",p,\" \\n\")\n",
    "print(\"emparically calculated standard deviation :\", np.std(np.mean(y,axis=1)))\n",
    "print(\"Theoritical calculated standard deviatio :\",np.sqrt(p*(1-p)/n),\" \\n\")\n"
   ]
  },
  {
   "cell_type": "markdown",
   "metadata": {
    "id": "e7Wpl7Eo8OmG"
   },
   "source": [
    "#### 2) Rick is performing quality control tests on different portal guns since there is some variability in the manufacturing process. For example, a certain gun has a target thickness of 5mm. The distribution of thicknesses is skewed to the right with a mean of 5mm and a standard deviation of 1mm. A quality control check on this part involves taking a random sample of 35 points and calculating the mean thickness of those points. What is the shape of the sampling distribution of the sample mean thickness? What is the probability that the mean thickness in the sample is within 0.2mm of the target value?\n"
   ]
  },
  {
   "cell_type": "code",
   "execution_count": null,
   "metadata": {
    "id": "sbqGuJCp8OmL",
    "outputId": "282165e6-1a4c-4587-81a0-83aaf47e67da"
   },
   "outputs": [
    {
     "name": "stdout",
     "output_type": "stream",
     "text": [
      " shape of the sampling distribution of the sample mean thickness is ::: Normal\n",
      " probability that the mean thickness in the sample is within 0.2mm of the target value is : 0.763276429362143\n"
     ]
    }
   ],
   "source": [
    "mu=5\n",
    "sd=1\n",
    "n=35\n",
    "# Since n = 35 >= 30, the central limit theorem applies.\n",
    "# Even though the population is skewed to the right,\n",
    "#the sample meansare normally distributed due to the sample size.\n",
    "print(\" shape of the sampling distribution of the sample mean thickness is ::: Normal\")\n",
    "\n",
    "prob=norm.cdf(5.2, mu,sd/n**(1/2)) - norm.cdf(4.8, mu, sd/n**(1/2))\n",
    "print(\" probability that the mean thickness in the sample is within 0.2mm of the target value is :\",prob)"
   ]
  },
  {
   "cell_type": "markdown",
   "metadata": {
    "id": "fDN8j0ZU8OmQ"
   },
   "source": [
    "## 2. INTERVAL ESTIMATION"
   ]
  },
  {
   "cell_type": "markdown",
   "metadata": {
    "id": "37aBN77z8OmT"
   },
   "source": [
    "#### 1) In a sample of 659 parents with toddlers, about 85%, stated they use a car seat for all travel with their toddler. From these results, a 95% confidence interval was provided, going from about 82.3% up to 87.7%. Identify the parameters and plot the graph."
   ]
  },
  {
   "cell_type": "code",
   "execution_count": null,
   "metadata": {
    "id": "iyah1crt8OmV",
    "outputId": "b0d7758b-f4dc-4cd4-8254-f061f0a621b6"
   },
   "outputs": [
    {
     "data": {
      "text/plain": [
       "0.8772621734203857"
      ]
     },
     "execution_count": 236,
     "metadata": {},
     "output_type": "execute_result"
    }
   ],
   "source": [
    "0.85-norm.ppf(0.025)*np.sqrt(0.85*0.15/n)"
   ]
  },
  {
   "cell_type": "code",
   "execution_count": null,
   "metadata": {
    "id": "Apc13Ctx8OmX",
    "outputId": "626e6d39-9b5b-4c64-b589-b265681406fc"
   },
   "outputs": [
    {
     "name": "stdout",
     "output_type": "stream",
     "text": [
      "population parameter :  0.85\n"
     ]
    },
    {
     "data": {
      "image/png": "[encoded data removed]",
      "text/plain": [
       "<Figure size 432x288 with 1 Axes>"
      ]
     },
     "metadata": {
      "needs_background": "light"
     },
     "output_type": "display_data"
    }
   ],
   "source": [
    "n=659\n",
    "p=0.85\n",
    "c=0.95\n",
    "a=0.05\n",
    "L=0.823\n",
    "U=0.877\n",
    "\n",
    "# Parameter is Population Proportion (P) is Unbiased estimator of sample Proportion i.e  P=E(p_hat)\n",
    "# here p_vat=0.85\n",
    "print(\"population parameter : \",p )\n",
    "np.random.seed(10)\n",
    "from scipy.stats import binom\n",
    "population_ages= binom.rvs(n=659,p=0.85,size=100000000)\n",
    "plt.hist(population_ages , bins=100);"
   ]
  },
  {
   "cell_type": "code",
   "execution_count": null,
   "metadata": {
    "id": "lIo1_7mg8Oma"
   },
   "outputs": [],
   "source": [
    "np.random.seed(10)\n",
    "\n",
    "sample_size = 659\n",
    "\n",
    "intervals = []\n",
    "sample_means = []\n",
    "\n",
    "for sample in range(50):\n",
    "    sample = np.random.choice(a= population_ages, size = sample_size)\n",
    "    sample_mean = sample.mean()/659\n",
    "    sample_means.append(sample_mean)\n",
    "    z_critical = stats.norm.ppf(q = 0.975)  # Get the z-critical value*         \n",
    "    pop_stdev = np.sqrt(sample_mean*(1-sample_mean)/659) # Get the population standard deviation\n",
    "    margin_of_error = z_critical * (pop_stdev)\n",
    "    confidence_interval = (sample_mean - margin_of_error,\n",
    "                           sample_mean + margin_of_error)  \n",
    "    \n",
    "    intervals.append(confidence_interval)"
   ]
  },
  {
   "cell_type": "code",
   "execution_count": null,
   "metadata": {
    "id": "CDxmcSnj8Omc",
    "outputId": "17a0cd30-3099-4266-fe0a-5b4343b3465d"
   },
   "outputs": [
    {
     "data": {
      "image/png": "[encoded data removed]",
      "text/plain": [
       "<Figure size 648x648 with 1 Axes>"
      ]
     },
     "metadata": {
      "needs_background": "light"
     },
     "output_type": "display_data"
    }
   ],
   "source": [
    "plt.figure(figsize=(9,9))\n",
    "\n",
    "plt.errorbar(x=np.arange(0.1, 50, 1), \n",
    "             y=sample_means, \n",
    "             yerr=[(top-bot)/2 for top,bot in intervals],\n",
    "             fmt='o')\n",
    "\n",
    "plt.hlines(xmin=0,xmax=50,\n",
    "           y=0.85,\n",
    "           linewidth=2.0,\n",
    "           color=\"red\");"
   ]
  },
  {
   "cell_type": "markdown",
   "metadata": {
    "id": "RsXJCRe78Ome"
   },
   "source": [
    "#### 2) Download the dataset from heart disease. import it using the command\n",
    "                data = pd.read_csv(heart.csv)\n",
    "Assume CI = 95% and calculate via plotting:\n",
    "#### a. Is the population proportion of females with heart disease the same as the population proportion of males with heart disease?\n",
    "\n",
    "#### b. The dataset has a ‘chol’ column that contains the cholesterol level. Calculate the confidence interval of the mean cholesterol level of the female population."
   ]
  },
  {
   "cell_type": "code",
   "execution_count": null,
   "metadata": {
    "id": "y18xGaI48Omh"
   },
   "outputs": [],
   "source": [
    "import pandas as pd\n",
    "data = pd.read_csv(\"C:\\\\Users\\\\Mohan\\\\Desktop\\\\heart.csv\")"
   ]
  },
  {
   "cell_type": "code",
   "execution_count": null,
   "metadata": {
    "id": "IS6JOoL88Omj",
    "outputId": "b3bfa2e2-69df-492e-b36d-237cc4f7aba7",
    "scrolled": true
   },
   "outputs": [
    {
     "data": {
      "text/html": [
       "<div>\n",
       "<style scoped>\n",
       "    .dataframe tbody tr th:only-of-type {\n",
       "        vertical-align: middle;\n",
       "    }\n",
       "\n",
       "    .dataframe tbody tr th {\n",
       "        vertical-align: top;\n",
       "    }\n",
       "\n",
       "    .dataframe thead th {\n",
       "        text-align: right;\n",
       "    }\n",
       "</style>\n",
       "<table border=\"1\" class=\"dataframe\">\n",
       "  <thead>\n",
       "    <tr style=\"text-align: right;\">\n",
       "      <th></th>\n",
       "      <th>age</th>\n",
       "      <th>sex</th>\n",
       "      <th>cp</th>\n",
       "      <th>trestbps</th>\n",
       "      <th>chol</th>\n",
       "      <th>fbs</th>\n",
       "      <th>restecg</th>\n",
       "      <th>thalach</th>\n",
       "      <th>exang</th>\n",
       "      <th>oldpeak</th>\n",
       "      <th>slope</th>\n",
       "      <th>ca</th>\n",
       "      <th>thal</th>\n",
       "      <th>target</th>\n",
       "    </tr>\n",
       "  </thead>\n",
       "  <tbody>\n",
       "    <tr>\n",
       "      <th>0</th>\n",
       "      <td>63</td>\n",
       "      <td>1</td>\n",
       "      <td>3</td>\n",
       "      <td>145</td>\n",
       "      <td>233</td>\n",
       "      <td>1</td>\n",
       "      <td>0</td>\n",
       "      <td>150</td>\n",
       "      <td>0</td>\n",
       "      <td>2.3</td>\n",
       "      <td>0</td>\n",
       "      <td>0</td>\n",
       "      <td>1</td>\n",
       "      <td>1</td>\n",
       "    </tr>\n",
       "    <tr>\n",
       "      <th>1</th>\n",
       "      <td>37</td>\n",
       "      <td>1</td>\n",
       "      <td>2</td>\n",
       "      <td>130</td>\n",
       "      <td>250</td>\n",
       "      <td>0</td>\n",
       "      <td>1</td>\n",
       "      <td>187</td>\n",
       "      <td>0</td>\n",
       "      <td>3.5</td>\n",
       "      <td>0</td>\n",
       "      <td>0</td>\n",
       "      <td>2</td>\n",
       "      <td>1</td>\n",
       "    </tr>\n",
       "    <tr>\n",
       "      <th>2</th>\n",
       "      <td>41</td>\n",
       "      <td>0</td>\n",
       "      <td>1</td>\n",
       "      <td>130</td>\n",
       "      <td>204</td>\n",
       "      <td>0</td>\n",
       "      <td>0</td>\n",
       "      <td>172</td>\n",
       "      <td>0</td>\n",
       "      <td>1.4</td>\n",
       "      <td>2</td>\n",
       "      <td>0</td>\n",
       "      <td>2</td>\n",
       "      <td>1</td>\n",
       "    </tr>\n",
       "    <tr>\n",
       "      <th>3</th>\n",
       "      <td>56</td>\n",
       "      <td>1</td>\n",
       "      <td>1</td>\n",
       "      <td>120</td>\n",
       "      <td>236</td>\n",
       "      <td>0</td>\n",
       "      <td>1</td>\n",
       "      <td>178</td>\n",
       "      <td>0</td>\n",
       "      <td>0.8</td>\n",
       "      <td>2</td>\n",
       "      <td>0</td>\n",
       "      <td>2</td>\n",
       "      <td>1</td>\n",
       "    </tr>\n",
       "    <tr>\n",
       "      <th>4</th>\n",
       "      <td>57</td>\n",
       "      <td>0</td>\n",
       "      <td>0</td>\n",
       "      <td>120</td>\n",
       "      <td>354</td>\n",
       "      <td>0</td>\n",
       "      <td>1</td>\n",
       "      <td>163</td>\n",
       "      <td>1</td>\n",
       "      <td>0.6</td>\n",
       "      <td>2</td>\n",
       "      <td>0</td>\n",
       "      <td>2</td>\n",
       "      <td>1</td>\n",
       "    </tr>\n",
       "  </tbody>\n",
       "</table>\n",
       "</div>"
      ],
      "text/plain": [
       "   age  sex  cp  trestbps  chol  fbs  restecg  thalach  exang  oldpeak  slope  \\\n",
       "0   63    1   3       145   233    1        0      150      0      2.3      0   \n",
       "1   37    1   2       130   250    0        1      187      0      3.5      0   \n",
       "2   41    0   1       130   204    0        0      172      0      1.4      2   \n",
       "3   56    1   1       120   236    0        1      178      0      0.8      2   \n",
       "4   57    0   0       120   354    0        1      163      1      0.6      2   \n",
       "\n",
       "   ca  thal  target  \n",
       "0   0     1       1  \n",
       "1   0     2       1  \n",
       "2   0     2       1  \n",
       "3   0     2       1  \n",
       "4   0     2       1  "
      ]
     },
     "execution_count": 4,
     "metadata": {},
     "output_type": "execute_result"
    }
   ],
   "source": [
    "data.head()"
   ]
  },
  {
   "cell_type": "code",
   "execution_count": null,
   "metadata": {
    "id": "T4rdom958Omk",
    "outputId": "abdbb89a-a061-41ea-b0cd-e745d047b910"
   },
   "outputs": [
    {
     "name": "stdout",
     "output_type": "stream",
     "text": [
      " P1 (PP of Male HD):  0.4492753623188406\n",
      " P2 (PP of female HD):  0.75\n",
      "-5.359476411296547\n",
      "Population Prop of famale HD and population prop of Male HD are not same\n"
     ]
    }
   ],
   "source": [
    "C=0.95\n",
    "a=0.05\n",
    "# sex 1 means male ,0 means female\n",
    "# target 1 means HD present, \n",
    "\n",
    "n1=data[data[\"sex\"]==1][\"sex\"].count()\n",
    "n2=data[data[\"sex\"]==0][\"sex\"].count()\n",
    "x1=data[(data[\"sex\"]==1) & (data[\"target\"]==1)][\"target\"].count()\n",
    "x2=data[(data[\"sex\"]==0) & (data[\"target\"]==1)][\"target\"].count()\n",
    "p1=x1/n1\n",
    "p2=x2/n2\n",
    "print(\" P1 (PP of Male HD): \",p1)\n",
    "print(\" P2 (PP of female HD): \",p2)\n",
    "# Z=(p1-p2)/np.sqrt(((p1*(1-p1)/n1)+(p2*(1-p2)/n2))\n",
    "Z=(p1-p2)/np.sqrt(((p1*(1-p1)/n1))+(p2*(1-p2)/n2))\n",
    "print(Z)\n",
    "print(\"Population Prop of famale HD and population prop of Male HD are not same\")"
   ]
  },
  {
   "cell_type": "code",
   "execution_count": null,
   "metadata": {
    "id": "LlY1QsBJ8Oml",
    "outputId": "adfc8d62-b0de-40f6-c035-95aee8104186"
   },
   "outputs": [
    {
     "name": "stdout",
     "output_type": "stream",
     "text": [
      " Confidence Int of Chol is ( 240.42803990733134 , 252.1000128979492 )\n"
     ]
    }
   ],
   "source": [
    "# b]----\n",
    "mu=data[\"chol\"].mean()\n",
    "sd=data[\"chol\"].std()\n",
    "n=data[\"chol\"].count()\n",
    "Zab2=stats.norm.ppf(q = 0.975)\n",
    "#CI (mu +- Z_a/2*sd/n)\n",
    "L=mu-Zab2*sd/np.sqrt(n)\n",
    "U=mu+Zab2*sd/np.sqrt(n)\n",
    "print(\" Confidence Int of Chol is (\",L,\",\",U,\")\")"
   ]
  },
  {
   "cell_type": "markdown",
   "metadata": {
    "id": "SXaoF3Rq8Omm"
   },
   "source": [
    "## 3. SIGNIFICANCE LEVELS TESTING"
   ]
  },
  {
   "cell_type": "markdown",
   "metadata": {
    "id": "xJSAI25S8Omo"
   },
   "source": [
    "#### 1) According to a large poll from last year, about 85% of houses in Porto have access tohigh-speed internet. Marco wondered if the proportion had changed and took a random sample of 80 houses and found that 75 had access to high-speed internet. He wants to use this sample data to test if the proportion actually changed. Assuming that the conditions for inference were met, what would you conclude about the proportion of houses with high-speed internet considering a significance level of 1%?\n"
   ]
  },
  {
   "cell_type": "code",
   "execution_count": null,
   "metadata": {
    "id": "EDixnX_G8Omo",
    "outputId": "cdea332a-c134-4125-f54a-d65d9d4f2599"
   },
   "outputs": [
    {
     "data": {
      "text/plain": [
       "2.191785018798024"
      ]
     },
     "execution_count": 7,
     "metadata": {},
     "output_type": "execute_result"
    }
   ],
   "source": [
    "# H0 : P0=0.85 vs  H1  : P0 not= 0.85\n",
    "n=80\n",
    "x=75\n",
    "phat=75/80\n",
    "\n",
    "Z=(phat-0.85)/np.sqrt((0.85*0.15/80))\n",
    "Z"
   ]
  },
  {
   "cell_type": "code",
   "execution_count": null,
   "metadata": {
    "id": "27gk3ngZ8Omq",
    "outputId": "fb8d98a9-8fee-47e9-830d-c8d65e8205b1"
   },
   "outputs": [
    {
     "name": "stdout",
     "output_type": "stream",
     "text": [
      " there is not enough evidence at to reject the claim that 85% of houses in Porto have access tohigh-speed internet\n"
     ]
    }
   ],
   "source": [
    "pvalue=(1-norm.cdf(Z))+norm.cdf(-Z)\n",
    "pvalue\n",
    "# pvalue > alpha=0.01\n",
    "# FAIL TO REJECT H0 \n",
    "print(\" there is not enough evidence at to reject the claim \\\n",
    "that 85% of houses in Porto have access tohigh-speed internet\")\n",
    "# if we take alpha is 0.10  then alpha/2 =0.05\n",
    "# then Pvalue < alpha/2\n",
    "# at 10% LOS we can say that there is enough evidence to reject the claim"
   ]
  },
  {
   "cell_type": "code",
   "execution_count": null,
   "metadata": {
    "id": "KBKDxsRe8Omr"
   },
   "outputs": [],
   "source": []
  },
  {
   "cell_type": "markdown",
   "metadata": {
    "id": "7DFGKIHA8Oms"
   },
   "source": [
    "#### 2) Marta owns a fruit store and receives watermelons weekly. The supplier states that they are supposed to weigh 1kg. Marta decides to weigh a random sample of 100 watermelons and finds a mean weight of 850g and a standard deviation of 200g. She wants to use this sample data to test if the mean is smaller than the one claimed by the supplier and renegotiate their contract if this is the case. Assuming that the conditions for inference were met, what should Marta do (consider a significance level of 5%)?"
   ]
  },
  {
   "cell_type": "code",
   "execution_count": null,
   "metadata": {
    "id": "DDgJhgmw8Omt",
    "outputId": "5b6f8d0a-50e3-4cac-d9e6-af443def0dd6"
   },
   "outputs": [
    {
     "data": {
      "text/plain": [
       "-7.5"
      ]
     },
     "execution_count": 15,
     "metadata": {},
     "output_type": "execute_result"
    }
   ],
   "source": [
    "mu=1000\n",
    "n=100\n",
    "xbar=850\n",
    "sd=200\n",
    "# H0 mu>=1000 (claim) vs  H1 mu < 1000\n",
    "Z=(xbar-mu)/(sd/np.sqrt(n))\n",
    "Z"
   ]
  },
  {
   "cell_type": "code",
   "execution_count": null,
   "metadata": {
    "id": "pJCt3EIA8Omu",
    "outputId": "6f3af121-970b-4885-f5d4-fbd0d9d11625"
   },
   "outputs": [
    {
     "name": "stdout",
     "output_type": "stream",
     "text": [
      "P value Is :  3.1908916729108844e-14    <    alpha=0.05\n"
     ]
    }
   ],
   "source": [
    "pvalue=norm.cdf(Z)\n",
    "print(\"P value Is : \",pvalue , \"   <   \", \"alpha=0.05\")\n",
    "alpha=0.05\n",
    "# here Pvalue < alpha\n",
    "# there is enough evidence to reject the claim at 5% LOS that watermelons weigh is 1kg.\n",
    "# [accept H1] mean weight is smaller than the one claimed by the supplier.\n",
    "# marta should renegotiate their contract.\n"
   ]
  },
  {
   "cell_type": "code",
   "execution_count": null,
   "metadata": {
    "id": "btu-B_CE8Omv"
   },
   "outputs": [],
   "source": []
  },
  {
   "cell_type": "code",
   "execution_count": null,
   "metadata": {
    "id": "wDynToSk8Omw"
   },
   "outputs": [],
   "source": []
  },
  {
   "cell_type": "markdown",
   "metadata": {
    "id": "ttYQO7iq8Omx"
   },
   "source": [
    "## 4. HYPOTHESIS TESTING\n",
    "\n",
    "\n",
    "### 1. One sample t-test"
   ]
  },
  {
   "cell_type": "markdown",
   "metadata": {
    "id": "BmwAhIjM8Omz"
   },
   "source": [
    "Data:\n",
    "Systolic blood pressures of 14 patients are given below:\n",
    "\n",
    "183, 152, 178, 157, 194, 163, 144, 114, 178, 152, 118, 158, 172, 138\n",
    "\n",
    "Test, whether the population mean, is less than 165"
   ]
  },
  {
   "cell_type": "code",
   "execution_count": null,
   "metadata": {
    "id": "sqOjOdcQ8Om0",
    "outputId": "fd1e78aa-50d9-4b8e-b097-cc1e9891c825"
   },
   "outputs": [
    {
     "data": {
      "text/plain": [
       "-1.243182877661369"
      ]
     },
     "execution_count": 31,
     "metadata": {},
     "output_type": "execute_result"
    }
   ],
   "source": [
    "n=14\n",
    "x=[183, 152, 178, 157, 194, 163, 144, 114, 178, 152, 118, 158, 172, 138]\n",
    "xbar=np.mean(x)\n",
    "sd=np.std(x)\n",
    "mu=165\n",
    "# H0 : mu=165     vs     H1 :  mu < 165 \n",
    "tcal= (xbar-mu)/(sd/np.sqrt(n-1)) \n",
    "tcal"
   ]
  },
  {
   "cell_type": "code",
   "execution_count": null,
   "metadata": {
    "id": "-aTIQmbL8Om1",
    "outputId": "6affbca0-e3fd-47ef-868b-e5d8e1f5915b"
   },
   "outputs": [
    {
     "data": {
      "text/plain": [
       "Ttest_1sampResult(statistic=-1.243182877661369, pvalue=0.11787740505906531)"
      ]
     },
     "execution_count": 38,
     "metadata": {},
     "output_type": "execute_result"
    }
   ],
   "source": [
    "stats.ttest_1samp(a = x,popmean = 165, alternative= \"less\") "
   ]
  },
  {
   "cell_type": "code",
   "execution_count": null,
   "metadata": {
    "id": "exEGjF_a8Om2",
    "outputId": "689a9362-a219-419d-c6bc-a1897469e841"
   },
   "outputs": [
    {
     "data": {
      "text/plain": [
       "0.11787740505906531"
      ]
     },
     "execution_count": 41,
     "metadata": {},
     "output_type": "execute_result"
    }
   ],
   "source": [
    "stats.t.cdf(x= -1.243182877661369,     # p Value\n",
    "               df= 13)"
   ]
  },
  {
   "cell_type": "code",
   "execution_count": null,
   "metadata": {
    "id": "sPi3ifCk8Om3",
    "outputId": "f883f9f6-ee07-4807-c813-46fb01d1af7c"
   },
   "outputs": [
    {
     "name": "stdout",
     "output_type": "stream",
     "text": [
      " there is not enough evidence to support the claim that mean  Systolic blood pressures is less than 165.  \n"
     ]
    }
   ],
   "source": [
    "# Pvalue is > alpha (0.05)\n",
    "# fail to reject  H0\n",
    "print(\" there is not enough evidence to support the claim that mean  Systolic blood pressures is less than 165.  \")"
   ]
  },
  {
   "cell_type": "markdown",
   "metadata": {
    "id": "FZHclHg38Om4"
   },
   "source": [
    "### 2. Two sample t-test"
   ]
  },
  {
   "cell_type": "markdown",
   "metadata": {
    "id": "vt_aA_PG8Om5"
   },
   "source": [
    "Data:\n",
    "Compare the effectiveness of ammonium chloride and urea, on the grain yield of paddy, an\n",
    "experiment was conducted. The results are given below:\n",
    "Ammonium\n",
    "\n",
    "chloride(X1)   13.4   10.9   11.2   11.8   14    15.3   14.2   12.6   17     16.2   16.5   15.7\n",
    "\n",
    "Urea    (X2)    12    11.7   10.7   11.2   14.8  14.4   13.9   13.7   16.9   16     15.6   16\n"
   ]
  },
  {
   "cell_type": "code",
   "execution_count": null,
   "metadata": {
    "id": "WPxDB3Gw8Om6",
    "outputId": "80946c19-5a37-4d86-d6c7-e8ac51fe3439"
   },
   "outputs": [
    {
     "data": {
      "text/plain": [
       "0.1846496543760765"
      ]
     },
     "execution_count": 67,
     "metadata": {},
     "output_type": "execute_result"
    }
   ],
   "source": [
    "# # H0 : mu1=mu2 vs    H1 :  mu1 not= mu2\n",
    "\n",
    "x1=[13.4, 10.9, 11.2, 11.8, 14 ,15.3, 14.2 ,12.6 ,17 ,16.2 ,16.5 ,15.7] \n",
    "x2=[12, 11.7 ,10.7, 11.2 ,14.8, 14.4 ,13.9 ,13.7 ,16.9 ,16 ,15.6 ,16]\n",
    "xbar1=np.mean(x1)\n",
    "xbar2=np.mean(x2)\n",
    "sd1=np.std(x1)\n",
    "sd2=np.std(x2)\n",
    "#poosd=np.sqrt((((len(x1)-1)*sd1**2)+(len(x2)-1)*sd2**2)/(len(x1)+len(x2)-2))\n",
    "#sd_xbar=poosd*np.sqrt((1/len(x1))+(1/len(x2)))\n",
    "\n",
    "sdd=np.sqrt(((sd1**2/(len(x1)-1))+(sd2**2/(len(x2)-1)))) # sd of diff of means\n",
    "\n",
    "tcal2=(xbar1-xbar2)/sdd\n",
    "tcal2"
   ]
  },
  {
   "cell_type": "code",
   "execution_count": null,
   "metadata": {
    "id": "9p39fajg8Om7",
    "outputId": "3238c672-becd-4907-981f-977c2c7b422e"
   },
   "outputs": [
    {
     "data": {
      "text/plain": [
       "Ttest_indResult(statistic=0.1846496543760765, pvalue=0.8551954147800473)"
      ]
     },
     "execution_count": 58,
     "metadata": {},
     "output_type": "execute_result"
    }
   ],
   "source": [
    "stats.ttest_ind(x1,x2, alternative='two-sided')"
   ]
  },
  {
   "cell_type": "code",
   "execution_count": null,
   "metadata": {
    "id": "D-k06Lwi8Om9",
    "outputId": "00941195-0ad2-4cf2-c300-e4f9ae0323a9"
   },
   "outputs": [
    {
     "name": "stdout",
     "output_type": "stream",
     "text": [
      " the effectiveness of ammonium chloride and urea, on the grain yield of paddy is same\n"
     ]
    }
   ],
   "source": [
    "# pvalue   >   alpha 0.05\n",
    "#  Fail to reject null H0\n",
    "# there is not enough evidence to reject  the H0 that effectiveness of ammonium chloride and urea, on the grain yield of paddy is same\n",
    "print(\" the effectiveness of ammonium chloride and urea, on the grain yield of paddy is same\")"
   ]
  },
  {
   "cell_type": "markdown",
   "metadata": {
    "id": "O1NLd1Rp8Om_"
   },
   "source": [
    "### 3. paired t-test"
   ]
  },
  {
   "cell_type": "markdown",
   "metadata": {
    "id": "OvOlt64x8OnA"
   },
   "source": [
    "Data:Eleven schoolboys were given a test in Statistics. They were given a Month’s tuition and a\n",
    "second test were held at the end of it. Do the marks give evidence that the students have\n",
    "benefited from the exam coaching?\n",
    "\n",
    "Marks in 1st test: 23 20 19 21 18 20 18 17 23 16 19\n",
    "\n",
    "Marks in 2nd test: 24 19 22 18 20 22 20 20 23 20 18\n"
   ]
  },
  {
   "cell_type": "code",
   "execution_count": null,
   "metadata": {
    "id": "YNiWwmNc8OnB"
   },
   "outputs": [],
   "source": [
    "# # H0 : mu1=mu2 vs    H1 :  mu1 < mu2 (claim)\n",
    "\n",
    "x1=[23, 20 ,19 ,21, 18, 20 ,18, 17, 23, 16 ,19]\n",
    "x2=[24, 19, 22, 18 ,20, 22, 20, 20, 23, 20 ,18]\n",
    "\n",
    "# alpha =0.05"
   ]
  },
  {
   "cell_type": "code",
   "execution_count": null,
   "metadata": {
    "id": "yN5BbDvR8OnD",
    "outputId": "54852088-dfce-4df3-eefe-c3196c9ab05f"
   },
   "outputs": [
    {
     "data": {
      "text/plain": [
       "Ttest_relResult(statistic=-1.7073311796734163, pvalue=0.05928233823800569)"
      ]
     },
     "execution_count": 72,
     "metadata": {},
     "output_type": "execute_result"
    }
   ],
   "source": [
    "stats.ttest_rel(x1,x2, alternative='less')"
   ]
  },
  {
   "cell_type": "code",
   "execution_count": null,
   "metadata": {
    "id": "xfOfLV1g8OnF",
    "outputId": "909a9420-9f17-4b54-fabf-a2367e643371"
   },
   "outputs": [
    {
     "name": "stdout",
     "output_type": "stream",
     "text": [
      " conclusion : there is not enough evidence to support the claim that students have benefited from the exam coaching\n"
     ]
    }
   ],
   "source": [
    "# pvalue  >   alpha=0.05\n",
    "# fail to reject H0\n",
    "print(\" conclusion : there is not enough evidence to support the claim that \\\n",
    "students have benefited from the exam coaching\")"
   ]
  },
  {
   "cell_type": "markdown",
   "metadata": {
    "id": "sxkntaZF8OnG"
   },
   "source": [
    "### 4. One-sample z-test"
   ]
  },
  {
   "cell_type": "markdown",
   "metadata": {
    "id": "PGVFdMv38OnI"
   },
   "source": [
    "A school claimed that the students’ study that is more intelligent than the average school.\n",
    "On calculating the IQ scores of 50 students, the average turns out to be 11. The mean of\n",
    "the population IQ is 100 and the standard deviation is 15. State whether the claim of\n",
    "principal is right or not at a 5% significance level."
   ]
  },
  {
   "cell_type": "code",
   "execution_count": null,
   "metadata": {
    "id": "BBi9lCV58OnJ",
    "outputId": "5181c3e8-dc58-477c-d32b-a4292518c647"
   },
   "outputs": [
    {
     "name": "stdout",
     "output_type": "stream",
     "text": [
      "Z statistics is  4.714045207910317  and P value  is  :  1.2142337364462463e-06\n",
      "Reject Null Hypothesis\n"
     ]
    }
   ],
   "source": [
    "# H0 : mu=100 vs    H1 :  mu > 100 (claim)\n",
    "n=50\n",
    "xbar = 110\n",
    "sd=15\n",
    "sd_xbar = 15/math.sqrt(50)\n",
    "alpha =0.05\n",
    "mu =100\n",
    "  \n",
    "Z=(xbar-mu)/sd_xbar\n",
    "P_value=1-norm.cdf(Z)\n",
    "print('Z statistics is ', Z  ,\" and P value  is  : \", P_value)  \n",
    "if(p_value <  alpha):\n",
    "  print(\"Reject Null Hypothesis\")\n",
    "else:\n",
    "  print(\"Fail to Reject NUll Hypothesis\")"
   ]
  },
  {
   "cell_type": "code",
   "execution_count": null,
   "metadata": {
    "id": "aX2RyPJc8OnL",
    "outputId": "151ee70b-454f-4205-bce0-75a100fd235f"
   },
   "outputs": [
    {
     "name": "stdout",
     "output_type": "stream",
     "text": [
      " Conclusion : there is enough evidence to support the principle's  claim that the students’ study that is more intelligent than the average school\n"
     ]
    }
   ],
   "source": [
    "print(\" Conclusion : there is enough evidence to support the principle's  claim that \\\n",
    "the students’ study that is more intelligent than the average school\")"
   ]
  },
  {
   "cell_type": "markdown",
   "metadata": {
    "id": "awtLUDut8OnM"
   },
   "source": [
    "### 5. Two sample z-test"
   ]
  },
  {
   "cell_type": "markdown",
   "metadata": {
    "id": "K1nd_GRY8OnO"
   },
   "source": [
    "\n",
    "Suppose the IQ levels among individuals in two different cities are known to be normally\n",
    "distributed with known standard deviations.\n",
    "\n",
    "A researcher wants to know if the mean IQ level between individuals in city A and city B are\n",
    "different, so she selects a simple random sample of 20 individuals from each city and records\n",
    "their IQ levels. Use the below data given for estimation.\n",
    "\n",
    "cityA = [82, 84, 85, 89, 91, 91, 92, 94, 99, 99,\n",
    "105, 109, 109, 109, 110, 112, 112, 113, 114, 114]\n",
    "\n",
    "cityB = [90, 91, 91, 91, 95, 95, 99, 99, 108, 109,\n",
    "109, 114, 115, 116, 117, 117, 128, 129, 130, 133]"
   ]
  },
  {
   "cell_type": "code",
   "execution_count": null,
   "metadata": {
    "id": "pYLJ4DNa8OnP"
   },
   "outputs": [],
   "source": [
    "A= [82, 84, 85, 89, 91, 91, 92, 94, 99, 99, 105, 109, 109, 109, 110, 112, 112, 113, 114, 114]\n",
    "B= [90, 91, 91, 91, 95, 95, 99, 99, 108, 109, 109, 114, 115, 116, 117, 117, 128, 129, 130, 133]\n",
    "# sd is known means here we use Z test \n",
    "# # H0 : mu1 = mu2   vs    H1 :  mu1 (not=) mu2 (claim)\n",
    "n1=n2=20\n"
   ]
  },
  {
   "cell_type": "code",
   "execution_count": null,
   "metadata": {
    "id": "EzLaTxIp8OnQ",
    "outputId": "b00cb10f-1f07-4ceb-e0de-b7a362e50878"
   },
   "outputs": [
    {
     "name": "stdout",
     "output_type": "stream",
     "text": [
      " Z Cal value is :  -1.9953236073282115  P value is :  0.046007596761332065 \n",
      "\n",
      "Since this p-value is less than .05,we have sufficient evidence to reject the null hypothesis.inother words, the mean IQ level is significantly different between the two cities.\n"
     ]
    }
   ],
   "source": [
    "from statsmodels.stats.weightstats import ztest as ztest\n",
    "Zcal, pvalue=ztest(A,B)\n",
    "print(\" Z Cal value is : \",Zcal,\" P value is : \" ,pvalue,\"\\n\")\n",
    "# The test statistic for the two sample z-test is -1.9953 and the corresponding p-value is 0.0460.\n",
    "print( \"Since this p-value is less than .05,\\\n",
    "we have sufficient evidence to reject the null hypothesis.\\\n",
    "inother words, the mean IQ level is significantly different between the two cities.\")"
   ]
  },
  {
   "cell_type": "markdown",
   "metadata": {
    "id": "kMFuCroe8OnR"
   },
   "source": [
    "#### 6. Find the p-value associated with a z-score of -0.77 in a left-tailed hypothesis test. If we use the significance value of 0.05, what do you comment about the hypothesis acceptance."
   ]
  },
  {
   "cell_type": "code",
   "execution_count": null,
   "metadata": {
    "id": "7Nxp804l8OnT",
    "outputId": "17f9de50-fc1c-48d6-d5c3-06a618e451b4"
   },
   "outputs": [
    {
     "name": "stdout",
     "output_type": "stream",
     "text": [
      "pvalue is : 0.22064994634264962\n",
      "there is not enough evidence to reject the null hypothesis\n"
     ]
    }
   ],
   "source": [
    "Zcal=-0.77\n",
    "# left tailed hypothesis test\n",
    "alpha=0.05\n",
    "pvalue=norm.cdf(Zcal)\n",
    "print(\"pvalue is :\",pvalue)\n",
    "# pvalue is > alpha\n",
    "# fail to reject HO (null hypothesis)\n",
    "print(\"there is not enough evidence to reject the null hypothesis\")"
   ]
  },
  {
   "cell_type": "code",
   "execution_count": null,
   "metadata": {
    "id": "4hkPq8ZH8OnU"
   },
   "outputs": [],
   "source": []
  },
  {
   "cell_type": "markdown",
   "metadata": {
    "id": "QQUASRUn8OnV"
   },
   "source": [
    "#### 7. Suppose we want to find the p-value associated with a z-score of 1.87 in a righttailed hypothesis test. If we use the significance value of 0.05, what do you comment about the hypothesis acceptance."
   ]
  },
  {
   "cell_type": "code",
   "execution_count": null,
   "metadata": {
    "id": "mwHKJnhy8OnW",
    "outputId": "08c843e8-8971-4cad-9919-c976ebdd4936"
   },
   "outputs": [
    {
     "name": "stdout",
     "output_type": "stream",
     "text": [
      "pvalue is : 0.030741908929465933\n",
      "there is enough evidence to reject the null hypothesis\n"
     ]
    }
   ],
   "source": [
    "Zcal=1.87\n",
    "# right tailed hypothesis test\n",
    "alpha=0.05\n",
    "pvalue=1-norm.cdf(Zcal)\n",
    "print(\"pvalue is :\",pvalue)\n",
    "# pvalue is < alpha\n",
    "# reject HO (null hypothesis)\n",
    "print(\"there is enough evidence to reject the null hypothesis\")"
   ]
  },
  {
   "cell_type": "code",
   "execution_count": null,
   "metadata": {
    "id": "Qgd_96iL8OnX"
   },
   "outputs": [],
   "source": []
  },
  {
   "cell_type": "markdown",
   "metadata": {
    "id": "toqfBp-h8OnY"
   },
   "source": [
    "#### 8. Suppose we want to find the p-value associated with a z-score of 1.24 in a two-tailed hypothesis test. If we use the significance value of 0.05, what do you comment about the hypothesis acceptance."
   ]
  },
  {
   "cell_type": "code",
   "execution_count": null,
   "metadata": {
    "id": "QZ0Nr0wg8OnZ",
    "outputId": "d4aefa2f-59cd-447d-cbf7-11e6342c4abf"
   },
   "outputs": [
    {
     "name": "stdout",
     "output_type": "stream",
     "text": [
      "pvalue is : 0.21497539414917388\n",
      "there is enough evidence to reject the null hypothesis\n"
     ]
    }
   ],
   "source": [
    "Zcal=1.24\n",
    "# Two-tailed hypothesis test\n",
    "alpha=0.05\n",
    "pvalue=norm.cdf(-Zcal)+(1-norm.cdf(Zcal))\n",
    "print(\"pvalue is :\",pvalue)\n",
    "# pvalue is > alpha\n",
    "# fail to reject HO (null hypothesis)\n",
    "print(\"there is not enough evidence to reject the null hypothesis\")"
   ]
  },
  {
   "cell_type": "markdown",
   "metadata": {
    "id": "zHLldTD58Ona"
   },
   "source": [
    "#### 9. Suppose we want to find the p-value associated with a t-score of 1.24 and df = 22 in a two-tailed hypothesis test. If we use the significance value of 0.05, what do you comment about the hypothesis acceptance."
   ]
  },
  {
   "cell_type": "code",
   "execution_count": null,
   "metadata": {
    "id": "rTdwGIJK8Onb",
    "outputId": "d3785526-8ee7-4ee0-87be-0c89cc3ed710"
   },
   "outputs": [
    {
     "name": "stdout",
     "output_type": "stream",
     "text": [
      "pvalue  is :  0.22865296974500898\n",
      "there is not enough evidence to reject the null hypothesis\n"
     ]
    }
   ],
   "source": [
    "tcal=1.24\n",
    "df=22\n",
    "# two tailed test\n",
    "alpha=0.05\n",
    "pvaluet=stats.t.cdf(x= -1.24, df= 21)+(1-stats.t.cdf(x= 1.24, df= 21))\n",
    "pvaluet\n",
    "print( \"pvalue  is : \",pvaluet)\n",
    "# Pvalue > alpha(0.05)\n",
    "# fail to reject HO (null hypothesis)\n",
    "print(\"there is not enough evidence to reject the null hypothesis\")"
   ]
  },
  {
   "cell_type": "code",
   "execution_count": null,
   "metadata": {
    "id": "ZJciKOED8Onc"
   },
   "outputs": [],
   "source": [
    "\n",
    "\n",
    "\n"
   ]
  },
  {
   "cell_type": "markdown",
   "metadata": {
    "id": "HC7Jpp308One"
   },
   "source": [
    "## One way ANOVA"
   ]
  },
  {
   "cell_type": "code",
   "execution_count": 2,
   "metadata": {
    "id": "w2SVlgZr8One"
   },
   "outputs": [],
   "source": [
    "import os\n",
    "import random\n",
    "\n",
    "import statsmodels.api as sm\n",
    "import statsmodels.stats.multicomp\n",
    "\n",
    "from statsmodels.formula.api import ols\n",
    "from statsmodels.stats.anova import anova_lm\n",
    "import matplotlib.pyplot as plt\n",
    "from scipy import stats\n",
    "import seaborn as sns"
   ]
  },
  {
   "cell_type": "code",
   "execution_count": 6,
   "metadata": {
    "id": "i9TWCTwa8Onf",
    "outputId": "4e80148a-4c9f-4dcc-e05d-5cc82058a41e",
    "scrolled": true
   },
   "outputs": [
    {
     "data": {
      "text/html": [
       "<div>\n",
       "<style scoped>\n",
       "    .dataframe tbody tr th:only-of-type {\n",
       "        vertical-align: middle;\n",
       "    }\n",
       "\n",
       "    .dataframe tbody tr th {\n",
       "        vertical-align: top;\n",
       "    }\n",
       "\n",
       "    .dataframe thead th {\n",
       "        text-align: right;\n",
       "    }\n",
       "</style>\n",
       "<table border=\"1\" class=\"dataframe\">\n",
       "  <thead>\n",
       "    <tr style=\"text-align: right;\">\n",
       "      <th></th>\n",
       "      <th>Sno</th>\n",
       "      <th>State / Union Territory</th>\n",
       "      <th>Population</th>\n",
       "      <th>Rural population</th>\n",
       "      <th>Urban population</th>\n",
       "      <th>Area</th>\n",
       "      <th>Density</th>\n",
       "      <th>Gender Ratio</th>\n",
       "    </tr>\n",
       "  </thead>\n",
       "  <tbody>\n",
       "    <tr>\n",
       "      <th>0</th>\n",
       "      <td>1</td>\n",
       "      <td>Uttar Pradesh</td>\n",
       "      <td>199812341</td>\n",
       "      <td>155317278</td>\n",
       "      <td>44495063</td>\n",
       "      <td>240,928 km2 (93,023 sq mi)</td>\n",
       "      <td>828/km2 (2,140/sq mi)</td>\n",
       "      <td>912</td>\n",
       "    </tr>\n",
       "    <tr>\n",
       "      <th>1</th>\n",
       "      <td>2</td>\n",
       "      <td>Maharashtra</td>\n",
       "      <td>112374333</td>\n",
       "      <td>61556074</td>\n",
       "      <td>50818259</td>\n",
       "      <td>307,713 km2 (118,809 sq mi)</td>\n",
       "      <td>365/km2 (950/sq mi)</td>\n",
       "      <td>929</td>\n",
       "    </tr>\n",
       "    <tr>\n",
       "      <th>2</th>\n",
       "      <td>3</td>\n",
       "      <td>Bihar</td>\n",
       "      <td>104099452</td>\n",
       "      <td>92341436</td>\n",
       "      <td>11758016</td>\n",
       "      <td>94,163 km2 (36,357 sq mi)</td>\n",
       "      <td>1,102/km2 (2,850/sq mi)</td>\n",
       "      <td>918</td>\n",
       "    </tr>\n",
       "    <tr>\n",
       "      <th>3</th>\n",
       "      <td>4</td>\n",
       "      <td>West Bengal</td>\n",
       "      <td>91276115</td>\n",
       "      <td>62183113</td>\n",
       "      <td>29093002</td>\n",
       "      <td>88,752 km2 (34,267 sq mi)</td>\n",
       "      <td>1,029/km2 (2,670/sq mi)</td>\n",
       "      <td>953</td>\n",
       "    </tr>\n",
       "    <tr>\n",
       "      <th>4</th>\n",
       "      <td>5</td>\n",
       "      <td>Madhya Pradesh</td>\n",
       "      <td>72626809</td>\n",
       "      <td>52557404</td>\n",
       "      <td>20069405</td>\n",
       "      <td>308,245 km2 (119,014 sq mi)</td>\n",
       "      <td>236/km2 (610/sq mi)</td>\n",
       "      <td>931</td>\n",
       "    </tr>\n",
       "  </tbody>\n",
       "</table>\n",
       "</div>"
      ],
      "text/plain": [
       "   Sno State / Union Territory  Population  Rural population  \\\n",
       "0    1           Uttar Pradesh   199812341         155317278   \n",
       "1    2             Maharashtra   112374333          61556074   \n",
       "2    3                   Bihar   104099452          92341436   \n",
       "3    4             West Bengal    91276115          62183113   \n",
       "4    5          Madhya Pradesh    72626809          52557404   \n",
       "\n",
       "   Urban population                         Area                  Density  \\\n",
       "0          44495063   240,928 km2 (93,023 sq mi)    828/km2 (2,140/sq mi)   \n",
       "1          50818259  307,713 km2 (118,809 sq mi)      365/km2 (950/sq mi)   \n",
       "2          11758016    94,163 km2 (36,357 sq mi)  1,102/km2 (2,850/sq mi)   \n",
       "3          29093002    88,752 km2 (34,267 sq mi)  1,029/km2 (2,670/sq mi)   \n",
       "4          20069405  308,245 km2 (119,014 sq mi)      236/km2 (610/sq mi)   \n",
       "\n",
       "   Gender Ratio  \n",
       "0           912  \n",
       "1           929  \n",
       "2           918  \n",
       "3           953  \n",
       "4           931  "
      ]
     },
     "execution_count": 6,
     "metadata": {},
     "output_type": "execute_result"
    }
   ],
   "source": [
    "StateD=pd.read_csv('C:\\\\Users\\\\Mohan\\\\Desktop\\\\StatewiseTestingDetails.csv')\n",
    "popD=pd.read_csv('C:\\\\Users\\\\Mohan\\\\Desktop\\\\population_india_census.csv')\n",
    "popD.head()\n"
   ]
  },
  {
   "cell_type": "code",
   "execution_count": 7,
   "metadata": {
    "id": "S0dr9e1j8Ong"
   },
   "outputs": [],
   "source": [
    "\n",
    "popD.rename(columns = {'State / Union Territory': 'State'}, inplace = True)\n"
   ]
  },
  {
   "cell_type": "code",
   "execution_count": 8,
   "metadata": {
    "id": "6L-lIsSy8Onh",
    "outputId": "8060971d-7d9e-4ff9-b459-5c8c3adf87ac"
   },
   "outputs": [
    {
     "data": {
      "text/html": [
       "<div>\n",
       "<style scoped>\n",
       "    .dataframe tbody tr th:only-of-type {\n",
       "        vertical-align: middle;\n",
       "    }\n",
       "\n",
       "    .dataframe tbody tr th {\n",
       "        vertical-align: top;\n",
       "    }\n",
       "\n",
       "    .dataframe thead th {\n",
       "        text-align: right;\n",
       "    }\n",
       "</style>\n",
       "<table border=\"1\" class=\"dataframe\">\n",
       "  <thead>\n",
       "    <tr style=\"text-align: right;\">\n",
       "      <th></th>\n",
       "      <th>Date</th>\n",
       "      <th>State</th>\n",
       "      <th>TotalSamples</th>\n",
       "      <th>Negative</th>\n",
       "      <th>Positive</th>\n",
       "    </tr>\n",
       "  </thead>\n",
       "  <tbody>\n",
       "    <tr>\n",
       "      <th>0</th>\n",
       "      <td>2020-02-17</td>\n",
       "      <td>Kerala</td>\n",
       "      <td>423</td>\n",
       "      <td>406.0</td>\n",
       "      <td>3</td>\n",
       "    </tr>\n",
       "    <tr>\n",
       "      <th>1</th>\n",
       "      <td>2020-02-18</td>\n",
       "      <td>Kerala</td>\n",
       "      <td>425</td>\n",
       "      <td>420.0</td>\n",
       "      <td>3</td>\n",
       "    </tr>\n",
       "    <tr>\n",
       "      <th>2</th>\n",
       "      <td>2020-02-19</td>\n",
       "      <td>Kerala</td>\n",
       "      <td>432</td>\n",
       "      <td>423.0</td>\n",
       "      <td>3</td>\n",
       "    </tr>\n",
       "    <tr>\n",
       "      <th>3</th>\n",
       "      <td>2020-02-20</td>\n",
       "      <td>Kerala</td>\n",
       "      <td>433</td>\n",
       "      <td>423.0</td>\n",
       "      <td>3</td>\n",
       "    </tr>\n",
       "    <tr>\n",
       "      <th>4</th>\n",
       "      <td>2020-02-21</td>\n",
       "      <td>Kerala</td>\n",
       "      <td>437</td>\n",
       "      <td>426.0</td>\n",
       "      <td>3</td>\n",
       "    </tr>\n",
       "  </tbody>\n",
       "</table>\n",
       "</div>"
      ],
      "text/plain": [
       "         Date   State  TotalSamples  Negative  Positive\n",
       "0  2020-02-17  Kerala           423     406.0         3\n",
       "1  2020-02-18  Kerala           425     420.0         3\n",
       "2  2020-02-19  Kerala           432     423.0         3\n",
       "3  2020-02-20  Kerala           433     423.0         3\n",
       "4  2020-02-21  Kerala           437     426.0         3"
      ]
     },
     "execution_count": 8,
     "metadata": {},
     "output_type": "execute_result"
    }
   ],
   "source": [
    "StateD.head()"
   ]
  },
  {
   "cell_type": "code",
   "execution_count": 9,
   "metadata": {
    "id": "YEL5rBfh8Oni"
   },
   "outputs": [],
   "source": [
    "stateMedianData=StateD.groupby('State')[['Positive']].median().reset_index().rename(columns={'Positive':'Median'})\n",
    "stateMedianData.head()\n",
    "for index,row in StateD.iterrows():\n",
    "    if pd.isnull(row['Positive']):\n",
    "        StateD['Positive'][index]=int(stateMedianData['Median'][stateMedianData['State']==row['State']])\n",
    "#Merge StatewiseTestingDetails & population_india_census2011 dataframes\n",
    "data=pd.merge(StateD,popD,on='State')"
   ]
  },
  {
   "cell_type": "code",
   "execution_count": 10,
   "metadata": {
    "id": "sfJxp2jI8Onj"
   },
   "outputs": [],
   "source": [
    "def densityCheck(data):\n",
    "    data['density_Group']=0\n",
    "    for index,row in data.iterrows():\n",
    "        status=None\n",
    "        i=row['Density'].split('/')[0]\n",
    "        try:\n",
    "            if (',' in i):\n",
    "                i=int(i.split(',')[0]+i.split(',')[1])\n",
    "            elif ('.' in i):\n",
    "                i=round(float(i))\n",
    "            else:\n",
    "                i=int(i)\n",
    "        except ValueError as err:\n",
    "            pass\n",
    "        try:\n",
    "            if (0<i<=300):\n",
    "                status='Dense1'\n",
    "            elif (300<i<=600):\n",
    "                status='Dense2'\n",
    "            elif (600<i<=900):\n",
    "                status='Dense3'\n",
    "            else:\n",
    "                status='Dense4'\n",
    "        except ValueError as err:\n",
    "            pass\n",
    "        data['density_Group'].iloc[index]=status\n",
    "    return data"
   ]
  },
  {
   "cell_type": "code",
   "execution_count": 11,
   "metadata": {
    "id": "T119tNTf8Onk",
    "outputId": "f912b963-70c9-49fd-da30-240c7feeb14a"
   },
   "outputs": [
    {
     "name": "stderr",
     "output_type": "stream",
     "text": [
      "C:\\Users\\Mohan\\anaconda33\\lib\\site-packages\\pandas\\core\\indexing.py:670: SettingWithCopyWarning: \n",
      "A value is trying to be set on a copy of a slice from a DataFrame\n",
      "\n",
      "See the caveats in the documentation: https://pandas.pydata.org/pandas-docs/stable/user_guide/indexing.html#returning-a-view-versus-a-copy\n",
      "  iloc._setitem_with_indexer(indexer, value)\n"
     ]
    },
    {
     "data": {
      "text/html": [
       "<div>\n",
       "<style scoped>\n",
       "    .dataframe tbody tr th:only-of-type {\n",
       "        vertical-align: middle;\n",
       "    }\n",
       "\n",
       "    .dataframe tbody tr th {\n",
       "        vertical-align: top;\n",
       "    }\n",
       "\n",
       "    .dataframe thead th {\n",
       "        text-align: right;\n",
       "    }\n",
       "</style>\n",
       "<table border=\"1\" class=\"dataframe\">\n",
       "  <thead>\n",
       "    <tr style=\"text-align: right;\">\n",
       "      <th></th>\n",
       "      <th>State</th>\n",
       "      <th>density_Group</th>\n",
       "    </tr>\n",
       "  </thead>\n",
       "  <tbody>\n",
       "    <tr>\n",
       "      <th>138</th>\n",
       "      <td>Andhra Pradesh</td>\n",
       "      <td>Dense2</td>\n",
       "    </tr>\n",
       "    <tr>\n",
       "      <th>172</th>\n",
       "      <td>Chandigarh</td>\n",
       "      <td>Dense4</td>\n",
       "    </tr>\n",
       "    <tr>\n",
       "      <th>124</th>\n",
       "      <td>Delhi</td>\n",
       "      <td>Dense4</td>\n",
       "    </tr>\n",
       "    <tr>\n",
       "      <th>191</th>\n",
       "      <td>Gujarat</td>\n",
       "      <td>Dense2</td>\n",
       "    </tr>\n",
       "    <tr>\n",
       "      <th>176</th>\n",
       "      <td>Jammu and Kashmir</td>\n",
       "      <td>Dense1</td>\n",
       "    </tr>\n",
       "    <tr>\n",
       "      <th>95</th>\n",
       "      <td>Karnataka</td>\n",
       "      <td>Dense2</td>\n",
       "    </tr>\n",
       "    <tr>\n",
       "      <th>0</th>\n",
       "      <td>Kerala</td>\n",
       "      <td>Dense3</td>\n",
       "    </tr>\n",
       "    <tr>\n",
       "      <th>142</th>\n",
       "      <td>Madhya Pradesh</td>\n",
       "      <td>Dense1</td>\n",
       "    </tr>\n",
       "    <tr>\n",
       "      <th>184</th>\n",
       "      <td>Maharashtra</td>\n",
       "      <td>Dense2</td>\n",
       "    </tr>\n",
       "    <tr>\n",
       "      <th>152</th>\n",
       "      <td>Odisha</td>\n",
       "      <td>Dense1</td>\n",
       "    </tr>\n",
       "    <tr>\n",
       "      <th>162</th>\n",
       "      <td>Punjab</td>\n",
       "      <td>Dense2</td>\n",
       "    </tr>\n",
       "    <tr>\n",
       "      <th>197</th>\n",
       "      <td>Rajasthan</td>\n",
       "      <td>Dense1</td>\n",
       "    </tr>\n",
       "    <tr>\n",
       "      <th>54</th>\n",
       "      <td>Tamil Nadu</td>\n",
       "      <td>Dense2</td>\n",
       "    </tr>\n",
       "  </tbody>\n",
       "</table>\n",
       "</div>"
      ],
      "text/plain": [
       "                 State density_Group\n",
       "138     Andhra Pradesh        Dense2\n",
       "172         Chandigarh        Dense4\n",
       "124              Delhi        Dense4\n",
       "191            Gujarat        Dense2\n",
       "176  Jammu and Kashmir        Dense1\n",
       "95           Karnataka        Dense2\n",
       "0               Kerala        Dense3\n",
       "142     Madhya Pradesh        Dense1\n",
       "184        Maharashtra        Dense2\n",
       "152             Odisha        Dense1\n",
       "162             Punjab        Dense2\n",
       "197          Rajasthan        Dense1\n",
       "54          Tamil Nadu        Dense2"
      ]
     },
     "execution_count": 11,
     "metadata": {},
     "output_type": "execute_result"
    }
   ],
   "source": [
    "data=densityCheck(data)\n",
    "#We'll export this data so we can use it for Two - way ANOVA test.\n",
    "stateDensity=data[['State','density_Group']].drop_duplicates().sort_values(by='State')\n",
    "stateDensity"
   ]
  },
  {
   "cell_type": "code",
   "execution_count": 12,
   "metadata": {
    "id": "sOU55aZy8Onl",
    "outputId": "af35b81d-fffd-4d40-8c7a-617db7a84ed2"
   },
   "outputs": [
    {
     "data": {
      "text/html": [
       "<div>\n",
       "<style scoped>\n",
       "    .dataframe tbody tr th:only-of-type {\n",
       "        vertical-align: middle;\n",
       "    }\n",
       "\n",
       "    .dataframe tbody tr th {\n",
       "        vertical-align: top;\n",
       "    }\n",
       "\n",
       "    .dataframe thead th {\n",
       "        text-align: right;\n",
       "    }\n",
       "</style>\n",
       "<table border=\"1\" class=\"dataframe\">\n",
       "  <thead>\n",
       "    <tr style=\"text-align: right;\">\n",
       "      <th></th>\n",
       "      <th>Date</th>\n",
       "      <th>State</th>\n",
       "      <th>TotalSamples</th>\n",
       "      <th>Negative</th>\n",
       "      <th>Positive</th>\n",
       "      <th>Sno</th>\n",
       "      <th>Population</th>\n",
       "      <th>Rural population</th>\n",
       "      <th>Urban population</th>\n",
       "      <th>Area</th>\n",
       "      <th>Density</th>\n",
       "      <th>Gender Ratio</th>\n",
       "      <th>density_Group</th>\n",
       "    </tr>\n",
       "  </thead>\n",
       "  <tbody>\n",
       "    <tr>\n",
       "      <th>0</th>\n",
       "      <td>2020-02-17</td>\n",
       "      <td>Kerala</td>\n",
       "      <td>423</td>\n",
       "      <td>406.0</td>\n",
       "      <td>3</td>\n",
       "      <td>13</td>\n",
       "      <td>33406061</td>\n",
       "      <td>17471135</td>\n",
       "      <td>15934926</td>\n",
       "      <td>38,863 km2 (15,005 sq mi)</td>\n",
       "      <td>859/km2 (2,220/sq mi)</td>\n",
       "      <td>1084</td>\n",
       "      <td>Dense3</td>\n",
       "    </tr>\n",
       "    <tr>\n",
       "      <th>1</th>\n",
       "      <td>2020-02-18</td>\n",
       "      <td>Kerala</td>\n",
       "      <td>425</td>\n",
       "      <td>420.0</td>\n",
       "      <td>3</td>\n",
       "      <td>13</td>\n",
       "      <td>33406061</td>\n",
       "      <td>17471135</td>\n",
       "      <td>15934926</td>\n",
       "      <td>38,863 km2 (15,005 sq mi)</td>\n",
       "      <td>859/km2 (2,220/sq mi)</td>\n",
       "      <td>1084</td>\n",
       "      <td>Dense3</td>\n",
       "    </tr>\n",
       "    <tr>\n",
       "      <th>2</th>\n",
       "      <td>2020-02-19</td>\n",
       "      <td>Kerala</td>\n",
       "      <td>432</td>\n",
       "      <td>423.0</td>\n",
       "      <td>3</td>\n",
       "      <td>13</td>\n",
       "      <td>33406061</td>\n",
       "      <td>17471135</td>\n",
       "      <td>15934926</td>\n",
       "      <td>38,863 km2 (15,005 sq mi)</td>\n",
       "      <td>859/km2 (2,220/sq mi)</td>\n",
       "      <td>1084</td>\n",
       "      <td>Dense3</td>\n",
       "    </tr>\n",
       "    <tr>\n",
       "      <th>3</th>\n",
       "      <td>2020-02-20</td>\n",
       "      <td>Kerala</td>\n",
       "      <td>433</td>\n",
       "      <td>423.0</td>\n",
       "      <td>3</td>\n",
       "      <td>13</td>\n",
       "      <td>33406061</td>\n",
       "      <td>17471135</td>\n",
       "      <td>15934926</td>\n",
       "      <td>38,863 km2 (15,005 sq mi)</td>\n",
       "      <td>859/km2 (2,220/sq mi)</td>\n",
       "      <td>1084</td>\n",
       "      <td>Dense3</td>\n",
       "    </tr>\n",
       "    <tr>\n",
       "      <th>4</th>\n",
       "      <td>2020-02-21</td>\n",
       "      <td>Kerala</td>\n",
       "      <td>437</td>\n",
       "      <td>426.0</td>\n",
       "      <td>3</td>\n",
       "      <td>13</td>\n",
       "      <td>33406061</td>\n",
       "      <td>17471135</td>\n",
       "      <td>15934926</td>\n",
       "      <td>38,863 km2 (15,005 sq mi)</td>\n",
       "      <td>859/km2 (2,220/sq mi)</td>\n",
       "      <td>1084</td>\n",
       "      <td>Dense3</td>\n",
       "    </tr>\n",
       "  </tbody>\n",
       "</table>\n",
       "</div>"
      ],
      "text/plain": [
       "         Date   State  TotalSamples  Negative  Positive  Sno  Population  \\\n",
       "0  2020-02-17  Kerala           423     406.0         3   13    33406061   \n",
       "1  2020-02-18  Kerala           425     420.0         3   13    33406061   \n",
       "2  2020-02-19  Kerala           432     423.0         3   13    33406061   \n",
       "3  2020-02-20  Kerala           433     423.0         3   13    33406061   \n",
       "4  2020-02-21  Kerala           437     426.0         3   13    33406061   \n",
       "\n",
       "   Rural population  Urban population                       Area  \\\n",
       "0          17471135          15934926  38,863 km2 (15,005 sq mi)   \n",
       "1          17471135          15934926  38,863 km2 (15,005 sq mi)   \n",
       "2          17471135          15934926  38,863 km2 (15,005 sq mi)   \n",
       "3          17471135          15934926  38,863 km2 (15,005 sq mi)   \n",
       "4          17471135          15934926  38,863 km2 (15,005 sq mi)   \n",
       "\n",
       "                 Density  Gender Ratio density_Group  \n",
       "0  859/km2 (2,220/sq mi)          1084        Dense3  \n",
       "1  859/km2 (2,220/sq mi)          1084        Dense3  \n",
       "2  859/km2 (2,220/sq mi)          1084        Dense3  \n",
       "3  859/km2 (2,220/sq mi)          1084        Dense3  \n",
       "4  859/km2 (2,220/sq mi)          1084        Dense3  "
      ]
     },
     "execution_count": 12,
     "metadata": {},
     "output_type": "execute_result"
    }
   ],
   "source": [
    "data.head()"
   ]
  },
  {
   "cell_type": "code",
   "execution_count": null,
   "metadata": {
    "id": "TU9dzumX8Onn"
   },
   "outputs": [],
   "source": []
  },
  {
   "cell_type": "code",
   "execution_count": 13,
   "metadata": {
    "id": "fznauu198Ono"
   },
   "outputs": [],
   "source": [
    "df=pd.DataFrame({'Dense1':data[data['density_Group']=='Dense1']['Positive'],\n",
    "                 'Dense2':data[data['density_Group']=='Dense2']['Positive'],\n",
    "                 'Dense3':data[data['density_Group']=='Dense3']['Positive'],\n",
    "                 'Dense4':data[data['density_Group']=='Dense4']['Positive']})"
   ]
  },
  {
   "cell_type": "code",
   "execution_count": 14,
   "metadata": {
    "id": "SK0lteio8Onp"
   },
   "outputs": [],
   "source": [
    "np.random.seed(1234)\n",
    "dataNew=pd.DataFrame({'Dense1':random.sample(list(data['Positive'][data['density_Group']=='Dense1']), 10),\n",
    "'Dense2':random.sample(list(data['Positive'][data['density_Group']=='Dense1']), 10),\n",
    "'Dense3':random.sample(list(data['Positive'][data['density_Group']=='Dense1']), 10),\n",
    "'Dense4':random.sample(list(data['Positive'][data['density_Group']=='Dense1']), 10)})"
   ]
  },
  {
   "cell_type": "code",
   "execution_count": 15,
   "metadata": {
    "id": "b7LrbIv78Onq"
   },
   "outputs": [],
   "source": [
    "dataNew['Dense1'],fitted_lambda = stats.boxcox(dataNew['Dense1'])\n",
    "dataNew['Dense2'],fitted_lambda = stats.boxcox(dataNew['Dense2'])\n",
    "dataNew['Dense3'],fitted_lambda = stats.boxcox(dataNew['Dense3'])\n",
    "dataNew['Dense4'],fitted_lambda = stats.boxcox(dataNew['Dense4'])"
   ]
  },
  {
   "cell_type": "code",
   "execution_count": 16,
   "metadata": {
    "id": "2j3iv8uA8Onr",
    "outputId": "c33e218a-7d10-4bf3-a5f0-a3bd0697e727"
   },
   "outputs": [
    {
     "data": {
      "image/png": "[encoded data removed]",
      "text/plain": [
       "<Figure size 432x288 with 1 Axes>"
      ]
     },
     "metadata": {
      "needs_background": "light"
     },
     "output_type": "display_data"
    },
    {
     "data": {
      "image/png": "[encoded data removed]",
      "text/plain": [
       "<Figure size 432x288 with 1 Axes>"
      ]
     },
     "metadata": {
      "needs_background": "light"
     },
     "output_type": "display_data"
    },
    {
     "data": {
      "image/png": "[encoded data removed]",
      "text/plain": [
       "<Figure size 432x288 with 1 Axes>"
      ]
     },
     "metadata": {
      "needs_background": "light"
     },
     "output_type": "display_data"
    },
    {
     "data": {
      "image/png": "[encoded data removed]",
      "text/plain": [
       "<Figure size 432x288 with 1 Axes>"
      ]
     },
     "metadata": {
      "needs_background": "light"
     },
     "output_type": "display_data"
    }
   ],
   "source": [
    "import matplotlib.pyplot as plt\n",
    "import seaborn as sns\n",
    "ax = sns.boxplot(x='Dense1', data=dataNew, color='#99c2a2')\n",
    "ax = sns.swarmplot(x='Dense1', data=dataNew, color='#7d0013')\n",
    "plt.show()\n",
    "ax = sns.boxplot(x='Dense2', data=dataNew, color='#99c2a2')\n",
    "ax = sns.swarmplot(x='Dense2', data=dataNew, color='#7d0013')\n",
    "plt.show()\n",
    "ax = sns.boxplot(x='Dense3', data=dataNew, color='#99c2a2')\n",
    "ax = sns.swarmplot(x='Dense3', data=dataNew, color='#7d0013')\n",
    "plt.show()\n",
    "ax = sns.boxplot(x='Dense4', data=dataNew, color='#99c2a2')\n",
    "ax = sns.swarmplot(x='Dense4', data=dataNew, color='#7d0013')\n",
    "plt.show()"
   ]
  },
  {
   "cell_type": "code",
   "execution_count": 17,
   "metadata": {
    "id": "mV1Gaxlw8Ons",
    "outputId": "a6aa021f-cde9-4d78-c882-9fd3a4c66bce"
   },
   "outputs": [
    {
     "name": "stdout",
     "output_type": "stream",
     "text": [
      "F-Statistic=15.188, p=0.000\n"
     ]
    }
   ],
   "source": [
    "F, p = stats.f_oneway(dataNew['Dense1'],dataNew['Dense2'],dataNew['Dense3'],dataNew['Dense4'])\n",
    "# Seeing if the overall model is significant\n",
    "print('F-Statistic=%.3f, p=%.3f' % (F, p))"
   ]
  },
  {
   "cell_type": "code",
   "execution_count": 19,
   "metadata": {
    "id": "cl3i1Wo88On8"
   },
   "outputs": [
    {
     "name": "stdout",
     "output_type": "stream",
     "text": [
      " here p value is  1.5056597710857023e-06  < lapha (0.05) ::: reject H0: m1=m2=m3=m4\n",
      " From p value we conclude that at means of atleast two dense is not same.\n"
     ]
    }
   ],
   "source": [
    "alpha=0.05\n",
    "# pvalue < alpha\n",
    "# hypothesis is  H0 : m1=m2=m3=m4 vs H1 : at least mi not= mj , i,j=1,2,3,4\n",
    "# reject H0\n",
    "#conclusion : \n",
    "print(\" here p value is \" ,p,\" < lapha (0.05) ::: reject H0: m1=m2=m3=m4\" )\n",
    "print( \" From p value we conclude that at means of atleast two dense is not same.\")"
   ]
  },
  {
   "cell_type": "markdown",
   "metadata": {
    "id": "aXXM9oxs8On-"
   },
   "source": [
    "# Two way Anova"
   ]
  },
  {
   "cell_type": "code",
   "execution_count": 7,
   "metadata": {
    "id": "H8FEiWGK8On-"
   },
   "outputs": [],
   "source": [
    "d=pd.read_csv(\"https://reneshbedre.github.io/assets/posts/anova/twowayanova.txt\", sep=\"\\t\")"
   ]
  },
  {
   "cell_type": "code",
   "execution_count": 8,
   "metadata": {
    "colab": {
     "base_uri": "https://localhost:8080/",
     "height": 206
    },
    "id": "NONHPHCp8On-",
    "outputId": "388ee6c1-4129-4901-bb7e-a267dcbc2aa9"
   },
   "outputs": [
    {
     "data": {
      "text/html": [
       "\n",
       "  <div id=\"df-05e5f7d7-14b5-49bf-b63f-1d7360edd4e3\">\n",
       "    <div class=\"colab-df-container\">\n",
       "      <div>\n",
       "<style scoped>\n",
       "    .dataframe tbody tr th:only-of-type {\n",
       "        vertical-align: middle;\n",
       "    }\n",
       "\n",
       "    .dataframe tbody tr th {\n",
       "        vertical-align: top;\n",
       "    }\n",
       "\n",
       "    .dataframe thead th {\n",
       "        text-align: right;\n",
       "    }\n",
       "</style>\n",
       "<table border=\"1\" class=\"dataframe\">\n",
       "  <thead>\n",
       "    <tr style=\"text-align: right;\">\n",
       "      <th></th>\n",
       "      <th>Genotype</th>\n",
       "      <th>1_year</th>\n",
       "      <th>2_year</th>\n",
       "      <th>3_year</th>\n",
       "    </tr>\n",
       "  </thead>\n",
       "  <tbody>\n",
       "    <tr>\n",
       "      <th>0</th>\n",
       "      <td>A</td>\n",
       "      <td>1.53</td>\n",
       "      <td>4.08</td>\n",
       "      <td>6.69</td>\n",
       "    </tr>\n",
       "    <tr>\n",
       "      <th>1</th>\n",
       "      <td>A</td>\n",
       "      <td>1.83</td>\n",
       "      <td>3.84</td>\n",
       "      <td>5.97</td>\n",
       "    </tr>\n",
       "    <tr>\n",
       "      <th>2</th>\n",
       "      <td>A</td>\n",
       "      <td>1.38</td>\n",
       "      <td>3.96</td>\n",
       "      <td>6.33</td>\n",
       "    </tr>\n",
       "    <tr>\n",
       "      <th>3</th>\n",
       "      <td>B</td>\n",
       "      <td>3.60</td>\n",
       "      <td>5.70</td>\n",
       "      <td>8.55</td>\n",
       "    </tr>\n",
       "    <tr>\n",
       "      <th>4</th>\n",
       "      <td>B</td>\n",
       "      <td>2.94</td>\n",
       "      <td>5.07</td>\n",
       "      <td>7.95</td>\n",
       "    </tr>\n",
       "  </tbody>\n",
       "</table>\n",
       "</div>\n",
       "      <button class=\"colab-df-convert\" onclick=\"convertToInteractive('df-05e5f7d7-14b5-49bf-b63f-1d7360edd4e3')\"\n",
       "              title=\"Convert this dataframe to an interactive table.\"\n",
       "              style=\"display:none;\">\n",
       "        \n",
       "  <svg xmlns=\"http://www.w3.org/2000/svg\" height=\"24px\"viewBox=\"0 0 24 24\"\n",
       "       width=\"24px\">\n",
       "    <path d=\"M0 0h24v24H0V0z\" fill=\"none\"/>\n",
       "    <path d=\"M18.56 5.44l.94 2.06.94-2.06 2.06-.94-2.06-.94-.94-2.06-.94 2.06-2.06.94zm-11 1L8.5 8.5l.94-2.06 2.06-.94-2.06-.94L8.5 2.5l-.94 2.06-2.06.94zm10 10l.94 2.06.94-2.06 2.06-.94-2.06-.94-.94-2.06-.94 2.06-2.06.94z\"/><path d=\"M17.41 7.96l-1.37-1.37c-.4-.4-.92-.59-1.43-.59-.52 0-1.04.2-1.43.59L10.3 9.45l-7.72 7.72c-.78.78-.78 2.05 0 2.83L4 21.41c.39.39.9.59 1.41.59.51 0 1.02-.2 1.41-.59l7.78-7.78 2.81-2.81c.8-.78.8-2.07 0-2.86zM5.41 20L4 18.59l7.72-7.72 1.47 1.35L5.41 20z\"/>\n",
       "  </svg>\n",
       "      </button>\n",
       "      \n",
       "  <style>\n",
       "    .colab-df-container {\n",
       "      display:flex;\n",
       "      flex-wrap:wrap;\n",
       "      gap: 12px;\n",
       "    }\n",
       "\n",
       "    .colab-df-convert {\n",
       "      background-color: #E8F0FE;\n",
       "      border: none;\n",
       "      border-radius: 50%;\n",
       "      cursor: pointer;\n",
       "      display: none;\n",
       "      fill: #1967D2;\n",
       "      height: 32px;\n",
       "      padding: 0 0 0 0;\n",
       "      width: 32px;\n",
       "    }\n",
       "\n",
       "    .colab-df-convert:hover {\n",
       "      background-color: #E2EBFA;\n",
       "      box-shadow: 0px 1px 2px rgba(60, 64, 67, 0.3), 0px 1px 3px 1px rgba(60, 64, 67, 0.15);\n",
       "      fill: #174EA6;\n",
       "    }\n",
       "\n",
       "    [theme=dark] .colab-df-convert {\n",
       "      background-color: #3B4455;\n",
       "      fill: #D2E3FC;\n",
       "    }\n",
       "\n",
       "    [theme=dark] .colab-df-convert:hover {\n",
       "      background-color: #434B5C;\n",
       "      box-shadow: 0px 1px 3px 1px rgba(0, 0, 0, 0.15);\n",
       "      filter: drop-shadow(0px 1px 2px rgba(0, 0, 0, 0.3));\n",
       "      fill: #FFFFFF;\n",
       "    }\n",
       "  </style>\n",
       "\n",
       "      <script>\n",
       "        const buttonEl =\n",
       "          document.querySelector('#df-05e5f7d7-14b5-49bf-b63f-1d7360edd4e3 button.colab-df-convert');\n",
       "        buttonEl.style.display =\n",
       "          google.colab.kernel.accessAllowed ? 'block' : 'none';\n",
       "\n",
       "        async function convertToInteractive(key) {\n",
       "          const element = document.querySelector('#df-05e5f7d7-14b5-49bf-b63f-1d7360edd4e3');\n",
       "          const dataTable =\n",
       "            await google.colab.kernel.invokeFunction('convertToInteractive',\n",
       "                                                     [key], {});\n",
       "          if (!dataTable) return;\n",
       "\n",
       "          const docLinkHtml = 'Like what you see? Visit the ' +\n",
       "            '<a target=\"_blank\" href=https://colab.research.google.com/notebooks/data_table.ipynb>data table notebook</a>'\n",
       "            + ' to learn more about interactive tables.';\n",
       "          element.innerHTML = '';\n",
       "          dataTable['output_type'] = 'display_data';\n",
       "          await google.colab.output.renderOutput(dataTable, element);\n",
       "          const docLink = document.createElement('div');\n",
       "          docLink.innerHTML = docLinkHtml;\n",
       "          element.appendChild(docLink);\n",
       "        }\n",
       "      </script>\n",
       "    </div>\n",
       "  </div>\n",
       "  "
      ],
      "text/plain": [
       "  Genotype  1_year  2_year  3_year\n",
       "0        A    1.53    4.08    6.69\n",
       "1        A    1.83    3.84    5.97\n",
       "2        A    1.38    3.96    6.33\n",
       "3        B    3.60    5.70    8.55\n",
       "4        B    2.94    5.07    7.95"
      ]
     },
     "execution_count": 8,
     "metadata": {},
     "output_type": "execute_result"
    }
   ],
   "source": [
    "d.head()"
   ]
  },
  {
   "cell_type": "code",
   "execution_count": 9,
   "metadata": {
    "colab": {
     "base_uri": "https://localhost:8080/",
     "height": 206
    },
    "id": "Js_2Wa-08On_",
    "outputId": "eb15efd9-1cd2-46bd-9834-b43864769df5"
   },
   "outputs": [
    {
     "data": {
      "text/html": [
       "\n",
       "  <div id=\"df-8a45a9b4-a5e4-4dd8-970a-1bdebf329702\">\n",
       "    <div class=\"colab-df-container\">\n",
       "      <div>\n",
       "<style scoped>\n",
       "    .dataframe tbody tr th:only-of-type {\n",
       "        vertical-align: middle;\n",
       "    }\n",
       "\n",
       "    .dataframe tbody tr th {\n",
       "        vertical-align: top;\n",
       "    }\n",
       "\n",
       "    .dataframe thead th {\n",
       "        text-align: right;\n",
       "    }\n",
       "</style>\n",
       "<table border=\"1\" class=\"dataframe\">\n",
       "  <thead>\n",
       "    <tr style=\"text-align: right;\">\n",
       "      <th></th>\n",
       "      <th>Genotype</th>\n",
       "      <th>years</th>\n",
       "      <th>value</th>\n",
       "    </tr>\n",
       "  </thead>\n",
       "  <tbody>\n",
       "    <tr>\n",
       "      <th>0</th>\n",
       "      <td>A</td>\n",
       "      <td>1_year</td>\n",
       "      <td>1.53</td>\n",
       "    </tr>\n",
       "    <tr>\n",
       "      <th>1</th>\n",
       "      <td>A</td>\n",
       "      <td>1_year</td>\n",
       "      <td>1.83</td>\n",
       "    </tr>\n",
       "    <tr>\n",
       "      <th>2</th>\n",
       "      <td>A</td>\n",
       "      <td>1_year</td>\n",
       "      <td>1.38</td>\n",
       "    </tr>\n",
       "    <tr>\n",
       "      <th>3</th>\n",
       "      <td>B</td>\n",
       "      <td>1_year</td>\n",
       "      <td>3.60</td>\n",
       "    </tr>\n",
       "    <tr>\n",
       "      <th>4</th>\n",
       "      <td>B</td>\n",
       "      <td>1_year</td>\n",
       "      <td>2.94</td>\n",
       "    </tr>\n",
       "  </tbody>\n",
       "</table>\n",
       "</div>\n",
       "      <button class=\"colab-df-convert\" onclick=\"convertToInteractive('df-8a45a9b4-a5e4-4dd8-970a-1bdebf329702')\"\n",
       "              title=\"Convert this dataframe to an interactive table.\"\n",
       "              style=\"display:none;\">\n",
       "        \n",
       "  <svg xmlns=\"http://www.w3.org/2000/svg\" height=\"24px\"viewBox=\"0 0 24 24\"\n",
       "       width=\"24px\">\n",
       "    <path d=\"M0 0h24v24H0V0z\" fill=\"none\"/>\n",
       "    <path d=\"M18.56 5.44l.94 2.06.94-2.06 2.06-.94-2.06-.94-.94-2.06-.94 2.06-2.06.94zm-11 1L8.5 8.5l.94-2.06 2.06-.94-2.06-.94L8.5 2.5l-.94 2.06-2.06.94zm10 10l.94 2.06.94-2.06 2.06-.94-2.06-.94-.94-2.06-.94 2.06-2.06.94z\"/><path d=\"M17.41 7.96l-1.37-1.37c-.4-.4-.92-.59-1.43-.59-.52 0-1.04.2-1.43.59L10.3 9.45l-7.72 7.72c-.78.78-.78 2.05 0 2.83L4 21.41c.39.39.9.59 1.41.59.51 0 1.02-.2 1.41-.59l7.78-7.78 2.81-2.81c.8-.78.8-2.07 0-2.86zM5.41 20L4 18.59l7.72-7.72 1.47 1.35L5.41 20z\"/>\n",
       "  </svg>\n",
       "      </button>\n",
       "      \n",
       "  <style>\n",
       "    .colab-df-container {\n",
       "      display:flex;\n",
       "      flex-wrap:wrap;\n",
       "      gap: 12px;\n",
       "    }\n",
       "\n",
       "    .colab-df-convert {\n",
       "      background-color: #E8F0FE;\n",
       "      border: none;\n",
       "      border-radius: 50%;\n",
       "      cursor: pointer;\n",
       "      display: none;\n",
       "      fill: #1967D2;\n",
       "      height: 32px;\n",
       "      padding: 0 0 0 0;\n",
       "      width: 32px;\n",
       "    }\n",
       "\n",
       "    .colab-df-convert:hover {\n",
       "      background-color: #E2EBFA;\n",
       "      box-shadow: 0px 1px 2px rgba(60, 64, 67, 0.3), 0px 1px 3px 1px rgba(60, 64, 67, 0.15);\n",
       "      fill: #174EA6;\n",
       "    }\n",
       "\n",
       "    [theme=dark] .colab-df-convert {\n",
       "      background-color: #3B4455;\n",
       "      fill: #D2E3FC;\n",
       "    }\n",
       "\n",
       "    [theme=dark] .colab-df-convert:hover {\n",
       "      background-color: #434B5C;\n",
       "      box-shadow: 0px 1px 3px 1px rgba(0, 0, 0, 0.15);\n",
       "      filter: drop-shadow(0px 1px 2px rgba(0, 0, 0, 0.3));\n",
       "      fill: #FFFFFF;\n",
       "    }\n",
       "  </style>\n",
       "\n",
       "      <script>\n",
       "        const buttonEl =\n",
       "          document.querySelector('#df-8a45a9b4-a5e4-4dd8-970a-1bdebf329702 button.colab-df-convert');\n",
       "        buttonEl.style.display =\n",
       "          google.colab.kernel.accessAllowed ? 'block' : 'none';\n",
       "\n",
       "        async function convertToInteractive(key) {\n",
       "          const element = document.querySelector('#df-8a45a9b4-a5e4-4dd8-970a-1bdebf329702');\n",
       "          const dataTable =\n",
       "            await google.colab.kernel.invokeFunction('convertToInteractive',\n",
       "                                                     [key], {});\n",
       "          if (!dataTable) return;\n",
       "\n",
       "          const docLinkHtml = 'Like what you see? Visit the ' +\n",
       "            '<a target=\"_blank\" href=https://colab.research.google.com/notebooks/data_table.ipynb>data table notebook</a>'\n",
       "            + ' to learn more about interactive tables.';\n",
       "          element.innerHTML = '';\n",
       "          dataTable['output_type'] = 'display_data';\n",
       "          await google.colab.output.renderOutput(dataTable, element);\n",
       "          const docLink = document.createElement('div');\n",
       "          docLink.innerHTML = docLinkHtml;\n",
       "          element.appendChild(docLink);\n",
       "        }\n",
       "      </script>\n",
       "    </div>\n",
       "  </div>\n",
       "  "
      ],
      "text/plain": [
       "  Genotype   years  value\n",
       "0        A  1_year   1.53\n",
       "1        A  1_year   1.83\n",
       "2        A  1_year   1.38\n",
       "3        B  1_year   3.60\n",
       "4        B  1_year   2.94"
      ]
     },
     "execution_count": 9,
     "metadata": {},
     "output_type": "execute_result"
    }
   ],
   "source": [
    "# reshape the d dataframe suitable for statsmodels package \n",
    "# you do not need to reshape if your data is already in stacked format. Compare d and d_melt tables for detail \n",
    "# understanding \n",
    "d_melt = pd.melt(d, id_vars=['Genotype'], value_vars=['1_year', '2_year', '3_year'])\n",
    "# replace column names\n",
    "d_melt.columns = ['Genotype', 'years', 'value']\n",
    "d_melt.head()"
   ]
  },
  {
   "cell_type": "code",
   "execution_count": 10,
   "metadata": {
    "colab": {
     "base_uri": "https://localhost:8080/",
     "height": 297
    },
    "id": "szN2ZVt-8OoB",
    "outputId": "9c28b0e2-23a3-4ea1-c534-dbc3c8616f72"
   },
   "outputs": [
    {
     "data": {
      "text/plain": [
       "<matplotlib.axes._subplots.AxesSubplot at 0x7fc9a589b610>"
      ]
     },
     "execution_count": 10,
     "metadata": {},
     "output_type": "execute_result"
    },
    {
     "data": {
      "image/png": "[encoded data removed]",
      "text/plain": [
       "<Figure size 432x288 with 1 Axes>"
      ]
     },
     "metadata": {
      "needs_background": "light"
     },
     "output_type": "display_data"
    }
   ],
   "source": [
    "   \n",
    "# differences between different groups\n",
    "sns.boxplot(x=\"Genotype\", y=\"value\", hue=\"years\", data=d_melt, palette=\"Set3\") \n"
   ]
  },
  {
   "cell_type": "code",
   "execution_count": 11,
   "metadata": {
    "colab": {
     "base_uri": "https://localhost:8080/"
    },
    "id": "vyW62fEU8OoD",
    "outputId": "c15b2657-2842-4549-b91e-f73d331faa6d"
   },
   "outputs": [
    {
     "name": "stderr",
     "output_type": "stream",
     "text": [
      "/usr/local/lib/python3.7/dist-packages/statsmodels/tools/_testing.py:19: FutureWarning: pandas.util.testing is deprecated. Use the functions in the public API at pandas.testing instead.\n",
      "  import pandas.util.testing as tm\n"
     ]
    }
   ],
   "source": [
    "import statsmodels.api as sm\n",
    "from statsmodels.formula.api import ols\n"
   ]
  },
  {
   "cell_type": "code",
   "execution_count": 12,
   "metadata": {
    "colab": {
     "base_uri": "https://localhost:8080/",
     "height": 175
    },
    "id": "VRpI70M-8OoD",
    "outputId": "285f55a9-b78e-4bae-c609-d9b33a01f047",
    "scrolled": true
   },
   "outputs": [
    {
     "data": {
      "text/html": [
       "\n",
       "  <div id=\"df-aed87774-fac7-4449-901b-a835380fe669\">\n",
       "    <div class=\"colab-df-container\">\n",
       "      <div>\n",
       "<style scoped>\n",
       "    .dataframe tbody tr th:only-of-type {\n",
       "        vertical-align: middle;\n",
       "    }\n",
       "\n",
       "    .dataframe tbody tr th {\n",
       "        vertical-align: top;\n",
       "    }\n",
       "\n",
       "    .dataframe thead th {\n",
       "        text-align: right;\n",
       "    }\n",
       "</style>\n",
       "<table border=\"1\" class=\"dataframe\">\n",
       "  <thead>\n",
       "    <tr style=\"text-align: right;\">\n",
       "      <th></th>\n",
       "      <th>sum_sq</th>\n",
       "      <th>df</th>\n",
       "      <th>F</th>\n",
       "      <th>PR(&gt;F)</th>\n",
       "    </tr>\n",
       "  </thead>\n",
       "  <tbody>\n",
       "    <tr>\n",
       "      <th>C(Genotype)</th>\n",
       "      <td>58.551733</td>\n",
       "      <td>5.0</td>\n",
       "      <td>32.748581</td>\n",
       "      <td>1.931655e-12</td>\n",
       "    </tr>\n",
       "    <tr>\n",
       "      <th>C(years)</th>\n",
       "      <td>278.925633</td>\n",
       "      <td>2.0</td>\n",
       "      <td>390.014868</td>\n",
       "      <td>4.006243e-25</td>\n",
       "    </tr>\n",
       "    <tr>\n",
       "      <th>C(Genotype):C(years)</th>\n",
       "      <td>17.122967</td>\n",
       "      <td>10.0</td>\n",
       "      <td>4.788525</td>\n",
       "      <td>2.230094e-04</td>\n",
       "    </tr>\n",
       "    <tr>\n",
       "      <th>Residual</th>\n",
       "      <td>12.873000</td>\n",
       "      <td>36.0</td>\n",
       "      <td>NaN</td>\n",
       "      <td>NaN</td>\n",
       "    </tr>\n",
       "  </tbody>\n",
       "</table>\n",
       "</div>\n",
       "      <button class=\"colab-df-convert\" onclick=\"convertToInteractive('df-aed87774-fac7-4449-901b-a835380fe669')\"\n",
       "              title=\"Convert this dataframe to an interactive table.\"\n",
       "              style=\"display:none;\">\n",
       "        \n",
       "  <svg xmlns=\"http://www.w3.org/2000/svg\" height=\"24px\"viewBox=\"0 0 24 24\"\n",
       "       width=\"24px\">\n",
       "    <path d=\"M0 0h24v24H0V0z\" fill=\"none\"/>\n",
       "    <path d=\"M18.56 5.44l.94 2.06.94-2.06 2.06-.94-2.06-.94-.94-2.06-.94 2.06-2.06.94zm-11 1L8.5 8.5l.94-2.06 2.06-.94-2.06-.94L8.5 2.5l-.94 2.06-2.06.94zm10 10l.94 2.06.94-2.06 2.06-.94-2.06-.94-.94-2.06-.94 2.06-2.06.94z\"/><path d=\"M17.41 7.96l-1.37-1.37c-.4-.4-.92-.59-1.43-.59-.52 0-1.04.2-1.43.59L10.3 9.45l-7.72 7.72c-.78.78-.78 2.05 0 2.83L4 21.41c.39.39.9.59 1.41.59.51 0 1.02-.2 1.41-.59l7.78-7.78 2.81-2.81c.8-.78.8-2.07 0-2.86zM5.41 20L4 18.59l7.72-7.72 1.47 1.35L5.41 20z\"/>\n",
       "  </svg>\n",
       "      </button>\n",
       "      \n",
       "  <style>\n",
       "    .colab-df-container {\n",
       "      display:flex;\n",
       "      flex-wrap:wrap;\n",
       "      gap: 12px;\n",
       "    }\n",
       "\n",
       "    .colab-df-convert {\n",
       "      background-color: #E8F0FE;\n",
       "      border: none;\n",
       "      border-radius: 50%;\n",
       "      cursor: pointer;\n",
       "      display: none;\n",
       "      fill: #1967D2;\n",
       "      height: 32px;\n",
       "      padding: 0 0 0 0;\n",
       "      width: 32px;\n",
       "    }\n",
       "\n",
       "    .colab-df-convert:hover {\n",
       "      background-color: #E2EBFA;\n",
       "      box-shadow: 0px 1px 2px rgba(60, 64, 67, 0.3), 0px 1px 3px 1px rgba(60, 64, 67, 0.15);\n",
       "      fill: #174EA6;\n",
       "    }\n",
       "\n",
       "    [theme=dark] .colab-df-convert {\n",
       "      background-color: #3B4455;\n",
       "      fill: #D2E3FC;\n",
       "    }\n",
       "\n",
       "    [theme=dark] .colab-df-convert:hover {\n",
       "      background-color: #434B5C;\n",
       "      box-shadow: 0px 1px 3px 1px rgba(0, 0, 0, 0.15);\n",
       "      filter: drop-shadow(0px 1px 2px rgba(0, 0, 0, 0.3));\n",
       "      fill: #FFFFFF;\n",
       "    }\n",
       "  </style>\n",
       "\n",
       "      <script>\n",
       "        const buttonEl =\n",
       "          document.querySelector('#df-aed87774-fac7-4449-901b-a835380fe669 button.colab-df-convert');\n",
       "        buttonEl.style.display =\n",
       "          google.colab.kernel.accessAllowed ? 'block' : 'none';\n",
       "\n",
       "        async function convertToInteractive(key) {\n",
       "          const element = document.querySelector('#df-aed87774-fac7-4449-901b-a835380fe669');\n",
       "          const dataTable =\n",
       "            await google.colab.kernel.invokeFunction('convertToInteractive',\n",
       "                                                     [key], {});\n",
       "          if (!dataTable) return;\n",
       "\n",
       "          const docLinkHtml = 'Like what you see? Visit the ' +\n",
       "            '<a target=\"_blank\" href=https://colab.research.google.com/notebooks/data_table.ipynb>data table notebook</a>'\n",
       "            + ' to learn more about interactive tables.';\n",
       "          element.innerHTML = '';\n",
       "          dataTable['output_type'] = 'display_data';\n",
       "          await google.colab.output.renderOutput(dataTable, element);\n",
       "          const docLink = document.createElement('div');\n",
       "          docLink.innerHTML = docLinkHtml;\n",
       "          element.appendChild(docLink);\n",
       "        }\n",
       "      </script>\n",
       "    </div>\n",
       "  </div>\n",
       "  "
      ],
      "text/plain": [
       "                          sum_sq    df           F        PR(>F)\n",
       "C(Genotype)            58.551733   5.0   32.748581  1.931655e-12\n",
       "C(years)              278.925633   2.0  390.014868  4.006243e-25\n",
       "C(Genotype):C(years)   17.122967  10.0    4.788525  2.230094e-04\n",
       "Residual               12.873000  36.0         NaN           NaN"
      ]
     },
     "execution_count": 12,
     "metadata": {},
     "output_type": "execute_result"
    }
   ],
   "source": [
    "model = ols('value ~ C(Genotype) + C(years) + C(Genotype):C(years)', data=d_melt).fit()\n",
    "anova_table = sm.stats.anova_lm(model, typ=2)\n",
    "anova_table"
   ]
  },
  {
   "cell_type": "code",
   "execution_count": 13,
   "metadata": {
    "colab": {
     "base_uri": "https://localhost:8080/",
     "height": 72
    },
    "id": "3zBc3R-Y8OoE",
    "outputId": "8e3b69af-cce2-4e18-a36c-315f6eead375"
   },
   "outputs": [
    {
     "data": {
      "application/vnd.google.colaboratory.intrinsic+json": {
       "type": "string"
      },
      "text/plain": [
       "'Output\\n                     \\tsum_sq  \\tdf      \\tF       \\tPR(>F)\\nC(Genotype)         \\t58.551733 \\t5.0 \\t32.748581 \\t1.931655e-12\\nC(years)            \\t278.925633 \\t2.0 \\t390.014868 \\t4.006243e-25\\nC(Genotype):C(years) \\t17.122967 \\t10.0 \\t4.788525 \\t2.230094e-04\\nResidual            \\t12.873000 \\t36.0 \\tNaN     \\tNaN\\n'"
      ]
     },
     "execution_count": 13,
     "metadata": {},
     "output_type": "execute_result"
    }
   ],
   "source": [
    "\"\"\"Output\n",
    "                     \tsum_sq  \tdf      \tF       \tPR(>F)\n",
    "C(Genotype)         \t58.551733 \t5.0 \t32.748581 \t1.931655e-12\n",
    "C(years)            \t278.925633 \t2.0 \t390.014868 \t4.006243e-25\n",
    "C(Genotype):C(years) \t17.122967 \t10.0 \t4.788525 \t2.230094e-04\n",
    "Residual            \t12.873000 \t36.0 \tNaN     \tNaN\n",
    "\"\"\""
   ]
  },
  {
   "cell_type": "code",
   "execution_count": 14,
   "metadata": {
    "colab": {
     "base_uri": "https://localhost:8080/",
     "height": 72
    },
    "id": "mmZ7z5Ot8OoF",
    "outputId": "57e4af16-30a4-4f68-c6ce-57973d6b2d06"
   },
   "outputs": [
    {
     "data": {
      "application/vnd.google.colaboratory.intrinsic+json": {
       "type": "string"
      },
      "text/plain": [
       "'\\n\\nThe p value obtained from ANOVA analysis for genotype, years, and interaction are statistically significant (p<0.05).\\nWe conclude that type of genotype significantly affects the yield outcome, \\ntime (years) significantly affects the yield outcome, and interaction of both\\ngenotype and time (years) significantly affects the yield outcome.\\n\\n'"
      ]
     },
     "execution_count": 14,
     "metadata": {},
     "output_type": "execute_result"
    }
   ],
   "source": [
    "'''\n",
    "\n",
    "The p value obtained from ANOVA analysis for genotype, years, and interaction are statistically significant (p<0.05).\n",
    "We conclude that type of genotype significantly affects the yield outcome, \n",
    "time (years) significantly affects the yield outcome, and interaction of both\n",
    "genotype and time (years) significantly affects the yield outcome.\n",
    "\n",
    "'''"
   ]
  },
  {
   "cell_type": "code",
   "execution_count": 14,
   "metadata": {
    "id": "lvGH-J7D8OoG"
   },
   "outputs": [],
   "source": []
  },
  {
   "cell_type": "code",
   "execution_count": 15,
   "metadata": {
    "colab": {
     "base_uri": "https://localhost:8080/",
     "height": 279
    },
    "id": "1MhEyTPR8OoG",
    "outputId": "db7d1fc3-eb9a-414e-dd1e-e9c046d32c14"
   },
   "outputs": [
    {
     "data": {
      "image/png": "[encoded data removed]",
      "text/plain": [
       "<Figure size 432x288 with 1 Axes>"
      ]
     },
     "metadata": {
      "needs_background": "light"
     },
     "output_type": "display_data"
    }
   ],
   "source": [
    "# As the interaction is significant, interaction plot for interaction effects :\n",
    "from statsmodels.graphics.factorplots import interaction_plot\n",
    "import matplotlib.pyplot as plt\n",
    "fig = interaction_plot(x=d_melt['Genotype'], trace=d_melt['years'], response=d_melt['value'], \n",
    "    colors=['#4c061d','#d17a22', '#b4c292'])\n",
    "plt.show()\n"
   ]
  },
  {
   "cell_type": "code",
   "execution_count": 16,
   "metadata": {
    "id": "NmNKjSjL8OoI"
   },
   "outputs": [],
   "source": [
    "# the interaction effect is significant between the Genotype and years because three lines are not parallel \n",
    "#(roughly parallel factor lines indicate no interaction - additive model).\n",
    "#This interaction is also called ordinal interaction as the lines do not cross each other."
   ]
  },
  {
   "cell_type": "code",
   "execution_count": null,
   "metadata": {
    "id": "PGRQfzLu85XG"
   },
   "outputs": [],
   "source": []
  }
 ],
 "metadata": {
  "colab": {
   "name": "Assignment_SM_2.ipynb",
   "provenance": []
  },
  "kernelspec": {
   "display_name": "Python 3",
   "language": "python",
   "name": "python3"
  },
  "language_info": {
   "codemirror_mode": {
    "name": "ipython",
    "version": 3
   },
   "file_extension": ".py",
   "mimetype": "text/x-python",
   "name": "python",
   "nbconvert_exporter": "python",
   "pygments_lexer": "ipython3",
   "version": "3.8.5"
  }
 },
 "nbformat": 4,
 "nbformat_minor": 1
}
