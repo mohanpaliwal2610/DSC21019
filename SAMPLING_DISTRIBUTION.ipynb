{
 "cells": [
  {
   "cell_type": "markdown",
   "metadata": {
    "id": "meiFeQQ7o6Y8"
   },
   "source": [
    "## Sampling the Distribution\n",
    "\n",
    "The parameters can be estimated from the population by using random sampling. The ssize of the sample n is defiend and the parameters such as mean and variance are estimated.\n",
    "\n",
    "Lets consider the following example. Consider a population of 1000 t-shirts with distinct values from 0 to 999. "
   ]
  },
  {
   "cell_type": "code",
   "execution_count": 1,
   "metadata": {
    "colab": {
     "base_uri": "https://localhost:8080/"
    },
    "id": "XozcuO7Ov6Hj",
    "outputId": "0e497be7-3a7d-4cbf-dcfa-fb9abcf9c69c"
   },
   "outputs": [
    {
     "name": "stdout",
     "output_type": "stream",
     "text": [
      "μ=499.5\n",
      "σ=288.6749902572095\n"
     ]
    }
   ],
   "source": [
    "import numpy as np\n",
    "import matplotlib.pyplot as plt\n",
    "from scipy.stats import bernoulli, norm, poisson\n",
    "from scipy import stats\n",
    "from scipy.stats import kurtosis, skew\n",
    "import seaborn as sns\n",
    "\n",
    "X = np.random.choice(np.arange(0, 1000), 1000, replace=False)\n",
    "print(f'μ={X.mean()}')\n",
    "print(f'σ={X.std()}')"
   ]
  },
  {
   "cell_type": "markdown",
   "metadata": {
    "id": "5ULD-B7lwPXT"
   },
   "source": [
    "Let's take 500 samples of size 20"
   ]
  },
  {
   "cell_type": "code",
   "execution_count": null,
   "metadata": {
    "colab": {
     "base_uri": "https://localhost:8080/"
    },
    "id": "wWKIuhGEv_o_",
    "outputId": "6cb1f3ba-3c51-488f-c907-af33faab3e04"
   },
   "outputs": [
    {
     "data": {
      "text/plain": [
       "array([[937, 946, 332, 279, 255, 980, 393, 816, 492, 312, 534, 797, 871,\n",
       "        108,  58, 548, 499, 894, 818, 531],\n",
       "       [752, 145, 159, 877, 883, 847, 685, 448, 123, 962, 479, 404, 500,\n",
       "        966, 166, 212, 668, 378, 288, 709],\n",
       "       [988,  35, 804, 526, 474, 759, 180, 558, 885, 727, 112, 881, 393,\n",
       "        505, 889, 456, 741, 293, 845, 208],\n",
       "       [485, 126, 406,  36, 620, 201, 754,  92, 288, 165, 737, 412, 434,\n",
       "        579,  43, 110,  18, 785, 746, 650],\n",
       "       [ 40,  70, 808, 327, 430, 630, 969, 215, 265, 578, 541, 959, 217,\n",
       "         26, 865, 559, 235, 193, 529, 699],\n",
       "       [428,  11, 973,  44, 525, 500, 559, 113, 751, 166, 776, 441, 638,\n",
       "        444,  87, 556, 628, 666, 323, 507],\n",
       "       [924, 792, 982, 786, 952, 876, 564, 575, 142, 262, 570, 187, 269,\n",
       "        231, 552, 684, 546, 463, 593, 967],\n",
       "       [406, 909, 233, 247,  68, 514,  78, 174, 883, 326, 185, 780,   6,\n",
       "        627, 855, 203, 533, 221, 370, 916],\n",
       "       [888, 212, 310, 978, 346, 160, 160, 459, 124, 385, 319, 208, 831,\n",
       "        244, 843, 286, 592, 437, 360, 753],\n",
       "       [788, 890, 895, 342, 122, 962, 734,  96, 888,  58, 249,  39, 370,\n",
       "        662,  16, 971, 495, 389, 738, 873],\n",
       "       [478, 816, 599, 720, 280,  40, 824, 631, 517, 492, 614, 625,  34,\n",
       "        829, 476, 213, 980, 411, 790, 775],\n",
       "       [615, 973, 443,  65, 693, 557, 557, 712, 613, 271, 186, 438, 487,\n",
       "        784, 531, 514, 387, 783, 306, 893],\n",
       "       [377, 872,  68, 412, 323, 454,   9, 605, 295, 571, 942, 277, 376,\n",
       "        457, 458, 405, 727, 365, 493, 651],\n",
       "       [352, 228, 443,  65,  86, 567, 645, 225,  25, 840, 565, 386, 261,\n",
       "         11, 869, 991, 980, 751, 272, 404],\n",
       "       [823, 332, 741, 184, 305, 328, 622,  12, 465, 402, 343, 536, 237,\n",
       "        993, 179,  14, 468, 553, 284, 641],\n",
       "       [296,  82, 145, 499, 811, 621, 567, 589, 973, 210,  56, 668, 497,\n",
       "        688, 490, 402, 587, 485, 751, 941],\n",
       "       [565, 232, 476,  16, 758, 713, 146, 311, 398, 225, 316, 399, 609,\n",
       "        584, 447, 315, 862, 911, 246, 891],\n",
       "       [173, 570,  77, 129,  33, 639, 322, 411, 616, 962, 929, 300, 997,\n",
       "          4, 391, 165, 351, 574, 473, 238],\n",
       "       [500, 814, 198,  40, 695, 387,  82, 688, 839, 274, 839, 400, 428,\n",
       "        492,  69,  61, 182, 580, 657, 468],\n",
       "       [124, 275, 734, 331, 281, 630, 639, 253, 881, 840, 951, 607, 644,\n",
       "        344, 758, 308, 474, 568, 943, 957]])"
      ]
     },
     "execution_count": 3,
     "metadata": {},
     "output_type": "execute_result"
    }
   ],
   "source": [
    "rs = []\n",
    "for i in range(500):\n",
    "    rs.append(np.random.choice(X, 20))\n",
    "rs = np.array(rs)\n",
    "\n",
    "# 20 examples of our random samples\n",
    "\n",
    "rs[:20]"
   ]
  },
  {
   "cell_type": "markdown",
   "metadata": {
    "id": "mgK22QF7wiQ-"
   },
   "source": [
    "For each set, we we need to estimate the mean. plot the histogram to understand the sampling distribution, ie., Sampling distribution of the sample mean for a sample size equal to 20"
   ]
  },
  {
   "cell_type": "code",
   "execution_count": null,
   "metadata": {
    "colab": {
     "base_uri": "https://localhost:8080/",
     "height": 299
    },
    "id": "l0UAR-qZxC0p",
    "outputId": "2dfbd8f1-e26a-403e-abb7-4d11ac56e35d"
   },
   "outputs": [
    {
     "name": "stdout",
     "output_type": "stream",
     "text": [
      "[422.75 503.6  515.05 382.6  537.65 566.9  491.95 519.65 483.9  606.35\n",
      " 549.45 463.55 550.45 424.85 602.1  534.5  556.2  499.6  517.   404.2 ]\n"
     ]
    },
    {
     "data": {
      "image/png": "[encoded data removed]",
      "text/plain": [
       "<Figure size 432x288 with 1 Axes>"
      ]
     },
     "metadata": {
      "needs_background": "light"
     },
     "output_type": "display_data"
    }
   ],
   "source": [
    "x_bar = rs.mean(axis=1)\n",
    "print(x_bar[:20])\n",
    "plt.hist(x_bar, bins=100);"
   ]
  },
  {
   "cell_type": "markdown",
   "metadata": {
    "id": "IGI-UZb4xbXC"
   },
   "source": [
    "## Sampling distribution of Sample Proportion.\n",
    "\n",
    "Consider, There are 20000 distinct colored balls and we want to calculate the proportion of finding one random ball. We difine a Bernolli RV.\n",
    "To extend this to binomial, lets run this experiment for n = 500. "
   ]
  },
  {
   "cell_type": "code",
   "execution_count": null,
   "metadata": {
    "colab": {
     "base_uri": "https://localhost:8080/",
     "height": 265
    },
    "id": "HzVXx8eZ4MIv",
    "outputId": "fe49e245-627f-4626-816d-c832f5259dde"
   },
   "outputs": [
    {
     "data": {
      "image/png": "[encoded data removed]",
      "text/plain": [
       "<Figure size 432x288 with 1 Axes>"
      ]
     },
     "metadata": {
      "needs_background": "light"
     },
     "output_type": "display_data"
    }
   ],
   "source": [
    "p = 0.4\n",
    "n = 500\n",
    "\n",
    "X = bernoulli(p)\n",
    "Y = [X.rvs(n) for i in range(20000)]\n",
    "\n",
    "plt.hist(np.sum(Y, axis=1));"
   ]
  },
  {
   "cell_type": "markdown",
   "metadata": {
    "id": "JWrbQp7V83bI"
   },
   "source": [
    "The above plot is tghe sampleing distribution of the sampling proportion. Lest estimate the mean and standard deviation."
   ]
  },
  {
   "cell_type": "code",
   "execution_count": null,
   "metadata": {
    "colab": {
     "base_uri": "https://localhost:8080/"
    },
    "id": "x1L8r-Uu9Azw",
    "outputId": "31a16585-80c0-4e1d-bc20-2ff458de8e0a"
   },
   "outputs": [
    {
     "name": "stdout",
     "output_type": "stream",
     "text": [
      "Empirically calculated expected value: 0.4000673\n",
      "Theoretical expected value: 0.4\n"
     ]
    }
   ],
   "source": [
    "print('Empirically calculated expected value: {}'.format(np.mean(np.mean(Y, axis=1))))\n",
    "print('Theoretical expected value: {}'.format(p))"
   ]
  },
  {
   "cell_type": "code",
   "execution_count": null,
   "metadata": {
    "colab": {
     "base_uri": "https://localhost:8080/"
    },
    "id": "CKJYAzjI9Lda",
    "outputId": "ea7cc6f9-2e12-43ef-d4d5-ea21440b480f"
   },
   "outputs": [
    {
     "name": "stdout",
     "output_type": "stream",
     "text": [
      "Empirically calculated standard deviation: 0.021886572840671057\n",
      "Theoretical standard deviation: 0.021908902300206645\n"
     ]
    }
   ],
   "source": [
    "print('Empirically calculated standard deviation: {}'.format(np.std(np.mean(Y, axis=1))))\n",
    "print('Theoretical standard deviation: {}'.format(np.sqrt(p*(1-p)/n)))"
   ]
  },
  {
   "cell_type": "markdown",
   "metadata": {
    "id": "eYKim-7N9XMB"
   },
   "source": [
    "Normality of the sampling distribution of sample proportion\n",
    "\n",
    "Consider:\n",
    "\n",
    "In a music store, there are 100 new CDs received every week. The supplier states that they are delivering approximately 10% of Rock CDs. Calculate the weekly proportion of rock CDs in the weekly sample. "
   ]
  },
  {
   "cell_type": "code",
   "execution_count": null,
   "metadata": {
    "colab": {
     "base_uri": "https://localhost:8080/",
     "height": 265
    },
    "id": "B_8dXm75BU4k",
    "outputId": "ab749bd6-8e81-4b03-9ce0-9c4b68a4dc9d"
   },
   "outputs": [
    {
     "data": {
      "image/png": "[encoded data removed]",
      "text/plain": [
       "<Figure size 432x288 with 1 Axes>"
      ]
     },
     "metadata": {
      "needs_background": "light"
     },
     "output_type": "display_data"
    }
   ],
   "source": [
    "n = 100\n",
    "p = 0.1\n",
    "\n",
    "X = bernoulli(p)\n",
    "Y = [X.rvs(100) for i in range(10000)]\n",
    "\n",
    "normal = np.random.normal(p*n, np.sqrt(n*p*(1-p)), (1000, ))\n",
    "density = stats.gaussian_kde(normal)\n",
    "n_, x, _ = plt.hist(normal, bins=np.linspace(0, 20, 50), \n",
    "                   histtype=u'step', density=True) \n",
    "plt.close()\n",
    "\n",
    "plt.hist(np.sum(Y, axis=1), density=True)\n",
    "plt.plot(x, density(x));"
   ]
  },
  {
   "cell_type": "markdown",
   "metadata": {
    "id": "cboJRRtRBvfD"
   },
   "source": [
    "The above plot looks approximately normal.\n",
    "\n",
    "Lets change the value of p = 3%"
   ]
  },
  {
   "cell_type": "code",
   "execution_count": null,
   "metadata": {
    "colab": {
     "base_uri": "https://localhost:8080/",
     "height": 265
    },
    "id": "OV8bkNO4B3wS",
    "outputId": "201e16ed-540d-45fd-d054-0566d4a09816"
   },
   "outputs": [
    {
     "data": {
      "image/png": "[encoded data removed]",
      "text/plain": [
       "<Figure size 432x288 with 1 Axes>"
      ]
     },
     "metadata": {
      "needs_background": "light"
     },
     "output_type": "display_data"
    }
   ],
   "source": [
    "n = 100\n",
    "p_ = 0.03\n",
    "\n",
    "X = bernoulli(p_)\n",
    "Y_ = [X.rvs(100) for i in range(10000)]\n",
    "\n",
    "normal = np.random.normal(p_*n, np.sqrt(n*p_*(1-p_)), (1000, ))\n",
    "density = stats.gaussian_kde(normal)\n",
    "n_, x, _ = plt.hist(normal, bins=np.linspace(0, 20, 50), \n",
    "                   histtype=u'step', density=True) \n",
    "plt.close()\n",
    "\n",
    "plt.hist(np.sum(Y_, axis=1), density=True)\n",
    "plt.plot(x, density(x));"
   ]
  },
  {
   "cell_type": "markdown",
   "metadata": {
    "id": "X3O9Qbe1CYw7"
   },
   "source": [
    "The distribution is skewed to the left.\n",
    "\n",
    "Why are these conditions important? These are relevant when we need to answer questions about the probability of sampling proportions. For example, returning to our example and considering the initial information of 10% probability of receiving Rock CDs. Consider that you find on your first trial that 12% of the CDs were Rock CDs. Assuming that the true proportion is informed by your supplier, what would be the probability that more than 12% of the sample you searched consists of Rock CDs?\n",
    "\n",
    "So we need to compute P(p>0.12)"
   ]
  },
  {
   "cell_type": "code",
   "execution_count": null,
   "metadata": {
    "colab": {
     "base_uri": "https://localhost:8080/"
    },
    "id": "00Ez-FNHCtwi",
    "outputId": "22847422-5bc4-4628-cd6c-d9377d0038da"
   },
   "outputs": [
    {
     "name": "stdout",
     "output_type": "stream",
     "text": [
      "Empirically calculated expected value: 0.10037700000000002\n",
      "Theoretical expected value: 0.1\n"
     ]
    }
   ],
   "source": [
    "print('Empirically calculated expected value: {}'.format(np.mean(np.mean(Y, axis=1))))\n",
    "print('Theoretical expected value: {}'.format(p))"
   ]
  },
  {
   "cell_type": "code",
   "execution_count": null,
   "metadata": {
    "colab": {
     "base_uri": "https://localhost:8080/"
    },
    "id": "LoqrLo1xC3ol",
    "outputId": "95195b16-6eca-473f-ebf3-6de78f1edcfd"
   },
   "outputs": [
    {
     "name": "stdout",
     "output_type": "stream",
     "text": [
      "P(p>0.12)=0.252492537546923\n"
     ]
    }
   ],
   "source": [
    "n = 100\n",
    "p = 0.10\n",
    "p_ = 0.12\n",
    "print(f'P(p>0.12)={1-norm.cdf(p_, p, np.sqrt(p*(1-p)/n))}')"
   ]
  },
  {
   "cell_type": "markdown",
   "metadata": {
    "id": "XNBwGJCUnt9G"
   },
   "source": [
    "## EXERCISES\n",
    "\n",
    "1. Rick takes an SRS of 75 citizens on a distant planet to see what proportion of citizens sampled are satisfied with their standard of living. Suppose that 60% of the 1,000,000,000 citizens who live on the planet are satisfied with their living standards. What are the mean and standard deviation of the sampling distribution of the proportion of citizens who are satisfied with their standard of living?\n",
    "\n",
    "2. Rick is performing quality control tests on different portal guns since there is some variability in the manufacturing process. For example, a certain gun has a target thickness of 5mm. The distribution of thicknesses is skewed to the right with a mean of 5mm and a standard deviation of 1mm. A quality control check on this part involves taking a random sample of 35 points and calculating the mean thickness of those points. What is the shape of the sampling distribution of the sample mean thickness? What is the probability that the mean thickness in the sample is within 0.2mm of the target value?"
   ]
  }
 ],
 "metadata": {
  "colab": {
   "collapsed_sections": [],
   "name": "SAMPLING_DISTRIBUTION.ipynb",
   "provenance": []
  },
  "kernelspec": {
   "display_name": "Python 3",
   "language": "python",
   "name": "python3"
  },
  "language_info": {
   "codemirror_mode": {
    "name": "ipython",
    "version": 3
   },
   "file_extension": ".py",
   "mimetype": "text/x-python",
   "name": "python",
   "nbconvert_exporter": "python",
   "pygments_lexer": "ipython3",
   "version": "3.8.5"
  }
 },
 "nbformat": 4,
 "nbformat_minor": 1
}
