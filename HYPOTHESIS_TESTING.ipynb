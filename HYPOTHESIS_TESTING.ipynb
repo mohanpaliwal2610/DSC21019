{
  "cells": [
    {
      "cell_type": "markdown",
      "source": [
        "Point estimates and confidence intervals are basic inference tools that act as the foundation for another inference technique: statistical hypothesis testing. Statistical hypothesis testing is a framework for determining whether observed data deviates from what is expected. Python's scipy.stats library contains an array of functions that make it easy to carry out hypothesis tests.\n",
        "\n"
      ],
      "metadata": {
        "id": "uMoqmNavrLg2"
      },
      "id": "uMoqmNavrLg2"
    },
    {
      "cell_type": "markdown",
      "id": "impressive-monday",
      "metadata": {
        "id": "impressive-monday"
      },
      "source": [
        "# Introduction to Hypothesis Tests"
      ]
    },
    {
      "cell_type": "markdown",
      "id": "perceived-phoenix",
      "metadata": {
        "id": "perceived-phoenix"
      },
      "source": [
        "António was on a 30-day holiday with a group of 4 friends and they wanted to decide who would cook dinner each night. António proposed that they could write their names down and store them in a bowl. Then, he would randomly pick a name from a bowl and the name that came up had to cook dinner that night. Now, let's say that after 4 rounds of randomly selecting names, António's name never came up. The remaining friends started to suspect that something was going on. Let's compute that probability."
      ]
    },
    {
      "cell_type": "code",
      "execution_count": null,
      "id": "fundamental-ukraine",
      "metadata": {
        "id": "fundamental-ukraine",
        "outputId": "6edf0547-3921-4e0b-ea73-f03742eb0c5c"
      },
      "outputs": [
        {
          "data": {
            "text/plain": [
              "0.4096000000000001"
            ]
          },
          "execution_count": 154,
          "metadata": {},
          "output_type": "execute_result"
        }
      ],
      "source": [
        "0.80**4"
      ]
    },
    {
      "cell_type": "markdown",
      "id": "worth-bones",
      "metadata": {
        "id": "worth-bones"
      },
      "source": [
        "We can see that this scenario has close to 41% of probability of happening. It is a very significant probability, so the group of friends should probably trust António. Now, image that after 15 rounds, António still does not get picked."
      ]
    },
    {
      "cell_type": "code",
      "execution_count": null,
      "id": "pregnant-arkansas",
      "metadata": {
        "id": "pregnant-arkansas",
        "outputId": "32f36144-97b1-4cdd-f8cc-d50cc356a756"
      },
      "outputs": [
        {
          "data": {
            "text/plain": [
              "0.03518437208883203"
            ]
          },
          "execution_count": 155,
          "metadata": {},
          "output_type": "execute_result"
        }
      ],
      "source": [
        "0.8**15"
      ]
    },
    {
      "cell_type": "markdown",
      "id": "cognitive-provision",
      "metadata": {
        "id": "cognitive-provision"
      },
      "source": [
        "Assuming that the process is completely random, the probability that he would not be picked 15 rounds in a row is about 3.5%. If his friends used the often defined threshold of 5%, they would not expect that an event that happened purely by chance had a probability less than 5%. Then they would probably reject the hypothesis that this was a truly random process, which would mean that António was cheating."
      ]
    },
    {
      "cell_type": "markdown",
      "id": "surgical-prize",
      "metadata": {
        "id": "surgical-prize"
      },
      "source": [
        "# Hypothesis test about a Population Proportion\n",
        "\n",
        "One day, at the beach, António read an article in a magazine that stated that only 30% of people use sunscreen at the beach. António thought that the number was too low for the beach area where they were spending their holiday. He told his friends and they decide to random sample 35 people from the nearby beaches, where, that day, they estimated that at least 400 people were enjoying the beach. From the 35 people, 14 were using sunscreen."
      ]
    },
    {
      "cell_type": "code",
      "execution_count": null,
      "id": "developmental-librarian",
      "metadata": {
        "id": "developmental-librarian",
        "outputId": "703f43ae-98ea-413f-b6ff-171b464c0bbc"
      },
      "outputs": [
        {
          "data": {
            "text/plain": [
              "0.4"
            ]
          },
          "execution_count": 298,
          "metadata": {},
          "output_type": "execute_result"
        }
      ],
      "source": [
        "14/35"
      ]
    },
    {
      "cell_type": "markdown",
      "id": "hungry-intro",
      "metadata": {
        "id": "hungry-intro"
      },
      "source": [
        "Let's define our hypothesis test more formally:\n",
        "\n",
        "$$\\begin{align}H_0: p=0.3 \\\\\n",
        "H_a: p>0.3\n",
        "\\end{align}$$\n",
        "\n",
        "The null hypothesis shows the expected outcome, the assumption that only 30% of people uses sunscreen at the beach. On the other hand, the alternative hypothesis states what António was suspecting: that more than 30% of people were actually using sunscreen.\n",
        "\n",
        "To see how likely a sample like the one above was to happen by random chance, let's perform a simulation. We simulate 40 samples of sample size equal to 30 where 40% of the people were using sunscreen."
      ]
    },
    {
      "cell_type": "code",
      "execution_count": null,
      "id": "intended-summary",
      "metadata": {
        "id": "intended-summary"
      },
      "outputs": [],
      "source": [
        "from scipy.stats import bernoulli, norm, t\n",
        "import matplotlib.pyplot as plt\n",
        "import numpy as np\n",
        "import seaborn as sns"
      ]
    },
    {
      "cell_type": "code",
      "execution_count": null,
      "id": "contained-performer",
      "metadata": {
        "id": "contained-performer"
      },
      "outputs": [],
      "source": [
        "x = np.zeros((40, 35))\n",
        "for i in range(40):    \n",
        "    x[i] = bernoulli.rvs(p=0.3, size=35)"
      ]
    },
    {
      "cell_type": "markdown",
      "id": "czech-generator",
      "metadata": {
        "id": "czech-generator"
      },
      "source": [
        "We can plot our simulations using a histogram."
      ]
    },
    {
      "cell_type": "code",
      "execution_count": null,
      "id": "patient-conflict",
      "metadata": {
        "id": "patient-conflict",
        "outputId": "cfe92d40-83ab-44d1-b30d-6f2e6f769489"
      },
      "outputs": [
        {
          "data": {
            "image/png": "[encoded data removed]",
            "text/plain": [
              "<Figure size 432x288 with 1 Axes>"
            ]
          },
          "metadata": {
            "needs_background": "light"
          },
          "output_type": "display_data"
        }
      ],
      "source": [
        "sns.histplot(np.mean(x, axis=1));"
      ]
    },
    {
      "cell_type": "code",
      "execution_count": null,
      "id": "surprised-england",
      "metadata": {
        "id": "surprised-england"
      },
      "outputs": [],
      "source": [
        "p = np.mean(x, axis=1)"
      ]
    },
    {
      "cell_type": "markdown",
      "id": "irish-peripheral",
      "metadata": {
        "id": "irish-peripheral"
      },
      "source": [
        "With this information we are able to compute our p-value. It can be defined as the probability of $\\hat p$ being greater or equal to the sampled proportion of 0.4, conditioned on $H_0$ being true:\n",
        "\n",
        "$$\\text{p-value}= P(\\hat p \\geq 0.4 | H_0 \\text{True})$$\n",
        "\n",
        "We can easily compute the p-value."
      ]
    },
    {
      "cell_type": "code",
      "execution_count": null,
      "id": "electronic-greenhouse",
      "metadata": {
        "id": "electronic-greenhouse",
        "outputId": "807b1717-da89-4a7a-ca0c-1f93b0e4ccae"
      },
      "outputs": [
        {
          "data": {
            "text/plain": [
              "0.125"
            ]
          },
          "execution_count": 319,
          "metadata": {},
          "output_type": "execute_result"
        }
      ],
      "source": [
        "p[p>=0.40].shape[0]/p.shape[0]"
      ]
    },
    {
      "cell_type": "markdown",
      "id": "actual-surface",
      "metadata": {
        "id": "actual-surface"
      },
      "source": [
        "If António uses the significance level of $\\alpha=0.05$, he would not reject $H_0$. It means that with a $\\hat p = 0.4$, they don't have enough evidence to reject the possibility that only 30% of the people are using suncreen and the statistic they got of 40% was a result of  random chance alone."
      ]
    },
    {
      "cell_type": "code",
      "execution_count": null,
      "id": "cathedral-privilege",
      "metadata": {
        "id": "cathedral-privilege",
        "outputId": "b884b205-92df-4027-b8c9-b980472c3828"
      },
      "outputs": [
        {
          "name": "stdout",
          "output_type": "stream",
          "text": [
            "Do not reject H_0\n"
          ]
        }
      ],
      "source": [
        "if (p[p>=0.4].shape[0]/p.shape[0]<0.05):\n",
        "    print('Reject H_0')\n",
        "else:\n",
        "    print('Do not reject H_0')"
      ]
    },
    {
      "cell_type": "markdown",
      "id": "smaller-involvement",
      "metadata": {
        "id": "smaller-involvement"
      },
      "source": [
        "# Conditions for a Z Test about a Proportion\n",
        "\n",
        "We saw in previous articles the conditions to perform a z test. The 3 conditions are:\n",
        "* The sample has to\n",
        "be random.\n",
        "* A normal distribution can approximate the sampling distribution of the sample proportions. The rule of thumb is that you need to have at least 10 successes and 10 failures.\n",
        "* The samples are required to be independent. The rule of thumb is that if you are sampling without replacement, your sample size should be less than 10% of the population size.\n",
        "\n",
        "Let's work through our previous example and test for each of the conditions. Starting with the random sampling, we were told that the group of friends selected the people to ask randomly. With that information we are going to assume that their process was truly random. The normal condition tells us that the expected number of successes and failures need to be at least equal to 10. We were also able to meet the criteria (see the calculations below). Finally, we have the independence condition. In our case, the population size was the people in the beach area, which was about 400. The sample size used was 35, so we were also able to meet the condition to perform a z test."
      ]
    },
    {
      "cell_type": "code",
      "execution_count": null,
      "id": "academic-slope",
      "metadata": {
        "id": "academic-slope",
        "outputId": "37b608d5-4981-4d97-a97a-0eca3226552e"
      },
      "outputs": [
        {
          "name": "stdout",
          "output_type": "stream",
          "text": [
            "np = 10.5\n",
            "n(1-p) = 24.5\n"
          ]
        }
      ],
      "source": [
        "n = 35\n",
        "p = 0.3\n",
        "\n",
        "print('np = '+ str(n*p))\n",
        "print('n(1-p) = '+ str(n*(1-p)))"
      ]
    },
    {
      "cell_type": "markdown",
      "id": "compliant-agenda",
      "metadata": {
        "id": "compliant-agenda"
      },
      "source": [
        "# Calculating a z statistic in a test about a proportion"
      ]
    },
    {
      "cell_type": "markdown",
      "id": "golden-cotton",
      "metadata": {
        "id": "golden-cotton"
      },
      "source": [
        "We will continue to use our sunscreen problem. In the previous section we checked that all conditions for inference have been met. In that case, we are going to perform a z test.\n",
        "\n",
        "Before continuing let's recall our goal. From the entire population of the beach area, António and his friends took a sample of 35 people and calculated a sample statistic $\\hat p = 40\\%$. Now, assuming that the null hypothesis is true, what is the probability of getting a result this far away or further from the assumed population proportion $p=30\\%$.\n",
        "\n",
        "One way to calculate this probability is by calculating how many standard deviations away is the sampled proportion from the true proportion (remember that we always assume that $H_0$ is true, so we consider that the true proportion).\n",
        "\n",
        "$$Z =\\frac{\\hat p - p_0}{\\sqrt{\\frac{p_0 \\cdot (1-p_0)}{n}}}$$"
      ]
    },
    {
      "cell_type": "code",
      "execution_count": null,
      "id": "greater-double",
      "metadata": {
        "id": "greater-double",
        "outputId": "840bc47f-23b3-47d6-f3a6-5bb26d700afd"
      },
      "outputs": [
        {
          "data": {
            "text/plain": [
              "1.290994448735806"
            ]
          },
          "execution_count": 327,
          "metadata": {},
          "output_type": "execute_result"
        }
      ],
      "source": [
        "p_0 = 0.3\n",
        "p_hat = 0.4\n",
        "\n",
        "Z = (0.4-0.3)/np.sqrt((0.3*(1-0.3)/n))\n",
        "Z"
      ]
    },
    {
      "cell_type": "markdown",
      "id": "pressed-complement",
      "metadata": {
        "id": "pressed-complement"
      },
      "source": [
        "Our p-value can then be defined as by:\n",
        "\n",
        "$$P(Z \\geq 1.29)$$"
      ]
    },
    {
      "cell_type": "code",
      "execution_count": null,
      "id": "decent-reflection",
      "metadata": {
        "id": "decent-reflection",
        "outputId": "923d1d37-eb6d-4f74-9176-2e01e8af498f"
      },
      "outputs": [
        {
          "data": {
            "text/plain": [
              "0.09835280122947343"
            ]
          },
          "execution_count": 328,
          "metadata": {},
          "output_type": "execute_result"
        }
      ],
      "source": [
        "1-norm.cdf(Z)"
      ]
    },
    {
      "cell_type": "markdown",
      "id": "knowing-shoot",
      "metadata": {
        "id": "knowing-shoot"
      },
      "source": [
        "Comparing this probability that we got against the significance level of $\\alpha=0.05$, we see, once again, that we can not reject $H_0$."
      ]
    },
    {
      "cell_type": "markdown",
      "id": "harmful-summer",
      "metadata": {
        "id": "harmful-summer"
      },
      "source": [
        "# Hypothesis Test about a Population Mean"
      ]
    },
    {
      "cell_type": "markdown",
      "id": "portable-connectivity",
      "metadata": {
        "id": "portable-connectivity"
      },
      "source": [
        "One night, António was checking his phone and start wondering how many messages he and his friends were exchanging in a WhatsApp group chat, that they had setup 3 months before going on holiday. He suspected that, on average, they would send each other 180 messages a day but one of his friends argued that they exchanged more than 180 messages. They decided to test the theory.\n",
        "\n",
        "Let's define our significance test:\n",
        "\n",
        "$$\\begin{align}\n",
        "H_0&: \\mu = 180 \\\\\n",
        "H_a&: \\mu > 180\n",
        "\\end{align}$$\n",
        "\n",
        "They took a random sample of 8 days from the chat history and recorded how many messages were sent on those days. The sample data was approximately symmetric with a mean of 215 messages and a standard deviation of approximately 36 messages. They want to test their hypothesis with a significance level of 5%.\n",
        "\n",
        "As we saw previously, in this case we will be performing a t test and not a z test. The reason is the fact that we do not know the standard deviation of the sampling distribution of the sample mean $\\sigma_{\\bar x}$. We can only estimate it using the sampling standard deviation $s_x$. We can then write our test as:\n",
        "\n",
        "$$t = \\frac{\\bar x - \\mu_0}{\\frac{s_{x}}{\\sqrt{n}}}$$"
      ]
    },
    {
      "cell_type": "code",
      "execution_count": null,
      "id": "functional-activation",
      "metadata": {
        "id": "functional-activation",
        "outputId": "2e35b0ff-22a2-47ea-8dee-eb31090ef57b"
      },
      "outputs": [
        {
          "data": {
            "image/png": "[encoded data removed]",
            "text/plain": [
              "<Figure size 432x288 with 1 Axes>"
            ]
          },
          "metadata": {
            "needs_background": "light"
          },
          "output_type": "display_data"
        }
      ],
      "source": [
        "x = [266, 190, 161, 191, 241, 180, 240, 251]\n",
        "x = np.asarray(x)\n",
        "sns.histplot(x, bins=10);"
      ]
    },
    {
      "cell_type": "code",
      "execution_count": null,
      "id": "expanded-national",
      "metadata": {
        "id": "expanded-national",
        "outputId": "2eb83afe-a0c0-407d-ce84-a511fafdcd82"
      },
      "outputs": [
        {
          "name": "stdout",
          "output_type": "stream",
          "text": [
            "215.0\n",
            "36.29738282576307\n"
          ]
        }
      ],
      "source": [
        "print(x.mean())\n",
        "print(x.std())"
      ]
    },
    {
      "cell_type": "code",
      "execution_count": null,
      "id": "committed-input",
      "metadata": {
        "id": "committed-input",
        "outputId": "fbaf3a72-ae66-41b4-f6c7-492e0488b5cc"
      },
      "outputs": [
        {
          "data": {
            "text/plain": [
              "2.727330227672841"
            ]
          },
          "execution_count": 423,
          "metadata": {},
          "output_type": "execute_result"
        }
      ],
      "source": [
        "μ = 180\n",
        "n = 8\n",
        "\n",
        "t_star = (x.mean()-μ)/(x.std()/np.sqrt(n))\n",
        "t_star"
      ]
    },
    {
      "cell_type": "code",
      "execution_count": null,
      "id": "digital-going",
      "metadata": {
        "id": "digital-going",
        "outputId": "1f039793-376b-4531-ab16-eb7fe61bc74a"
      },
      "outputs": [
        {
          "data": {
            "text/plain": [
              "0.01472601649385541"
            ]
          },
          "execution_count": 424,
          "metadata": {},
          "output_type": "execute_result"
        }
      ],
      "source": [
        "1-t.cdf(t_star, df=n-1)"
      ]
    },
    {
      "cell_type": "markdown",
      "id": "aboriginal-lender",
      "metadata": {
        "id": "aboriginal-lender"
      },
      "source": [
        "Our p-value is approximately 0.015, which is smaller than our significance level. This means that we can reject $H_0$, raised by António and accept the alternative hypothesis. There is enough evidence to accept the hypothesis of António's friend that the group sent more than 180 messages a day."
      ]
    },
    {
      "cell_type": "markdown",
      "id": "enormous-roads",
      "metadata": {
        "id": "enormous-roads"
      },
      "source": [
        "# Conditions for a t Test about a Population Mean\n",
        "\n",
        "We saw in previous articles the conditions to perform a t test. The 3 conditions are:\n",
        "* The sample has to be random.\n",
        "* The sampling distribution of the sample mean can be approximated by a normal distribution. There are three ways to achieve it: sample size is bigger than 30 (central limit theorem applies), original distribution is normal, or the sampling distribution is symmetric and does not show outliers.\n",
        "* The samples are required to be independent. The rule of thumb is that if you are sampling without replacement, your sample size should be less than 10% of the population size.\n",
        "\n",
        "Once again, let's test our previous solved problem for each of the conditions. This will make us much more confident that the results are not biased in some way. We were told that António and his friend selected the days randomly, which meets the first criteria. Secondly, our sample distribution is roughly symmetric, so we can consider that the normal condition is also met. Finally, António and his friend used a sample size of 8. We were told that they had setup the WhatsApp group chat 3 months before going on holiday. The sample size represents less than 10%, so even if they sampled without replacement it is safe to assume independence between sampled days."
      ]
    },
    {
      "cell_type": "markdown",
      "source": [
        "## One-Sample T-Test\n",
        "A one-sample t-test checks whether a sample mean differs from the population mean. Let's create some dummy age data for the population of voters in the entire country and a sample of voters in Minnesota and test the whether the average age of voters Minnesota differs from the population:\n"
      ],
      "metadata": {
        "id": "0xEJSQxDrecY"
      },
      "id": "0xEJSQxDrecY"
    },
    {
      "cell_type": "code",
      "source": [
        "%matplotlib inline\n",
        "\n",
        "import numpy as np\n",
        "import pandas as pd\n",
        "import scipy.stats as stats\n",
        "import matplotlib.pyplot as plt\n",
        "import math"
      ],
      "metadata": {
        "id": "R12TsPRjrOcC"
      },
      "execution_count": 1,
      "outputs": [],
      "id": "R12TsPRjrOcC"
    },
    {
      "cell_type": "code",
      "source": [
        "np.random.seed(6)\n",
        "\n",
        "population_ages1 = stats.poisson.rvs(loc=18, mu=35, size=150000)\n",
        "population_ages2 = stats.poisson.rvs(loc=18, mu=10, size=100000)\n",
        "population_ages = np.concatenate((population_ages1, population_ages2))\n",
        "\n",
        "minnesota_ages1 = stats.poisson.rvs(loc=18, mu=30, size=30)\n",
        "minnesota_ages2 = stats.poisson.rvs(loc=18, mu=10, size=20)\n",
        "minnesota_ages = np.concatenate((minnesota_ages1, minnesota_ages2))\n",
        "\n",
        "print( population_ages.mean() )\n",
        "print( minnesota_ages.mean() )"
      ],
      "metadata": {
        "colab": {
          "base_uri": "https://localhost:8080/"
        },
        "id": "kROE9P6msDYn",
        "outputId": "96b7c2a3-7f73-486e-f2f2-0866ab496506"
      },
      "execution_count": 2,
      "outputs": [
        {
          "output_type": "stream",
          "name": "stdout",
          "text": [
            "43.000112\n",
            "39.26\n"
          ]
        }
      ],
      "id": "kROE9P6msDYn"
    },
    {
      "cell_type": "markdown",
      "source": [
        "Let's conduct a t-test at a 95% confidence level and see if it correctly rejects the null hypothesis that the sample comes from the same distribution as the population. To conduct a one sample t-test, we can the stats.ttest_1samp() function:"
      ],
      "metadata": {
        "id": "t2KnUeOasUbc"
      },
      "id": "t2KnUeOasUbc"
    },
    {
      "cell_type": "code",
      "source": [
        "stats.ttest_1samp(a = minnesota_ages,               # Sample data\n",
        "popmean = population_ages.mean())  # Pop mean"
      ],
      "metadata": {
        "colab": {
          "base_uri": "https://localhost:8080/"
        },
        "id": "0w45he6IsVLe",
        "outputId": "eb592f5b-4368-4c7a-d41b-71b4acc1ab31"
      },
      "execution_count": 3,
      "outputs": [
        {
          "output_type": "execute_result",
          "data": {
            "text/plain": [
              "Ttest_1sampResult(statistic=-2.5742714883655027, pvalue=0.013118685425061678)"
            ]
          },
          "metadata": {},
          "execution_count": 3
        }
      ],
      "id": "0w45he6IsVLe"
    },
    {
      "cell_type": "markdown",
      "source": [
        "The test result shows the test statistic \"t\" is equal to -2.574. This test statistic tells us how much the sample mean deviates from the null hypothesis.\n",
        "\n",
        "We can check the quantiles with stats.t.ppf():"
      ],
      "metadata": {
        "id": "18pJvSKesez5"
      },
      "id": "18pJvSKesez5"
    },
    {
      "cell_type": "code",
      "source": [
        "stats.t.ppf(q=0.025,  # Quantile to check\n",
        "            df=49)  # Degrees of freedom"
      ],
      "metadata": {
        "id": "lWVw9TYUsiIC",
        "colab": {
          "base_uri": "https://localhost:8080/"
        },
        "outputId": "6ba17b43-5024-479f-bf9d-cc79e93c8306"
      },
      "execution_count": 4,
      "outputs": [
        {
          "output_type": "execute_result",
          "data": {
            "text/plain": [
              "-2.0095752344892093"
            ]
          },
          "metadata": {},
          "execution_count": 4
        }
      ],
      "id": "lWVw9TYUsiIC"
    },
    {
      "cell_type": "code",
      "source": [
        "stats.t.ppf(q=0.975,  # Quantile to check\n",
        "            df=49)  # Degrees of freedom"
      ],
      "metadata": {
        "colab": {
          "base_uri": "https://localhost:8080/"
        },
        "id": "n3C6P6G5smrX",
        "outputId": "6e224961-0a32-4981-9541-4f468bbc8ef5"
      },
      "execution_count": 5,
      "outputs": [
        {
          "output_type": "execute_result",
          "data": {
            "text/plain": [
              "2.009575234489209"
            ]
          },
          "metadata": {},
          "execution_count": 5
        }
      ],
      "id": "n3C6P6G5smrX"
    },
    {
      "cell_type": "markdown",
      "source": [
        "We can calculate the chances of seeing a result as extreme as the one we observed (known as the p-value) by passing the t-statistic in as the quantile to the stats.t.cdf() function:"
      ],
      "metadata": {
        "id": "I4mFehFSzw-Z"
      },
      "id": "I4mFehFSzw-Z"
    },
    {
      "cell_type": "code",
      "source": [
        "stats.t.cdf(x= -2.5742,      # T-test statistic\n",
        "               df= 49) * 2   # Multiply by two for two tailed test *"
      ],
      "metadata": {
        "colab": {
          "base_uri": "https://localhost:8080/"
        },
        "id": "4BMO7a_PzzOj",
        "outputId": "bf95015d-ca9e-470a-b555-3c6f92150100"
      },
      "execution_count": 6,
      "outputs": [
        {
          "output_type": "execute_result",
          "data": {
            "text/plain": [
              "0.013121066545690117"
            ]
          },
          "metadata": {},
          "execution_count": 6
        }
      ],
      "id": "4BMO7a_PzzOj"
    },
    {
      "cell_type": "markdown",
      "source": [
        "In this case, the p-value is lower than our significance level α (equal to 1-conf.level or 0.05) so we should reject the null hypothesis. If we were to construct a 95% confidence interval for the sample it would not capture population mean of 43:"
      ],
      "metadata": {
        "id": "kJKR1Txnz7zO"
      },
      "id": "kJKR1Txnz7zO"
    },
    {
      "cell_type": "code",
      "source": [
        "sigma = minnesota_ages.std()/math.sqrt(50)  # Sample stdev/sample size\n",
        "\n",
        "stats.t.interval(0.95,                        # Confidence level\n",
        "                 df = 49,                     # Degrees of freedom\n",
        "                 loc = minnesota_ages.mean(), # Sample mean\n",
        "                 scale= sigma)                # Standard dev estimate"
      ],
      "metadata": {
        "colab": {
          "base_uri": "https://localhost:8080/"
        },
        "id": "3suQqpTSz8wX",
        "outputId": "98d673ee-c891-4aa2-acd3-52d1802131cb"
      },
      "execution_count": 7,
      "outputs": [
        {
          "output_type": "execute_result",
          "data": {
            "text/plain": [
              "(36.369669080722176, 42.15033091927782)"
            ]
          },
          "metadata": {},
          "execution_count": 7
        }
      ],
      "id": "3suQqpTSz8wX"
    },
    {
      "cell_type": "markdown",
      "source": [
        "On the other hand, since there is a 1.3% chance of seeing a result this extreme due to chance, it is not significant at the 99% confidence level. This means if we were to construct a 99% confidence interval, it would capture the population mean:"
      ],
      "metadata": {
        "id": "MROIhYHe0EXp"
      },
      "id": "MROIhYHe0EXp"
    },
    {
      "cell_type": "code",
      "source": [
        "stats.t.interval(alpha = 0.99,                # Confidence level\n",
        "                 df = 49,                     # Degrees of freedom\n",
        "                 loc = minnesota_ages.mean(), # Sample mean\n",
        "                 scale= sigma)                # Standard dev estimate"
      ],
      "metadata": {
        "colab": {
          "base_uri": "https://localhost:8080/"
        },
        "id": "gDwqoMPt0FOZ",
        "outputId": "876d04ec-934a-41bf-a7e0-b152e7f338f5"
      },
      "execution_count": 8,
      "outputs": [
        {
          "output_type": "execute_result",
          "data": {
            "text/plain": [
              "(35.40547994092107, 43.11452005907893)"
            ]
          },
          "metadata": {},
          "execution_count": 8
        }
      ],
      "id": "gDwqoMPt0FOZ"
    },
    {
      "cell_type": "markdown",
      "source": [
        "## PAIRED T-TEST\n",
        "\n",
        "\n",
        "\n",
        "The basic two sample t-test is designed for testing differences between independent groups. In some cases, you might be interested in testing differences between samples of the same group at different points in time. For instance, a hospital might want to test whether a weight-loss drug works by checking the weights of the same group patients before and after treatment. A paired t-test lets you check whether the means of samples from the same group differ.\n",
        "\n",
        "We can conduct a paired t-test using the scipy function stats.ttest_rel(). Let's generate some dummy patient weight data and do a paired t-test:"
      ],
      "metadata": {
        "id": "aTYwX-SE0T1h"
      },
      "id": "aTYwX-SE0T1h"
    },
    {
      "cell_type": "code",
      "source": [
        "np.random.seed(11)\n",
        "\n",
        "before= stats.norm.rvs(scale=30, loc=250, size=100)\n",
        "\n",
        "after = before + stats.norm.rvs(scale=5, loc=-1.25, size=100)\n",
        "\n",
        "weight_df = pd.DataFrame({\"weight_before\":before,\n",
        "                          \"weight_after\":after,\n",
        "                          \"weight_change\":after-before})\n",
        "\n",
        "weight_df.describe()             # Check a summary of the data"
      ],
      "metadata": {
        "colab": {
          "base_uri": "https://localhost:8080/",
          "height": 300
        },
        "id": "jaxKQXZT0Zg1",
        "outputId": "046e31d5-ba0f-4eb2-b30f-6aa2a423e04b"
      },
      "execution_count": 9,
      "outputs": [
        {
          "output_type": "execute_result",
          "data": {
            "text/html": [
              "\n",
              "  <div id=\"df-473600ba-edfd-4959-9738-a9fecb410d8d\">\n",
              "    <div class=\"colab-df-container\">\n",
              "      <div>\n",
              "<style scoped>\n",
              "    .dataframe tbody tr th:only-of-type {\n",
              "        vertical-align: middle;\n",
              "    }\n",
              "\n",
              "    .dataframe tbody tr th {\n",
              "        vertical-align: top;\n",
              "    }\n",
              "\n",
              "    .dataframe thead th {\n",
              "        text-align: right;\n",
              "    }\n",
              "</style>\n",
              "<table border=\"1\" class=\"dataframe\">\n",
              "  <thead>\n",
              "    <tr style=\"text-align: right;\">\n",
              "      <th></th>\n",
              "      <th>weight_before</th>\n",
              "      <th>weight_after</th>\n",
              "      <th>weight_change</th>\n",
              "    </tr>\n",
              "  </thead>\n",
              "  <tbody>\n",
              "    <tr>\n",
              "      <th>count</th>\n",
              "      <td>100.000000</td>\n",
              "      <td>100.000000</td>\n",
              "      <td>100.000000</td>\n",
              "    </tr>\n",
              "    <tr>\n",
              "      <th>mean</th>\n",
              "      <td>250.345546</td>\n",
              "      <td>249.115171</td>\n",
              "      <td>-1.230375</td>\n",
              "    </tr>\n",
              "    <tr>\n",
              "      <th>std</th>\n",
              "      <td>28.132539</td>\n",
              "      <td>28.422183</td>\n",
              "      <td>4.783696</td>\n",
              "    </tr>\n",
              "    <tr>\n",
              "      <th>min</th>\n",
              "      <td>170.400443</td>\n",
              "      <td>165.913930</td>\n",
              "      <td>-11.495286</td>\n",
              "    </tr>\n",
              "    <tr>\n",
              "      <th>25%</th>\n",
              "      <td>230.421042</td>\n",
              "      <td>229.148236</td>\n",
              "      <td>-4.046211</td>\n",
              "    </tr>\n",
              "    <tr>\n",
              "      <th>50%</th>\n",
              "      <td>250.830805</td>\n",
              "      <td>251.134089</td>\n",
              "      <td>-1.413463</td>\n",
              "    </tr>\n",
              "    <tr>\n",
              "      <th>75%</th>\n",
              "      <td>270.637145</td>\n",
              "      <td>268.927258</td>\n",
              "      <td>1.738673</td>\n",
              "    </tr>\n",
              "    <tr>\n",
              "      <th>max</th>\n",
              "      <td>314.700233</td>\n",
              "      <td>316.720357</td>\n",
              "      <td>9.759282</td>\n",
              "    </tr>\n",
              "  </tbody>\n",
              "</table>\n",
              "</div>\n",
              "      <button class=\"colab-df-convert\" onclick=\"convertToInteractive('df-473600ba-edfd-4959-9738-a9fecb410d8d')\"\n",
              "              title=\"Convert this dataframe to an interactive table.\"\n",
              "              style=\"display:none;\">\n",
              "        \n",
              "  <svg xmlns=\"http://www.w3.org/2000/svg\" height=\"24px\"viewBox=\"0 0 24 24\"\n",
              "       width=\"24px\">\n",
              "    <path d=\"M0 0h24v24H0V0z\" fill=\"none\"/>\n",
              "    <path d=\"M18.56 5.44l.94 2.06.94-2.06 2.06-.94-2.06-.94-.94-2.06-.94 2.06-2.06.94zm-11 1L8.5 8.5l.94-2.06 2.06-.94-2.06-.94L8.5 2.5l-.94 2.06-2.06.94zm10 10l.94 2.06.94-2.06 2.06-.94-2.06-.94-.94-2.06-.94 2.06-2.06.94z\"/><path d=\"M17.41 7.96l-1.37-1.37c-.4-.4-.92-.59-1.43-.59-.52 0-1.04.2-1.43.59L10.3 9.45l-7.72 7.72c-.78.78-.78 2.05 0 2.83L4 21.41c.39.39.9.59 1.41.59.51 0 1.02-.2 1.41-.59l7.78-7.78 2.81-2.81c.8-.78.8-2.07 0-2.86zM5.41 20L4 18.59l7.72-7.72 1.47 1.35L5.41 20z\"/>\n",
              "  </svg>\n",
              "      </button>\n",
              "      \n",
              "  <style>\n",
              "    .colab-df-container {\n",
              "      display:flex;\n",
              "      flex-wrap:wrap;\n",
              "      gap: 12px;\n",
              "    }\n",
              "\n",
              "    .colab-df-convert {\n",
              "      background-color: #E8F0FE;\n",
              "      border: none;\n",
              "      border-radius: 50%;\n",
              "      cursor: pointer;\n",
              "      display: none;\n",
              "      fill: #1967D2;\n",
              "      height: 32px;\n",
              "      padding: 0 0 0 0;\n",
              "      width: 32px;\n",
              "    }\n",
              "\n",
              "    .colab-df-convert:hover {\n",
              "      background-color: #E2EBFA;\n",
              "      box-shadow: 0px 1px 2px rgba(60, 64, 67, 0.3), 0px 1px 3px 1px rgba(60, 64, 67, 0.15);\n",
              "      fill: #174EA6;\n",
              "    }\n",
              "\n",
              "    [theme=dark] .colab-df-convert {\n",
              "      background-color: #3B4455;\n",
              "      fill: #D2E3FC;\n",
              "    }\n",
              "\n",
              "    [theme=dark] .colab-df-convert:hover {\n",
              "      background-color: #434B5C;\n",
              "      box-shadow: 0px 1px 3px 1px rgba(0, 0, 0, 0.15);\n",
              "      filter: drop-shadow(0px 1px 2px rgba(0, 0, 0, 0.3));\n",
              "      fill: #FFFFFF;\n",
              "    }\n",
              "  </style>\n",
              "\n",
              "      <script>\n",
              "        const buttonEl =\n",
              "          document.querySelector('#df-473600ba-edfd-4959-9738-a9fecb410d8d button.colab-df-convert');\n",
              "        buttonEl.style.display =\n",
              "          google.colab.kernel.accessAllowed ? 'block' : 'none';\n",
              "\n",
              "        async function convertToInteractive(key) {\n",
              "          const element = document.querySelector('#df-473600ba-edfd-4959-9738-a9fecb410d8d');\n",
              "          const dataTable =\n",
              "            await google.colab.kernel.invokeFunction('convertToInteractive',\n",
              "                                                     [key], {});\n",
              "          if (!dataTable) return;\n",
              "\n",
              "          const docLinkHtml = 'Like what you see? Visit the ' +\n",
              "            '<a target=\"_blank\" href=https://colab.research.google.com/notebooks/data_table.ipynb>data table notebook</a>'\n",
              "            + ' to learn more about interactive tables.';\n",
              "          element.innerHTML = '';\n",
              "          dataTable['output_type'] = 'display_data';\n",
              "          await google.colab.output.renderOutput(dataTable, element);\n",
              "          const docLink = document.createElement('div');\n",
              "          docLink.innerHTML = docLinkHtml;\n",
              "          element.appendChild(docLink);\n",
              "        }\n",
              "      </script>\n",
              "    </div>\n",
              "  </div>\n",
              "  "
            ],
            "text/plain": [
              "       weight_before  weight_after  weight_change\n",
              "count     100.000000    100.000000     100.000000\n",
              "mean      250.345546    249.115171      -1.230375\n",
              "std        28.132539     28.422183       4.783696\n",
              "min       170.400443    165.913930     -11.495286\n",
              "25%       230.421042    229.148236      -4.046211\n",
              "50%       250.830805    251.134089      -1.413463\n",
              "75%       270.637145    268.927258       1.738673\n",
              "max       314.700233    316.720357       9.759282"
            ]
          },
          "metadata": {},
          "execution_count": 9
        }
      ],
      "id": "jaxKQXZT0Zg1"
    },
    {
      "cell_type": "markdown",
      "source": [
        "The summary shows that patients lost about 1.23 pounds on average after treatment. Let's conduct a paired t-test to see whether this difference is significant at a 95% confidence level:"
      ],
      "metadata": {
        "id": "zAdrG_zL0ffl"
      },
      "id": "zAdrG_zL0ffl"
    },
    {
      "cell_type": "code",
      "source": [
        "stats.ttest_rel(a = before,\n",
        "                b = after)"
      ],
      "metadata": {
        "colab": {
          "base_uri": "https://localhost:8080/"
        },
        "id": "qtloGWd40gQy",
        "outputId": "a68c3ec2-77f9-4cc4-b5f1-4e1236e5f730"
      },
      "execution_count": 10,
      "outputs": [
        {
          "output_type": "execute_result",
          "data": {
            "text/plain": [
              "Ttest_relResult(statistic=2.5720175998568284, pvalue=0.011596444318439857)"
            ]
          },
          "metadata": {},
          "execution_count": 10
        }
      ],
      "id": "qtloGWd40gQy"
    },
    {
      "cell_type": "markdown",
      "source": [
        "## TYPE I AND TYPE II ERRORS"
      ],
      "metadata": {
        "id": "RXzo-t2TdX9Z"
      },
      "id": "RXzo-t2TdX9Z"
    },
    {
      "cell_type": "markdown",
      "metadata": {
        "id": "immediate-saying"
      },
      "source": [
        "We already saw that if the p-value is less than a significance level $\\alpha$ we should reject $H_0$. Conversely, if the p-value is greater than $\\alpha$ we should fail to reject $H_0$. When we perform these comparisons, there is always a probability that we are making an error. Let's draw a table to make it more clear.\n",
        "\n",
        "|  | $H_0$ True   | $H_0$ False |\n",
        "|------|------|------|\n",
        "|   Reject $H_0$  | Type I error|  Correct  |\n",
        "|   Fail to Reject $H_0$  | Correct |  Type II error  |\n",
        "\n",
        "Notice that the probability of getting a Type I error is equal to the significance level. Imagine that you define a significance level of 5%. This means that 5% of the time, even if your null hypothesis is true, you going to get a statistic that is going to make you reject the null hypothesis.\n",
        "\n",
        "What would be Type I and Type II errors in the example given before? Let's write down our hypothesis test again for the proportion people that use sunscreen:\n",
        "\n",
        "$$\\begin{align}H_0: p=0.3 \\\\\n",
        "H_a: p>0.3\n",
        "\\end{align}$$\n",
        "\n",
        "A Type I error would happen if the group of friends concludes that the people's proportion that use sunscreen is not equal to 0.3 when it actually is. On the other hand, a Type II error would be the case where the people's proportion is not equal to 0.3 but they fail to reject it.\n",
        "\n",
        "Another important concept to define is the power of significance tests. It is the probability that you are rejecting the null hypothesis when it is not true.\n",
        "\n",
        "$$\\begin{align}\n",
        "\\text{Power} &= P(\\text{reject} \\; H_0 | H_0 \\; \\text{false}) \\\\\n",
        "& = 1 - P(\\text{not rejecting} \\; H_0 | H_0 \\; \\text{false} )\n",
        "\\end{align}$$\n",
        "\n",
        "Notice that the $P(\\text{not rejecting} \\; H_0 | H_0 \\; \\text{false} )$ is actually the probability of making a Type II error, so you can think of the power of a significance test as the probability of $\\textbf{not}$ making a Type II error. \n",
        "\n",
        "Let's see what we can do to increase the power of our hypothesis tests:\n",
        "\n",
        "* Increase the significance level (but notice that this will also increase the probability of a Type I error).\n",
        "* Increase the sample size.\n",
        "* Less variability in the data.\n",
        "* If true parameter is far from the null hypothesis."
      ],
      "id": "immediate-saying"
    },
    {
      "cell_type": "code",
      "source": [
        "plt.figure(figsize=(12,10))\n",
        "\n",
        "\n",
        "plt.fill_between(x=np.arange(-4,-2,0.01), \n",
        "                 y1= stats.norm.pdf(np.arange(-4,-2,0.01)) ,\n",
        "                 facecolor='red',\n",
        "                 alpha=0.35)\n",
        "\n",
        "plt.fill_between(x=np.arange(-2,2,0.01), \n",
        "                 y1= stats.norm.pdf(np.arange(-2,2,0.01)) ,\n",
        "                 facecolor='grey',\n",
        "                 alpha=0.35)\n",
        "\n",
        "plt.fill_between(x=np.arange(2,4,0.01), \n",
        "                 y1= stats.norm.pdf(np.arange(2,4,0.01)) ,\n",
        "                 facecolor='red',\n",
        "                 alpha=0.5)\n",
        "\n",
        "plt.fill_between(x=np.arange(-4,-2,0.01), \n",
        "                 y1= stats.norm.pdf(np.arange(-4,-2,0.01),loc=3, scale=2) ,\n",
        "                 facecolor='grey',\n",
        "                 alpha=0.35)\n",
        "\n",
        "plt.fill_between(x=np.arange(-2,2,0.01), \n",
        "                 y1= stats.norm.pdf(np.arange(-2,2,0.01),loc=3, scale=2) ,\n",
        "                 facecolor='blue',\n",
        "                 alpha=0.35)\n",
        "\n",
        "plt.fill_between(x=np.arange(2,10,0.01), \n",
        "                 y1= stats.norm.pdf(np.arange(2,10,0.01),loc=3, scale=2),\n",
        "                 facecolor='grey',\n",
        "                 alpha=0.35)\n",
        "\n",
        "plt.text(x=-0.8, y=0.15, s= \"Null Hypothesis\")\n",
        "plt.text(x=2.5, y=0.13, s= \"Alternative\")\n",
        "plt.text(x=2.1, y=0.01, s= \"Type 1 Error\")\n",
        "plt.text(x=-3.2, y=0.01, s= \"Type 1 Error\")\n",
        "plt.text(x=0, y=0.02, s= \"Type 2 Error\");"
      ],
      "metadata": {
        "colab": {
          "base_uri": "https://localhost:8080/",
          "height": 592
        },
        "id": "Xu411n8v1AP7",
        "outputId": "c419f83a-2341-44d9-fd53-b4d2301fc0da"
      },
      "execution_count": 11,
      "outputs": [
        {
          "output_type": "display_data",
          "data": {
            "image/png": "[encoded data removed]",
            "text/plain": [
              "<Figure size 864x720 with 1 Axes>"
            ]
          },
          "metadata": {
            "needs_background": "light"
          }
        }
      ],
      "id": "Xu411n8v1AP7"
    },
    {
      "cell_type": "markdown",
      "source": [
        "In the plot above, the red areas indicate type I errors assuming the alternative hypothesis is not different from the null for a two-sided test with a 95% confidence level.\n",
        "\n",
        "The blue area represents type II errors that occur when the alternative hypothesis is different from the null, as shown by the distribution on the right.\n",
        "\n",
        "\n",
        "We can calculate the type II error rate for the distributions above as follows:\n"
      ],
      "metadata": {
        "id": "VU6vo0Ez1Ki9"
      },
      "id": "VU6vo0Ez1Ki9"
    },
    {
      "cell_type": "code",
      "source": [
        "lower_quantile = stats.norm.ppf(0.025)  # Lower cutoff value\n",
        "upper_quantile = stats.norm.ppf(0.975)  # Upper cutoff value\n",
        "\n",
        "# Area under alternative, to the left the lower cutoff value\n",
        "low = stats.norm.cdf(lower_quantile,    \n",
        "                     loc=3,             \n",
        "                     scale=2)\n",
        "\n",
        "# Area under alternative, to the left the upper cutoff value\n",
        "high = stats.norm.cdf(upper_quantile, \n",
        "                      loc=3, \n",
        "                      scale=2)          \n",
        "\n",
        "# Area under the alternative, between the cutoffs (Type II error)\n",
        "high-low"
      ],
      "metadata": {
        "colab": {
          "base_uri": "https://localhost:8080/"
        },
        "id": "oioxqHpS1OPV",
        "outputId": "c0966602-a8f1-4a4d-86bd-c265c471b796"
      },
      "execution_count": 12,
      "outputs": [
        {
          "output_type": "execute_result",
          "data": {
            "text/plain": [
              "0.294956061112323"
            ]
          },
          "metadata": {},
          "execution_count": 12
        }
      ],
      "id": "oioxqHpS1OPV"
    },
    {
      "cell_type": "markdown",
      "source": [
        "With the normal distributions above, we'd fail to reject the null hypothesis about 30% of the time because the distributions are close enough together that they have significant overlap."
      ],
      "metadata": {
        "id": "Ex4ICMHy1S41"
      },
      "id": "Ex4ICMHy1S41"
    },
    {
      "cell_type": "markdown",
      "id": "verified-asian",
      "metadata": {
        "id": "verified-asian"
      },
      "source": [
        "# Conclusion\n",
        "\n",
        "In this article, we covered significance or hypothesis tests. These are extremely useful for using sampled data to evaluate the likelihood of a claim about a population value. The value to be tested could be a proportion or the mean of a population. We calculated p-values for both cases, using a z test and a t test, respectively.\n",
        "\n",
        "We also addressed the errors that might happen when performing these tests. The Type I error has the same probability of happening as the defined significance level and translates the rejection of a null hypothesis which is actually true. When we fail to reject a null hypothesis and it is in fact false, we are producing a Type II error. Finally, we defined the power of a significance test as the probability of not making a Type II error, and saw ways to increase it."
      ]
    },
    {
      "cell_type": "markdown",
      "metadata": {
        "id": "optical-certification"
      },
      "source": [
        "# Exercises"
      ],
      "id": "optical-certification"
    },
    {
      "cell_type": "markdown",
      "metadata": {
        "id": "fallen-broadway"
      },
      "source": [
        "1. According to a large poll from last year, about 85% of houses in Porto have access to high-speed internet. Marco wondered if the proportion had changed and took a random sample of 80 houses and found that 75 had access to high-speed internet. He wants to use this sample data to test if the proportion actually changed. Assuming that the conditions for inference were met, what would you conclude about the proportion of houses with high-speed internet considering a significance level of 1%?"
      ],
      "id": "fallen-broadway"
    },
    {
      "cell_type": "markdown",
      "metadata": {
        "id": "cardiac-performance"
      },
      "source": [
        "2. Marta owns a fruit store and receives watermelons weekly. The supplier states that they are supposed to weigh 1kg. Marta decides to weigh a random sample of 100 watermelons and finds a mean weight of 850g and a standard deviation of 200g. She wants to use this sample data to test if the mean is smaller than the one claimed by the supplier and, if this is the case, renegotiate their contract. Assuming that the conditions for inference were met, what should Marta do (consider a significance level of 5%)?"
      ],
      "id": "cardiac-performance"
    },
    {
      "cell_type": "markdown",
      "source": [
        "## CHI-SQUARE TEST\n",
        "\n",
        "In our study of t-tests, we introduced the one-way t-test to check whether a sample mean differs from the an expected (population) mean. The chi-squared goodness-of-fit test is an analog of the one-way t-test for categorical variables: it tests whether the distribution of sample categorical data matches an expected distribution.\n",
        "\n",
        "Let's generate some fake demographic data for U.S. and Minnesota and walk through the chi-square goodness of fit test to check whether they are different:"
      ],
      "metadata": {
        "id": "SdcGK7H4eggP"
      },
      "id": "SdcGK7H4eggP"
    },
    {
      "cell_type": "code",
      "source": [
        "import numpy as np\n",
        "import pandas as pd\n",
        "import scipy.stats as stats"
      ],
      "metadata": {
        "id": "rs1cbBFw8Dc2"
      },
      "execution_count": null,
      "outputs": [],
      "id": "rs1cbBFw8Dc2"
    },
    {
      "cell_type": "code",
      "source": [
        "national = pd.DataFrame([\"white\"]*100000 + [\"hispanic\"]*60000 +\\\n",
        "                        [\"black\"]*50000 + [\"asian\"]*15000 + [\"other\"]*35000)\n",
        "           \n",
        "\n",
        "minnesota = pd.DataFrame([\"white\"]*600 + [\"hispanic\"]*300 + \\\n",
        "                         [\"black\"]*250 +[\"asian\"]*75 + [\"other\"]*150)\n",
        "\n",
        "national_table = pd.crosstab(index=national[0], columns=\"count\")\n",
        "minnesota_table = pd.crosstab(index=minnesota[0], columns=\"count\")\n",
        "\n",
        "print( \"National\")\n",
        "print(national_table)\n",
        "print(\" \")\n",
        "print( \"Minnesota\")\n",
        "print(minnesota_table)"
      ],
      "metadata": {
        "colab": {
          "base_uri": "https://localhost:8080/"
        },
        "id": "zm_2dQy68MS2",
        "outputId": "ae9d963a-b27b-496b-cd7b-68fdaa064e3e"
      },
      "execution_count": null,
      "outputs": [
        {
          "output_type": "stream",
          "name": "stdout",
          "text": [
            "National\n",
            "col_0      count\n",
            "0               \n",
            "asian      15000\n",
            "black      50000\n",
            "hispanic   60000\n",
            "other      35000\n",
            "white     100000\n",
            " \n",
            "Minnesota\n",
            "col_0     count\n",
            "0              \n",
            "asian        75\n",
            "black       250\n",
            "hispanic    300\n",
            "other       150\n",
            "white       600\n"
          ]
        }
      ],
      "id": "zm_2dQy68MS2"
    },
    {
      "cell_type": "code",
      "source": [
        "observed = minnesota_table\n",
        "\n",
        "national_ratios = national_table/len(national)  # Get population ratios\n",
        "\n",
        "expected = national_ratios * len(minnesota)   # Get expected counts\n",
        "\n",
        "chi_squared_stat = (((observed-expected)**2)/expected).sum()\n",
        "\n",
        "print(chi_squared_stat)"
      ],
      "metadata": {
        "colab": {
          "base_uri": "https://localhost:8080/"
        },
        "id": "ZkOP8pkS8S72",
        "outputId": "2d24153f-9812-49c7-ce41-799b8764c816"
      },
      "execution_count": null,
      "outputs": [
        {
          "output_type": "stream",
          "name": "stdout",
          "text": [
            "col_0\n",
            "count    18.194805\n",
            "dtype: float64\n"
          ]
        }
      ],
      "id": "ZkOP8pkS8S72"
    },
    {
      "cell_type": "code",
      "source": [
        "crit = stats.chi2.ppf(q = 0.95, # Find the critical value for 95% confidence*\n",
        "                      df = 4)   # Df = number of variable categories - 1\n",
        "\n",
        "print(\"Critical value\")\n",
        "print(crit)\n",
        "\n",
        "p_value = 1 - stats.chi2.cdf(x=chi_squared_stat,  # Find the p-value\n",
        "                             df=4)\n",
        "print(\"P value\")\n",
        "print(p_value)"
      ],
      "metadata": {
        "colab": {
          "base_uri": "https://localhost:8080/"
        },
        "id": "EWMdkmrY8YKh",
        "outputId": "42e6eb38-c69d-4e42-dca4-d6f3cfa0eea6"
      },
      "execution_count": null,
      "outputs": [
        {
          "output_type": "stream",
          "name": "stdout",
          "text": [
            "Critical value\n",
            "9.487729036781154\n",
            "P value\n",
            "[0.00113047]\n"
          ]
        }
      ],
      "id": "EWMdkmrY8YKh"
    },
    {
      "cell_type": "markdown",
      "source": [
        "\n",
        "Since our chi-squared statistic exceeds the critical value, we'd reject the null hypothesis that the two distributions are the same.\n",
        "\n",
        "You can carry out a chi-squared goodness-of-fit test automatically using the scipy function scipy.stats.chisquare():"
      ],
      "metadata": {
        "id": "F56NoV5e8g1k"
      },
      "id": "F56NoV5e8g1k"
    },
    {
      "cell_type": "code",
      "source": [
        "stats.chisquare(f_obs= observed,   # Array of observed counts\n",
        "                f_exp= expected)   # Array of expected counts"
      ],
      "metadata": {
        "colab": {
          "base_uri": "https://localhost:8080/"
        },
        "id": "DswKCtbw8kcA",
        "outputId": "4f09247b-3b4f-409f-d0c3-2e8067f23ea9"
      },
      "execution_count": null,
      "outputs": [
        {
          "output_type": "execute_result",
          "data": {
            "text/plain": [
              "Power_divergenceResult(statistic=array([18.19480519]), pvalue=array([0.00113047]))"
            ]
          },
          "metadata": {},
          "execution_count": 5
        }
      ],
      "id": "DswKCtbw8kcA"
    },
    {
      "cell_type": "markdown",
      "source": [
        "## Chi-Square Test of Independence\n",
        "\n",
        "The chi-squared test of independence tests whether two categorical variables are independent. The test of independence is commonly used to determine whether variables like education, political views and other preferences vary based on demographic factors like gender, race and religion. Let's generate some fake voter polling data and perform a test of independence:"
      ],
      "metadata": {
        "id": "GosqNYIk8oS4"
      },
      "id": "GosqNYIk8oS4"
    },
    {
      "cell_type": "code",
      "source": [
        "np.random.seed(10)\n",
        "\n",
        "# Sample data randomly at fixed probabilities\n",
        "voter_race = np.random.choice(a= [\"asian\",\"black\",\"hispanic\",\"other\",\"white\"],\n",
        "                              p = [0.05, 0.15 ,0.25, 0.05, 0.5],\n",
        "                              size=1000)\n",
        "\n",
        "# Sample data randomly at fixed probabilities\n",
        "voter_party = np.random.choice(a= [\"democrat\",\"independent\",\"republican\"],\n",
        "                              p = [0.4, 0.2, 0.4],\n",
        "                              size=1000)\n",
        "\n",
        "voters = pd.DataFrame({\"race\":voter_race, \n",
        "                       \"party\":voter_party})\n",
        "\n",
        "voter_tab = pd.crosstab(voters.race, voters.party, margins = True)\n",
        "\n",
        "voter_tab.columns = [\"democrat\",\"independent\",\"republican\",\"row_totals\"]\n",
        "\n",
        "voter_tab.index = [\"asian\",\"black\",\"hispanic\",\"other\",\"white\",\"col_totals\"]\n",
        "\n",
        "observed = voter_tab.iloc[0:5,0:3]   # Get table without totals for later use\n",
        "voter_tab"
      ],
      "metadata": {
        "colab": {
          "base_uri": "https://localhost:8080/",
          "height": 238
        },
        "id": "fO1wPNJV89fs",
        "outputId": "3bb17abe-18e7-437f-f23a-f2e7cc850f82"
      },
      "execution_count": null,
      "outputs": [
        {
          "output_type": "execute_result",
          "data": {
            "text/html": [
              "<div>\n",
              "<style scoped>\n",
              "    .dataframe tbody tr th:only-of-type {\n",
              "        vertical-align: middle;\n",
              "    }\n",
              "\n",
              "    .dataframe tbody tr th {\n",
              "        vertical-align: top;\n",
              "    }\n",
              "\n",
              "    .dataframe thead th {\n",
              "        text-align: right;\n",
              "    }\n",
              "</style>\n",
              "<table border=\"1\" class=\"dataframe\">\n",
              "  <thead>\n",
              "    <tr style=\"text-align: right;\">\n",
              "      <th></th>\n",
              "      <th>democrat</th>\n",
              "      <th>independent</th>\n",
              "      <th>republican</th>\n",
              "      <th>row_totals</th>\n",
              "    </tr>\n",
              "  </thead>\n",
              "  <tbody>\n",
              "    <tr>\n",
              "      <th>asian</th>\n",
              "      <td>21</td>\n",
              "      <td>7</td>\n",
              "      <td>32</td>\n",
              "      <td>60</td>\n",
              "    </tr>\n",
              "    <tr>\n",
              "      <th>black</th>\n",
              "      <td>65</td>\n",
              "      <td>25</td>\n",
              "      <td>64</td>\n",
              "      <td>154</td>\n",
              "    </tr>\n",
              "    <tr>\n",
              "      <th>hispanic</th>\n",
              "      <td>107</td>\n",
              "      <td>50</td>\n",
              "      <td>94</td>\n",
              "      <td>251</td>\n",
              "    </tr>\n",
              "    <tr>\n",
              "      <th>other</th>\n",
              "      <td>15</td>\n",
              "      <td>8</td>\n",
              "      <td>15</td>\n",
              "      <td>38</td>\n",
              "    </tr>\n",
              "    <tr>\n",
              "      <th>white</th>\n",
              "      <td>189</td>\n",
              "      <td>96</td>\n",
              "      <td>212</td>\n",
              "      <td>497</td>\n",
              "    </tr>\n",
              "    <tr>\n",
              "      <th>col_totals</th>\n",
              "      <td>397</td>\n",
              "      <td>186</td>\n",
              "      <td>417</td>\n",
              "      <td>1000</td>\n",
              "    </tr>\n",
              "  </tbody>\n",
              "</table>\n",
              "</div>"
            ],
            "text/plain": [
              "            democrat  independent  republican  row_totals\n",
              "asian             21            7          32          60\n",
              "black             65           25          64         154\n",
              "hispanic         107           50          94         251\n",
              "other             15            8          15          38\n",
              "white            189           96         212         497\n",
              "col_totals       397          186         417        1000"
            ]
          },
          "metadata": {},
          "execution_count": 6
        }
      ],
      "id": "fO1wPNJV89fs"
    },
    {
      "cell_type": "markdown",
      "source": [
        "For a test of independence, we use the same chi-squared formula that we used for the goodness-of-fit test. The main difference is we have to calculate the expected counts of each cell in a 2-dimensional table instead of a 1-dimensional table. To get the expected count for a cell, multiply the row total for that cell by the column total for that cell and then divide by the total number of observations. We can quickly get the expected counts for all cells in the table by taking the row totals and column totals of the table, performing an outer product on them with the np.outer() function and dividing by the number of observations:"
      ],
      "metadata": {
        "id": "hwgBv0Mp9B6y"
      },
      "id": "hwgBv0Mp9B6y"
    },
    {
      "cell_type": "code",
      "source": [
        "expected =  np.outer(voter_tab[\"row_totals\"][0:5],\n",
        "                     voter_tab.loc[\"col_totals\"][0:3]) / 1000\n",
        "\n",
        "expected = pd.DataFrame(expected)\n",
        "\n",
        "expected.columns = [\"democrat\",\"independent\",\"republican\"]\n",
        "expected.index = [\"asian\",\"black\",\"hispanic\",\"other\",\"white\"]\n",
        "\n",
        "expected"
      ],
      "metadata": {
        "colab": {
          "base_uri": "https://localhost:8080/",
          "height": 206
        },
        "id": "fIXr-bhm9Cu2",
        "outputId": "404990d2-8288-4aa5-bf84-06e95936cf89"
      },
      "execution_count": null,
      "outputs": [
        {
          "output_type": "execute_result",
          "data": {
            "text/html": [
              "<div>\n",
              "<style scoped>\n",
              "    .dataframe tbody tr th:only-of-type {\n",
              "        vertical-align: middle;\n",
              "    }\n",
              "\n",
              "    .dataframe tbody tr th {\n",
              "        vertical-align: top;\n",
              "    }\n",
              "\n",
              "    .dataframe thead th {\n",
              "        text-align: right;\n",
              "    }\n",
              "</style>\n",
              "<table border=\"1\" class=\"dataframe\">\n",
              "  <thead>\n",
              "    <tr style=\"text-align: right;\">\n",
              "      <th></th>\n",
              "      <th>democrat</th>\n",
              "      <th>independent</th>\n",
              "      <th>republican</th>\n",
              "    </tr>\n",
              "  </thead>\n",
              "  <tbody>\n",
              "    <tr>\n",
              "      <th>asian</th>\n",
              "      <td>23.820</td>\n",
              "      <td>11.160</td>\n",
              "      <td>25.020</td>\n",
              "    </tr>\n",
              "    <tr>\n",
              "      <th>black</th>\n",
              "      <td>61.138</td>\n",
              "      <td>28.644</td>\n",
              "      <td>64.218</td>\n",
              "    </tr>\n",
              "    <tr>\n",
              "      <th>hispanic</th>\n",
              "      <td>99.647</td>\n",
              "      <td>46.686</td>\n",
              "      <td>104.667</td>\n",
              "    </tr>\n",
              "    <tr>\n",
              "      <th>other</th>\n",
              "      <td>15.086</td>\n",
              "      <td>7.068</td>\n",
              "      <td>15.846</td>\n",
              "    </tr>\n",
              "    <tr>\n",
              "      <th>white</th>\n",
              "      <td>197.309</td>\n",
              "      <td>92.442</td>\n",
              "      <td>207.249</td>\n",
              "    </tr>\n",
              "  </tbody>\n",
              "</table>\n",
              "</div>"
            ],
            "text/plain": [
              "          democrat  independent  republican\n",
              "asian       23.820       11.160      25.020\n",
              "black       61.138       28.644      64.218\n",
              "hispanic    99.647       46.686     104.667\n",
              "other       15.086        7.068      15.846\n",
              "white      197.309       92.442     207.249"
            ]
          },
          "metadata": {},
          "execution_count": 8
        }
      ],
      "id": "fIXr-bhm9Cu2"
    },
    {
      "cell_type": "code",
      "source": [
        "chi_squared_stat = (((observed-expected)**2)/expected).sum().sum()\n",
        "\n",
        "print(chi_squared_stat)\n",
        "\n",
        "crit = stats.chi2.ppf(q = 0.95, # Find the critical value for 95% confidence*\n",
        "                      df = 8)   # *\n",
        "\n",
        "print(\"Critical value\")\n",
        "print(crit)\n",
        "\n",
        "p_value = 1 - stats.chi2.cdf(x=chi_squared_stat,  # Find the p-value\n",
        "                             df=8)\n",
        "print(\"P value\")\n",
        "print(p_value)"
      ],
      "metadata": {
        "colab": {
          "base_uri": "https://localhost:8080/"
        },
        "id": "YwZogszL9MFg",
        "outputId": "7bb5681e-b3c0-4097-9b54-1dad0bfe6ea9"
      },
      "execution_count": null,
      "outputs": [
        {
          "output_type": "stream",
          "name": "stdout",
          "text": [
            "7.169321280162059\n",
            "Critical value\n",
            "15.50731305586545\n",
            "P value\n",
            "0.518479392948842\n"
          ]
        }
      ],
      "id": "YwZogszL9MFg"
    },
    {
      "cell_type": "markdown",
      "source": [
        "he degrees of freedom for a test of independence equals the product of the number of categories in each variable minus 1. In this case we have a 5x3 table so df = 4x2 = 8.\n",
        "\n",
        "As with the goodness-of-fit test, we can use scipy to conduct a test of independence quickly. Use stats.chi2_contingency() function to conduct a test of independence automatically given a frequency table of observed counts:"
      ],
      "metadata": {
        "id": "g59nq7EU9UuO"
      },
      "id": "g59nq7EU9UuO"
    },
    {
      "cell_type": "code",
      "source": [
        "stats.chi2_contingency(observed= observed)"
      ],
      "metadata": {
        "colab": {
          "base_uri": "https://localhost:8080/"
        },
        "id": "CRt9Bnp19WCr",
        "outputId": "41c357cb-1bc9-45dc-8449-0d67aeccd008"
      },
      "execution_count": null,
      "outputs": [
        {
          "output_type": "execute_result",
          "data": {
            "text/plain": [
              "(7.169321280162059, 0.518479392948842, 8, array([[ 23.82 ,  11.16 ,  25.02 ],\n",
              "        [ 61.138,  28.644,  64.218],\n",
              "        [ 99.647,  46.686, 104.667],\n",
              "        [ 15.086,   7.068,  15.846],\n",
              "        [197.309,  92.442, 207.249]]))"
            ]
          },
          "metadata": {},
          "execution_count": 10
        }
      ],
      "id": "CRt9Bnp19WCr"
    },
    {
      "cell_type": "markdown",
      "source": [
        "\n",
        "The output shows the chi-square statistic, the p-value and the degrees of freedom followed by the expected counts.\n",
        "\n",
        "As expected, given the high p-value, the test result does not detect a significant relationship between the variables."
      ],
      "metadata": {
        "id": "_MbE7wz89YP1"
      },
      "id": "_MbE7wz89YP1"
    }
  ],
  "metadata": {
    "kernelspec": {
      "display_name": "Python 3",
      "language": "python",
      "name": "python3"
    },
    "language_info": {
      "codemirror_mode": {
        "name": "ipython",
        "version": 3
      },
      "file_extension": ".py",
      "mimetype": "text/x-python",
      "name": "python",
      "nbconvert_exporter": "python",
      "pygments_lexer": "ipython3",
      "version": "3.8.5"
    },
    "colab": {
      "name": "HYPOTHESIS TESTING.ipynb",
      "provenance": [],
      "collapsed_sections": []
    }
  },
  "nbformat": 4,
  "nbformat_minor": 5
}