{
 "cells": [
  {
   "cell_type": "code",
   "execution_count": null,
   "metadata": {},
   "outputs": [],
   "source": []
  },
  {
   "cell_type": "markdown",
   "metadata": {},
   "source": [
    "# Sudoku Project"
   ]
  },
  {
   "cell_type": "code",
   "execution_count": null,
   "metadata": {},
   "outputs": [],
   "source": []
  },
  {
   "cell_type": "code",
   "execution_count": 7,
   "metadata": {},
   "outputs": [],
   "source": [
    "board = [\n",
    "    [0, 0, 0, 8, 0, 0, 4, 0, 3],\n",
    "    [2, 0, 0, 0, 0, 4, 8, 9, 0],\n",
    "    [0, 9, 0, 0, 0, 0, 0, 0, 2],\n",
    "    [0, 0, 0, 0, 2, 9, 0, 1, 0],\n",
    "    [0, 0, 0, 0, 0, 0, 0, 0, 0],\n",
    "    [0, 7, 0, 6, 5, 0, 0, 0, 0],\n",
    "    [9, 0, 0, 0, 0, 0, 0, 8, 0],\n",
    "    [0, 6, 2, 7, 0, 0, 0, 0, 1],\n",
    "    [4, 0, 3, 0, 0, 6, 0, 0, 0]\n",
    "]"
   ]
  },
  {
   "cell_type": "code",
   "execution_count": 8,
   "metadata": {},
   "outputs": [
    {
     "name": "stdout",
     "output_type": "stream",
     "text": [
      "7 5 1 8 9 2 4 6 3 \n",
      "2 3 6 1 7 4 8 9 5 \n",
      "8 9 4 5 6 3 1 7 2 \n",
      "6 4 5 3 2 9 7 1 8 \n",
      "1 2 9 4 8 7 3 5 6 \n",
      "3 7 8 6 5 1 2 4 9 \n",
      "9 1 7 2 3 5 6 8 4 \n",
      "5 6 2 7 4 8 9 3 1 \n",
      "4 8 3 9 1 6 5 2 7 \n"
     ]
    }
   ],
   "source": [
    "def printBoard(board):\n",
    "    for i in range(0, 9):\n",
    "        for j in range(0, 9):\n",
    "            print(board[i][j], end=\" \")\n",
    "        print()\n",
    "\n",
    "def isPossible(board, row, col, val):\n",
    "    for j in range(0, 9):\n",
    "        if board[row][j] == val:\n",
    "            return False\n",
    "\n",
    "    for i in range(0, 9):\n",
    "        if board[i][col] == val:\n",
    "            return False\n",
    "\n",
    "    startRow = (row // 3) * 3\n",
    "    startCol = (col // 3) * 3\n",
    "    for i in range(0, 3):\n",
    "        for j in range(0, 3):\n",
    "            if board[startRow+i][startCol+j] == val:\n",
    "                return False\n",
    "    return True\n",
    "\n",
    "def solve(board):\n",
    "    for i in range(0, 9):\n",
    "        for j in range(0, 9):\n",
    "            if board[i][j] == 0:\n",
    "                for val in range(1, 10):\n",
    "                    if isPossible(board, i, j, val):\n",
    "                        board[i][j] = val\n",
    "                        solve(board)\n",
    "                        # Bad choice\n",
    "                        board[i][j] = 0\n",
    "                return           \n",
    "    printBoard(board)\n",
    "\n",
    "solve(board)"
   ]
  },
  {
   "cell_type": "code",
   "execution_count": 6,
   "metadata": {},
   "outputs": [
    {
     "name": "stdout",
     "output_type": "stream",
     "text": [
      "3 1 6 5 7 8 4 9 2 \n",
      "5 2 9 1 3 4 7 6 8 \n",
      "4 8 7 6 2 9 5 3 1 \n",
      "2 6 3 4 1 5 9 8 7 \n",
      "9 7 4 8 6 3 1 2 5 \n",
      "8 5 1 7 9 2 6 4 3 \n",
      "1 3 8 9 4 7 2 5 6 \n",
      "6 9 2 3 5 1 8 7 4 \n",
      "7 4 5 2 8 6 3 1 9 \n"
     ]
    }
   ],
   "source": [
    "grid = [[3, 1, 6, 5, 0, 8, 4, 0, 0],\n",
    "        [5, 2, 0, 0, 0, 0, 0, 0, 0],\n",
    "        [0, 8, 7, 0, 0, 0, 0, 3, 1],\n",
    "        [0, 0, 3, 0, 1, 0, 0, 8, 0],\n",
    "        [9, 0, 0, 8, 6, 3, 0, 0, 5],\n",
    "        [0, 5, 0, 0, 9, 0, 6, 0, 0],\n",
    "        [1, 3, 0, 0, 0, 0, 2, 5, 0],\n",
    "        [0, 0, 0, 0, 0, 0, 0, 7, 4],\n",
    "        [0, 0, 5, 2, 0, 6, 3, 0, 0]]\n",
    "solve(grid)"
   ]
  },
  {
   "cell_type": "code",
   "execution_count": null,
   "metadata": {},
   "outputs": [],
   "source": []
  }
 ],
 "metadata": {
  "kernelspec": {
   "display_name": "Python 3",
   "language": "python",
   "name": "python3"
  },
  "language_info": {
   "codemirror_mode": {
    "name": "ipython",
    "version": 3
   },
   "file_extension": ".py",
   "mimetype": "text/x-python",
   "name": "python",
   "nbconvert_exporter": "python",
   "pygments_lexer": "ipython3",
   "version": "3.8.5"
  }
 },
 "nbformat": 4,
 "nbformat_minor": 4
}
