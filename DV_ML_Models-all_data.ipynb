{
 "cells": [
  {
   "cell_type": "markdown",
   "metadata": {},
   "source": [
    "\n",
    "# DV Project"
   ]
  },
  {
   "cell_type": "code",
   "execution_count": 1,
   "metadata": {},
   "outputs": [],
   "source": [
    "from sklearn.metrics import accuracy_score, confusion_matrix, precision_score, recall_score, f1_score, classification_report\n",
    "from sklearn.model_selection import train_test_split, cross_val_score, GridSearchCV\n",
    "from sklearn.tree import DecisionTreeClassifier\n",
    "import seaborn as sns\n",
    "import pandas as pd\n",
    "import numpy as np\n",
    "import math as mt\n",
    "import statistics as st\n",
    "import matplotlib.pyplot as plt\n",
    "import seaborn as sns\n",
    "from sklearn import preprocessing"
   ]
  },
  {
   "cell_type": "code",
   "execution_count": 3,
   "metadata": {
    "scrolled": true
   },
   "outputs": [
    {
     "data": {
      "text/html": [
       "<div>\n",
       "<style scoped>\n",
       "    .dataframe tbody tr th:only-of-type {\n",
       "        vertical-align: middle;\n",
       "    }\n",
       "\n",
       "    .dataframe tbody tr th {\n",
       "        vertical-align: top;\n",
       "    }\n",
       "\n",
       "    .dataframe thead th {\n",
       "        text-align: right;\n",
       "    }\n",
       "</style>\n",
       "<table border=\"1\" class=\"dataframe\">\n",
       "  <thead>\n",
       "    <tr style=\"text-align: right;\">\n",
       "      <th></th>\n",
       "      <th>P_type</th>\n",
       "      <th>Trial</th>\n",
       "      <th>Stimulus</th>\n",
       "      <th>Export Start Trial Time [ms]</th>\n",
       "      <th>Export End Trial Time [ms]</th>\n",
       "      <th>Participant</th>\n",
       "      <th>Color</th>\n",
       "      <th>Fixation Count</th>\n",
       "      <th>Fixation Frequency [count/s]</th>\n",
       "      <th>Fixation Duration Total [ms]</th>\n",
       "      <th>...</th>\n",
       "      <th>Saccade Velocity Maximum [°/s]</th>\n",
       "      <th>Saccade Velocity Minimum [°/s]</th>\n",
       "      <th>Saccade Latency Average [ms]</th>\n",
       "      <th>Blink Count</th>\n",
       "      <th>Blink Frequency [count/s]</th>\n",
       "      <th>Blink Duration Total [ms]</th>\n",
       "      <th>Blink Duration Average [ms]</th>\n",
       "      <th>Blink Duration Maximum [ms]</th>\n",
       "      <th>Blink Duration Minimum [ms]</th>\n",
       "      <th>Scanpath Length [px]</th>\n",
       "    </tr>\n",
       "  </thead>\n",
       "  <tbody>\n",
       "    <tr>\n",
       "      <th>0</th>\n",
       "      <td>Non_Expert</td>\n",
       "      <td>Trial001</td>\n",
       "      <td>01_dr.JPG</td>\n",
       "      <td>0</td>\n",
       "      <td>4989.4</td>\n",
       "      <td>NE1</td>\n",
       "      <td>Coral</td>\n",
       "      <td>10</td>\n",
       "      <td>2.0</td>\n",
       "      <td>4299.9</td>\n",
       "      <td>...</td>\n",
       "      <td>0.0</td>\n",
       "      <td>0.0</td>\n",
       "      <td>470.9</td>\n",
       "      <td>1</td>\n",
       "      <td>0.2</td>\n",
       "      <td>133.6</td>\n",
       "      <td>133.6</td>\n",
       "      <td>133.6</td>\n",
       "      <td>133.6</td>\n",
       "      <td>1002</td>\n",
       "    </tr>\n",
       "    <tr>\n",
       "      <th>1</th>\n",
       "      <td>Non_Expert</td>\n",
       "      <td>Trial001</td>\n",
       "      <td>01_dr.JPG</td>\n",
       "      <td>0</td>\n",
       "      <td>4986.0</td>\n",
       "      <td>NE2</td>\n",
       "      <td>CornflowerBlue</td>\n",
       "      <td>14</td>\n",
       "      <td>2.8</td>\n",
       "      <td>4332.0</td>\n",
       "      <td>...</td>\n",
       "      <td>0.0</td>\n",
       "      <td>0.0</td>\n",
       "      <td>330.5</td>\n",
       "      <td>0</td>\n",
       "      <td>0.0</td>\n",
       "      <td>0.0</td>\n",
       "      <td>0.0</td>\n",
       "      <td>0.0</td>\n",
       "      <td>0.0</td>\n",
       "      <td>2599</td>\n",
       "    </tr>\n",
       "    <tr>\n",
       "      <th>2</th>\n",
       "      <td>Non_Expert</td>\n",
       "      <td>Trial001</td>\n",
       "      <td>01_dr.JPG</td>\n",
       "      <td>0</td>\n",
       "      <td>5004.2</td>\n",
       "      <td>NE3</td>\n",
       "      <td>Crimson</td>\n",
       "      <td>13</td>\n",
       "      <td>2.6</td>\n",
       "      <td>4455.0</td>\n",
       "      <td>...</td>\n",
       "      <td>0.0</td>\n",
       "      <td>0.0</td>\n",
       "      <td>363.8</td>\n",
       "      <td>0</td>\n",
       "      <td>0.0</td>\n",
       "      <td>0.0</td>\n",
       "      <td>0.0</td>\n",
       "      <td>0.0</td>\n",
       "      <td>0.0</td>\n",
       "      <td>2129</td>\n",
       "    </tr>\n",
       "    <tr>\n",
       "      <th>3</th>\n",
       "      <td>Non_Expert</td>\n",
       "      <td>Trial001</td>\n",
       "      <td>01_dr.JPG</td>\n",
       "      <td>0</td>\n",
       "      <td>4979.9</td>\n",
       "      <td>NE4</td>\n",
       "      <td>Cyan</td>\n",
       "      <td>9</td>\n",
       "      <td>1.8</td>\n",
       "      <td>4454.6</td>\n",
       "      <td>...</td>\n",
       "      <td>0.0</td>\n",
       "      <td>0.0</td>\n",
       "      <td>631.6</td>\n",
       "      <td>1</td>\n",
       "      <td>0.2</td>\n",
       "      <td>100.0</td>\n",
       "      <td>100.0</td>\n",
       "      <td>100.0</td>\n",
       "      <td>100.0</td>\n",
       "      <td>1368</td>\n",
       "    </tr>\n",
       "    <tr>\n",
       "      <th>4</th>\n",
       "      <td>Non_Expert</td>\n",
       "      <td>Trial001</td>\n",
       "      <td>01_dr.JPG</td>\n",
       "      <td>0</td>\n",
       "      <td>5000.4</td>\n",
       "      <td>NE5</td>\n",
       "      <td>DarkBlue</td>\n",
       "      <td>10</td>\n",
       "      <td>2.0</td>\n",
       "      <td>4535.6</td>\n",
       "      <td>...</td>\n",
       "      <td>0.0</td>\n",
       "      <td>0.0</td>\n",
       "      <td>521.1</td>\n",
       "      <td>0</td>\n",
       "      <td>0.0</td>\n",
       "      <td>0.0</td>\n",
       "      <td>0.0</td>\n",
       "      <td>0.0</td>\n",
       "      <td>0.0</td>\n",
       "      <td>1692</td>\n",
       "    </tr>\n",
       "  </tbody>\n",
       "</table>\n",
       "<p>5 rows × 39 columns</p>\n",
       "</div>"
      ],
      "text/plain": [
       "       P_type     Trial   Stimulus  Export Start Trial Time [ms]  \\\n",
       "0  Non_Expert  Trial001  01_dr.JPG                             0   \n",
       "1  Non_Expert  Trial001  01_dr.JPG                             0   \n",
       "2  Non_Expert  Trial001  01_dr.JPG                             0   \n",
       "3  Non_Expert  Trial001  01_dr.JPG                             0   \n",
       "4  Non_Expert  Trial001  01_dr.JPG                             0   \n",
       "\n",
       "   Export End Trial Time [ms] Participant           Color  Fixation Count  \\\n",
       "0                      4989.4         NE1           Coral              10   \n",
       "1                      4986.0         NE2  CornflowerBlue              14   \n",
       "2                      5004.2         NE3         Crimson              13   \n",
       "3                      4979.9         NE4            Cyan               9   \n",
       "4                      5000.4         NE5        DarkBlue              10   \n",
       "\n",
       "   Fixation Frequency [count/s]  Fixation Duration Total [ms]  ...  \\\n",
       "0                           2.0                        4299.9  ...   \n",
       "1                           2.8                        4332.0  ...   \n",
       "2                           2.6                        4455.0  ...   \n",
       "3                           1.8                        4454.6  ...   \n",
       "4                           2.0                        4535.6  ...   \n",
       "\n",
       "   Saccade Velocity Maximum [°/s]  Saccade Velocity Minimum [°/s]  \\\n",
       "0                             0.0                             0.0   \n",
       "1                             0.0                             0.0   \n",
       "2                             0.0                             0.0   \n",
       "3                             0.0                             0.0   \n",
       "4                             0.0                             0.0   \n",
       "\n",
       "   Saccade Latency Average [ms]  Blink Count  Blink Frequency [count/s]  \\\n",
       "0                         470.9            1                        0.2   \n",
       "1                         330.5            0                        0.0   \n",
       "2                         363.8            0                        0.0   \n",
       "3                         631.6            1                        0.2   \n",
       "4                         521.1            0                        0.0   \n",
       "\n",
       "   Blink Duration Total [ms]  Blink Duration Average [ms]  \\\n",
       "0                      133.6                        133.6   \n",
       "1                        0.0                          0.0   \n",
       "2                        0.0                          0.0   \n",
       "3                      100.0                        100.0   \n",
       "4                        0.0                          0.0   \n",
       "\n",
       "   Blink Duration Maximum [ms]  Blink Duration Minimum [ms]  \\\n",
       "0                        133.6                        133.6   \n",
       "1                          0.0                          0.0   \n",
       "2                          0.0                          0.0   \n",
       "3                        100.0                        100.0   \n",
       "4                          0.0                          0.0   \n",
       "\n",
       "   Scanpath Length [px]  \n",
       "0                  1002  \n",
       "1                  2599  \n",
       "2                  2129  \n",
       "3                  1368  \n",
       "4                  1692  \n",
       "\n",
       "[5 rows x 39 columns]"
      ]
     },
     "execution_count": 3,
     "metadata": {},
     "output_type": "execute_result"
    }
   ],
   "source": [
    "data=pd.read_excel(\"C:\\\\Users\\\\mrpal\\\\OneDrive\\\\Desktop\\\\DV Project\\\\both_all.xlsx\")\n",
    "data.head()"
   ]
  },
  {
   "cell_type": "code",
   "execution_count": 4,
   "metadata": {
    "scrolled": true
   },
   "outputs": [
    {
     "name": "stdout",
     "output_type": "stream",
     "text": [
      "<class 'pandas.core.frame.DataFrame'>\n",
      "RangeIndex: 1654 entries, 0 to 1653\n",
      "Data columns (total 39 columns):\n",
      " #   Column                            Non-Null Count  Dtype  \n",
      "---  ------                            --------------  -----  \n",
      " 0   P_type                            1654 non-null   object \n",
      " 1   Trial                             1654 non-null   object \n",
      " 2   Stimulus                          1654 non-null   object \n",
      " 3   Export Start Trial Time [ms]      1654 non-null   int64  \n",
      " 4   Export End Trial Time [ms]        1654 non-null   float64\n",
      " 5   Participant                       1654 non-null   object \n",
      " 6   Color                             1654 non-null   object \n",
      " 7   Fixation Count                    1654 non-null   int64  \n",
      " 8   Fixation Frequency [count/s]      1654 non-null   float64\n",
      " 9   Fixation Duration Total [ms]      1654 non-null   float64\n",
      " 10  Fixation Duration Average [ms]    1654 non-null   float64\n",
      " 11  Fixation Duration Maximum [ms]    1654 non-null   float64\n",
      " 12  Fixation Duration Minimum [ms]    1654 non-null   float64\n",
      " 13  Fixation Dispersion Total [px]    1654 non-null   float64\n",
      " 14  Fixation Dispersion Average [px]  1654 non-null   float64\n",
      " 15  Fixation Dispersion Maximum [px]  1654 non-null   float64\n",
      " 16  Fixation Dispersion Minimum [px]  1654 non-null   float64\n",
      " 17  Saccade Count                     1654 non-null   int64  \n",
      " 18  Saccade Frequency [count/s]       1654 non-null   float64\n",
      " 19  Saccade Duration Total [ms]       1654 non-null   float64\n",
      " 20  Saccade Duration Average [ms]     1654 non-null   float64\n",
      " 21  Saccade Duration Maximum [ms]     1654 non-null   float64\n",
      " 22  Saccade Duration Minimum [ms]     1654 non-null   float64\n",
      " 23  Saccade Amplitude Total [°]       1654 non-null   float64\n",
      " 24  Saccade Amplitude Average [°]     1654 non-null   float64\n",
      " 25  Saccade Amplitude Maximum [°]     1654 non-null   float64\n",
      " 26  Saccade Amplitude Minimum [°]     1654 non-null   float64\n",
      " 27  Saccade Velocity Total [°/s]      1654 non-null   float64\n",
      " 28  Saccade Velocity Average [°/s]    1654 non-null   float64\n",
      " 29  Saccade Velocity Maximum [°/s]    1654 non-null   float64\n",
      " 30  Saccade Velocity Minimum [°/s]    1654 non-null   float64\n",
      " 31  Saccade Latency Average [ms]      1654 non-null   float64\n",
      " 32  Blink Count                       1654 non-null   int64  \n",
      " 33  Blink Frequency [count/s]         1654 non-null   float64\n",
      " 34  Blink Duration Total [ms]         1654 non-null   float64\n",
      " 35  Blink Duration Average [ms]       1654 non-null   float64\n",
      " 36  Blink Duration Maximum [ms]       1654 non-null   float64\n",
      " 37  Blink Duration Minimum [ms]       1654 non-null   float64\n",
      " 38  Scanpath Length [px]              1654 non-null   int64  \n",
      "dtypes: float64(29), int64(5), object(5)\n",
      "memory usage: 504.1+ KB\n"
     ]
    }
   ],
   "source": [
    "data.info()"
   ]
  },
  {
   "cell_type": "code",
   "execution_count": 5,
   "metadata": {},
   "outputs": [
    {
     "data": {
      "text/html": [
       "<div>\n",
       "<style scoped>\n",
       "    .dataframe tbody tr th:only-of-type {\n",
       "        vertical-align: middle;\n",
       "    }\n",
       "\n",
       "    .dataframe tbody tr th {\n",
       "        vertical-align: top;\n",
       "    }\n",
       "\n",
       "    .dataframe thead th {\n",
       "        text-align: right;\n",
       "    }\n",
       "</style>\n",
       "<table border=\"1\" class=\"dataframe\">\n",
       "  <thead>\n",
       "    <tr style=\"text-align: right;\">\n",
       "      <th></th>\n",
       "      <th>Export Start Trial Time [ms]</th>\n",
       "      <th>Export End Trial Time [ms]</th>\n",
       "      <th>Fixation Count</th>\n",
       "      <th>Fixation Frequency [count/s]</th>\n",
       "      <th>Fixation Duration Total [ms]</th>\n",
       "      <th>Fixation Duration Average [ms]</th>\n",
       "      <th>Fixation Duration Maximum [ms]</th>\n",
       "      <th>Fixation Duration Minimum [ms]</th>\n",
       "      <th>Fixation Dispersion Total [px]</th>\n",
       "      <th>Fixation Dispersion Average [px]</th>\n",
       "      <th>...</th>\n",
       "      <th>Saccade Velocity Maximum [°/s]</th>\n",
       "      <th>Saccade Velocity Minimum [°/s]</th>\n",
       "      <th>Saccade Latency Average [ms]</th>\n",
       "      <th>Blink Count</th>\n",
       "      <th>Blink Frequency [count/s]</th>\n",
       "      <th>Blink Duration Total [ms]</th>\n",
       "      <th>Blink Duration Average [ms]</th>\n",
       "      <th>Blink Duration Maximum [ms]</th>\n",
       "      <th>Blink Duration Minimum [ms]</th>\n",
       "      <th>Scanpath Length [px]</th>\n",
       "    </tr>\n",
       "  </thead>\n",
       "  <tbody>\n",
       "    <tr>\n",
       "      <th>count</th>\n",
       "      <td>1654.0</td>\n",
       "      <td>1654.000000</td>\n",
       "      <td>1654.000000</td>\n",
       "      <td>1654.000000</td>\n",
       "      <td>1654.000000</td>\n",
       "      <td>1654.000000</td>\n",
       "      <td>1654.000000</td>\n",
       "      <td>1654.000000</td>\n",
       "      <td>1654.000000</td>\n",
       "      <td>1654.000000</td>\n",
       "      <td>...</td>\n",
       "      <td>1654.000000</td>\n",
       "      <td>1654.000000</td>\n",
       "      <td>1654.000000</td>\n",
       "      <td>1654.000000</td>\n",
       "      <td>1654.000000</td>\n",
       "      <td>1654.000000</td>\n",
       "      <td>1654.000000</td>\n",
       "      <td>1654.000000</td>\n",
       "      <td>1654.000000</td>\n",
       "      <td>1654.000000</td>\n",
       "    </tr>\n",
       "    <tr>\n",
       "      <th>mean</th>\n",
       "      <td>0.0</td>\n",
       "      <td>5000.816264</td>\n",
       "      <td>9.591294</td>\n",
       "      <td>1.918259</td>\n",
       "      <td>4089.239903</td>\n",
       "      <td>704.348489</td>\n",
       "      <td>1469.585792</td>\n",
       "      <td>292.842019</td>\n",
       "      <td>1129.375937</td>\n",
       "      <td>115.379504</td>\n",
       "      <td>...</td>\n",
       "      <td>115.736699</td>\n",
       "      <td>28.293108</td>\n",
       "      <td>507.701270</td>\n",
       "      <td>0.865175</td>\n",
       "      <td>0.173035</td>\n",
       "      <td>164.567231</td>\n",
       "      <td>69.167654</td>\n",
       "      <td>84.311911</td>\n",
       "      <td>60.515901</td>\n",
       "      <td>1061.594317</td>\n",
       "    </tr>\n",
       "    <tr>\n",
       "      <th>std</th>\n",
       "      <td>0.0</td>\n",
       "      <td>7.024150</td>\n",
       "      <td>4.702506</td>\n",
       "      <td>0.940501</td>\n",
       "      <td>995.318269</td>\n",
       "      <td>867.693301</td>\n",
       "      <td>1186.590382</td>\n",
       "      <td>797.422317</td>\n",
       "      <td>991.555019</td>\n",
       "      <td>68.568544</td>\n",
       "      <td>...</td>\n",
       "      <td>192.400356</td>\n",
       "      <td>68.186868</td>\n",
       "      <td>482.972653</td>\n",
       "      <td>2.194551</td>\n",
       "      <td>0.438910</td>\n",
       "      <td>461.776311</td>\n",
       "      <td>182.194681</td>\n",
       "      <td>216.152526</td>\n",
       "      <td>171.607859</td>\n",
       "      <td>859.790339</td>\n",
       "    </tr>\n",
       "    <tr>\n",
       "      <th>min</th>\n",
       "      <td>0.0</td>\n",
       "      <td>4910.000000</td>\n",
       "      <td>1.000000</td>\n",
       "      <td>0.200000</td>\n",
       "      <td>82.900000</td>\n",
       "      <td>82.900000</td>\n",
       "      <td>82.900000</td>\n",
       "      <td>80.000000</td>\n",
       "      <td>22.300000</td>\n",
       "      <td>22.300000</td>\n",
       "      <td>...</td>\n",
       "      <td>0.000000</td>\n",
       "      <td>0.000000</td>\n",
       "      <td>0.000000</td>\n",
       "      <td>0.000000</td>\n",
       "      <td>0.000000</td>\n",
       "      <td>0.000000</td>\n",
       "      <td>0.000000</td>\n",
       "      <td>0.000000</td>\n",
       "      <td>0.000000</td>\n",
       "      <td>0.000000</td>\n",
       "    </tr>\n",
       "    <tr>\n",
       "      <th>25%</th>\n",
       "      <td>0.0</td>\n",
       "      <td>4999.400000</td>\n",
       "      <td>6.000000</td>\n",
       "      <td>1.200000</td>\n",
       "      <td>3907.300000</td>\n",
       "      <td>283.575000</td>\n",
       "      <td>666.300000</td>\n",
       "      <td>98.250000</td>\n",
       "      <td>478.675000</td>\n",
       "      <td>60.225000</td>\n",
       "      <td>...</td>\n",
       "      <td>0.000000</td>\n",
       "      <td>0.000000</td>\n",
       "      <td>261.675000</td>\n",
       "      <td>0.000000</td>\n",
       "      <td>0.000000</td>\n",
       "      <td>0.000000</td>\n",
       "      <td>0.000000</td>\n",
       "      <td>0.000000</td>\n",
       "      <td>0.000000</td>\n",
       "      <td>408.250000</td>\n",
       "    </tr>\n",
       "    <tr>\n",
       "      <th>50%</th>\n",
       "      <td>0.0</td>\n",
       "      <td>5000.100000</td>\n",
       "      <td>10.000000</td>\n",
       "      <td>2.000000</td>\n",
       "      <td>4433.850000</td>\n",
       "      <td>412.950000</td>\n",
       "      <td>1033.250000</td>\n",
       "      <td>116.700000</td>\n",
       "      <td>772.700000</td>\n",
       "      <td>89.650000</td>\n",
       "      <td>...</td>\n",
       "      <td>0.000000</td>\n",
       "      <td>0.000000</td>\n",
       "      <td>383.350000</td>\n",
       "      <td>0.000000</td>\n",
       "      <td>0.000000</td>\n",
       "      <td>0.000000</td>\n",
       "      <td>0.000000</td>\n",
       "      <td>0.000000</td>\n",
       "      <td>0.000000</td>\n",
       "      <td>820.500000</td>\n",
       "    </tr>\n",
       "    <tr>\n",
       "      <th>75%</th>\n",
       "      <td>0.0</td>\n",
       "      <td>5000.900000</td>\n",
       "      <td>13.000000</td>\n",
       "      <td>2.600000</td>\n",
       "      <td>4719.425000</td>\n",
       "      <td>741.250000</td>\n",
       "      <td>1866.975000</td>\n",
       "      <td>166.600000</td>\n",
       "      <td>1505.075000</td>\n",
       "      <td>164.850000</td>\n",
       "      <td>...</td>\n",
       "      <td>159.000000</td>\n",
       "      <td>37.075000</td>\n",
       "      <td>585.675000</td>\n",
       "      <td>1.000000</td>\n",
       "      <td>0.200000</td>\n",
       "      <td>166.600000</td>\n",
       "      <td>123.675000</td>\n",
       "      <td>133.300000</td>\n",
       "      <td>99.225000</td>\n",
       "      <td>1565.250000</td>\n",
       "    </tr>\n",
       "    <tr>\n",
       "      <th>max</th>\n",
       "      <td>0.0</td>\n",
       "      <td>5052.300000</td>\n",
       "      <td>23.000000</td>\n",
       "      <td>4.600000</td>\n",
       "      <td>4999.600000</td>\n",
       "      <td>4999.600000</td>\n",
       "      <td>4999.600000</td>\n",
       "      <td>4999.600000</td>\n",
       "      <td>5517.400000</td>\n",
       "      <td>334.200000</td>\n",
       "      <td>...</td>\n",
       "      <td>1211.200000</td>\n",
       "      <td>859.000000</td>\n",
       "      <td>4415.100000</td>\n",
       "      <td>21.000000</td>\n",
       "      <td>4.200000</td>\n",
       "      <td>4433.000000</td>\n",
       "      <td>4433.000000</td>\n",
       "      <td>4433.000000</td>\n",
       "      <td>4433.000000</td>\n",
       "      <td>4927.000000</td>\n",
       "    </tr>\n",
       "  </tbody>\n",
       "</table>\n",
       "<p>8 rows × 34 columns</p>\n",
       "</div>"
      ],
      "text/plain": [
       "       Export Start Trial Time [ms]  Export End Trial Time [ms]  \\\n",
       "count                        1654.0                 1654.000000   \n",
       "mean                            0.0                 5000.816264   \n",
       "std                             0.0                    7.024150   \n",
       "min                             0.0                 4910.000000   \n",
       "25%                             0.0                 4999.400000   \n",
       "50%                             0.0                 5000.100000   \n",
       "75%                             0.0                 5000.900000   \n",
       "max                             0.0                 5052.300000   \n",
       "\n",
       "       Fixation Count  Fixation Frequency [count/s]  \\\n",
       "count     1654.000000                   1654.000000   \n",
       "mean         9.591294                      1.918259   \n",
       "std          4.702506                      0.940501   \n",
       "min          1.000000                      0.200000   \n",
       "25%          6.000000                      1.200000   \n",
       "50%         10.000000                      2.000000   \n",
       "75%         13.000000                      2.600000   \n",
       "max         23.000000                      4.600000   \n",
       "\n",
       "       Fixation Duration Total [ms]  Fixation Duration Average [ms]  \\\n",
       "count                   1654.000000                     1654.000000   \n",
       "mean                    4089.239903                      704.348489   \n",
       "std                      995.318269                      867.693301   \n",
       "min                       82.900000                       82.900000   \n",
       "25%                     3907.300000                      283.575000   \n",
       "50%                     4433.850000                      412.950000   \n",
       "75%                     4719.425000                      741.250000   \n",
       "max                     4999.600000                     4999.600000   \n",
       "\n",
       "       Fixation Duration Maximum [ms]  Fixation Duration Minimum [ms]  \\\n",
       "count                     1654.000000                     1654.000000   \n",
       "mean                      1469.585792                      292.842019   \n",
       "std                       1186.590382                      797.422317   \n",
       "min                         82.900000                       80.000000   \n",
       "25%                        666.300000                       98.250000   \n",
       "50%                       1033.250000                      116.700000   \n",
       "75%                       1866.975000                      166.600000   \n",
       "max                       4999.600000                     4999.600000   \n",
       "\n",
       "       Fixation Dispersion Total [px]  Fixation Dispersion Average [px]  ...  \\\n",
       "count                     1654.000000                       1654.000000  ...   \n",
       "mean                      1129.375937                        115.379504  ...   \n",
       "std                        991.555019                         68.568544  ...   \n",
       "min                         22.300000                         22.300000  ...   \n",
       "25%                        478.675000                         60.225000  ...   \n",
       "50%                        772.700000                         89.650000  ...   \n",
       "75%                       1505.075000                        164.850000  ...   \n",
       "max                       5517.400000                        334.200000  ...   \n",
       "\n",
       "       Saccade Velocity Maximum [°/s]  Saccade Velocity Minimum [°/s]  \\\n",
       "count                     1654.000000                     1654.000000   \n",
       "mean                       115.736699                       28.293108   \n",
       "std                        192.400356                       68.186868   \n",
       "min                          0.000000                        0.000000   \n",
       "25%                          0.000000                        0.000000   \n",
       "50%                          0.000000                        0.000000   \n",
       "75%                        159.000000                       37.075000   \n",
       "max                       1211.200000                      859.000000   \n",
       "\n",
       "       Saccade Latency Average [ms]  Blink Count  Blink Frequency [count/s]  \\\n",
       "count                   1654.000000  1654.000000                1654.000000   \n",
       "mean                     507.701270     0.865175                   0.173035   \n",
       "std                      482.972653     2.194551                   0.438910   \n",
       "min                        0.000000     0.000000                   0.000000   \n",
       "25%                      261.675000     0.000000                   0.000000   \n",
       "50%                      383.350000     0.000000                   0.000000   \n",
       "75%                      585.675000     1.000000                   0.200000   \n",
       "max                     4415.100000    21.000000                   4.200000   \n",
       "\n",
       "       Blink Duration Total [ms]  Blink Duration Average [ms]  \\\n",
       "count                1654.000000                  1654.000000   \n",
       "mean                  164.567231                    69.167654   \n",
       "std                   461.776311                   182.194681   \n",
       "min                     0.000000                     0.000000   \n",
       "25%                     0.000000                     0.000000   \n",
       "50%                     0.000000                     0.000000   \n",
       "75%                   166.600000                   123.675000   \n",
       "max                  4433.000000                  4433.000000   \n",
       "\n",
       "       Blink Duration Maximum [ms]  Blink Duration Minimum [ms]  \\\n",
       "count                  1654.000000                  1654.000000   \n",
       "mean                     84.311911                    60.515901   \n",
       "std                     216.152526                   171.607859   \n",
       "min                       0.000000                     0.000000   \n",
       "25%                       0.000000                     0.000000   \n",
       "50%                       0.000000                     0.000000   \n",
       "75%                     133.300000                    99.225000   \n",
       "max                    4433.000000                  4433.000000   \n",
       "\n",
       "       Scanpath Length [px]  \n",
       "count           1654.000000  \n",
       "mean            1061.594317  \n",
       "std              859.790339  \n",
       "min                0.000000  \n",
       "25%              408.250000  \n",
       "50%              820.500000  \n",
       "75%             1565.250000  \n",
       "max             4927.000000  \n",
       "\n",
       "[8 rows x 34 columns]"
      ]
     },
     "execution_count": 5,
     "metadata": {},
     "output_type": "execute_result"
    }
   ],
   "source": [
    "data.describe()"
   ]
  },
  {
   "cell_type": "code",
   "execution_count": 6,
   "metadata": {},
   "outputs": [
    {
     "data": {
      "text/plain": [
       "Index(['P_type', 'Trial', 'Stimulus', 'Export Start Trial Time [ms]',\n",
       "       'Export End Trial Time [ms]', 'Participant', 'Color', 'Fixation Count',\n",
       "       'Fixation Frequency [count/s]', 'Fixation Duration Total [ms]',\n",
       "       'Fixation Duration Average [ms]', 'Fixation Duration Maximum [ms]',\n",
       "       'Fixation Duration Minimum [ms]', 'Fixation Dispersion Total [px]',\n",
       "       'Fixation Dispersion Average [px]', 'Fixation Dispersion Maximum [px]',\n",
       "       'Fixation Dispersion Minimum [px]', 'Saccade Count',\n",
       "       'Saccade Frequency [count/s]', 'Saccade Duration Total [ms]',\n",
       "       'Saccade Duration Average [ms]', 'Saccade Duration Maximum [ms]',\n",
       "       'Saccade Duration Minimum [ms]', 'Saccade Amplitude Total [°]',\n",
       "       'Saccade Amplitude Average [°]', 'Saccade Amplitude Maximum [°]',\n",
       "       'Saccade Amplitude Minimum [°]', 'Saccade Velocity Total [°/s]',\n",
       "       'Saccade Velocity Average [°/s]', 'Saccade Velocity Maximum [°/s]',\n",
       "       'Saccade Velocity Minimum [°/s]', 'Saccade Latency Average [ms]',\n",
       "       'Blink Count', 'Blink Frequency [count/s]', 'Blink Duration Total [ms]',\n",
       "       'Blink Duration Average [ms]', 'Blink Duration Maximum [ms]',\n",
       "       'Blink Duration Minimum [ms]', 'Scanpath Length [px]'],\n",
       "      dtype='object')"
      ]
     },
     "execution_count": 6,
     "metadata": {},
     "output_type": "execute_result"
    }
   ],
   "source": [
    "data.columns"
   ]
  },
  {
   "cell_type": "code",
   "execution_count": null,
   "metadata": {},
   "outputs": [],
   "source": []
  },
  {
   "cell_type": "markdown",
   "metadata": {},
   "source": [
    "#### A1. Please study about the train_test_split() functionality available from above website. Use the functionality to perform a train test split with 80:20 ratio (80% available data is taken as training set)."
   ]
  },
  {
   "cell_type": "code",
   "execution_count": 7,
   "metadata": {},
   "outputs": [
    {
     "data": {
      "text/html": [
       "<div>\n",
       "<style scoped>\n",
       "    .dataframe tbody tr th:only-of-type {\n",
       "        vertical-align: middle;\n",
       "    }\n",
       "\n",
       "    .dataframe tbody tr th {\n",
       "        vertical-align: top;\n",
       "    }\n",
       "\n",
       "    .dataframe thead th {\n",
       "        text-align: right;\n",
       "    }\n",
       "</style>\n",
       "<table border=\"1\" class=\"dataframe\">\n",
       "  <thead>\n",
       "    <tr style=\"text-align: right;\">\n",
       "      <th></th>\n",
       "      <th>Fixation Count</th>\n",
       "      <th>Fixation Duration Total [ms]</th>\n",
       "      <th>Fixation Duration Average [ms]</th>\n",
       "      <th>Fixation Duration Maximum [ms]</th>\n",
       "      <th>Fixation Duration Minimum [ms]</th>\n",
       "      <th>Fixation Dispersion Total [px]</th>\n",
       "      <th>Fixation Dispersion Average [px]</th>\n",
       "      <th>Fixation Dispersion Maximum [px]</th>\n",
       "      <th>Fixation Dispersion Minimum [px]</th>\n",
       "      <th>Scanpath Length [px]</th>\n",
       "    </tr>\n",
       "  </thead>\n",
       "  <tbody>\n",
       "    <tr>\n",
       "      <th>0</th>\n",
       "      <td>10</td>\n",
       "      <td>4299.9</td>\n",
       "      <td>430.0</td>\n",
       "      <td>1333.2</td>\n",
       "      <td>133.3</td>\n",
       "      <td>426.6</td>\n",
       "      <td>42.7</td>\n",
       "      <td>79.7</td>\n",
       "      <td>14.5</td>\n",
       "      <td>1002</td>\n",
       "    </tr>\n",
       "    <tr>\n",
       "      <th>1</th>\n",
       "      <td>14</td>\n",
       "      <td>4332.0</td>\n",
       "      <td>309.4</td>\n",
       "      <td>599.9</td>\n",
       "      <td>100.1</td>\n",
       "      <td>549.9</td>\n",
       "      <td>39.3</td>\n",
       "      <td>79.8</td>\n",
       "      <td>5.6</td>\n",
       "      <td>2599</td>\n",
       "    </tr>\n",
       "    <tr>\n",
       "      <th>2</th>\n",
       "      <td>13</td>\n",
       "      <td>4455.0</td>\n",
       "      <td>342.7</td>\n",
       "      <td>799.6</td>\n",
       "      <td>88.9</td>\n",
       "      <td>482.7</td>\n",
       "      <td>37.1</td>\n",
       "      <td>73.4</td>\n",
       "      <td>9.9</td>\n",
       "      <td>2129</td>\n",
       "    </tr>\n",
       "    <tr>\n",
       "      <th>3</th>\n",
       "      <td>9</td>\n",
       "      <td>4454.6</td>\n",
       "      <td>495.0</td>\n",
       "      <td>1233.4</td>\n",
       "      <td>99.7</td>\n",
       "      <td>469.9</td>\n",
       "      <td>52.2</td>\n",
       "      <td>107.5</td>\n",
       "      <td>11.3</td>\n",
       "      <td>1368</td>\n",
       "    </tr>\n",
       "    <tr>\n",
       "      <th>4</th>\n",
       "      <td>10</td>\n",
       "      <td>4535.6</td>\n",
       "      <td>453.6</td>\n",
       "      <td>1533.2</td>\n",
       "      <td>133.3</td>\n",
       "      <td>416.5</td>\n",
       "      <td>41.6</td>\n",
       "      <td>115.2</td>\n",
       "      <td>5.1</td>\n",
       "      <td>1692</td>\n",
       "    </tr>\n",
       "  </tbody>\n",
       "</table>\n",
       "</div>"
      ],
      "text/plain": [
       "   Fixation Count  Fixation Duration Total [ms]  \\\n",
       "0              10                        4299.9   \n",
       "1              14                        4332.0   \n",
       "2              13                        4455.0   \n",
       "3               9                        4454.6   \n",
       "4              10                        4535.6   \n",
       "\n",
       "   Fixation Duration Average [ms]  Fixation Duration Maximum [ms]  \\\n",
       "0                           430.0                          1333.2   \n",
       "1                           309.4                           599.9   \n",
       "2                           342.7                           799.6   \n",
       "3                           495.0                          1233.4   \n",
       "4                           453.6                          1533.2   \n",
       "\n",
       "   Fixation Duration Minimum [ms]  Fixation Dispersion Total [px]  \\\n",
       "0                           133.3                           426.6   \n",
       "1                           100.1                           549.9   \n",
       "2                            88.9                           482.7   \n",
       "3                            99.7                           469.9   \n",
       "4                           133.3                           416.5   \n",
       "\n",
       "   Fixation Dispersion Average [px]  Fixation Dispersion Maximum [px]  \\\n",
       "0                              42.7                              79.7   \n",
       "1                              39.3                              79.8   \n",
       "2                              37.1                              73.4   \n",
       "3                              52.2                             107.5   \n",
       "4                              41.6                             115.2   \n",
       "\n",
       "   Fixation Dispersion Minimum [px]  Scanpath Length [px]  \n",
       "0                              14.5                  1002  \n",
       "1                               5.6                  2599  \n",
       "2                               9.9                  2129  \n",
       "3                              11.3                  1368  \n",
       "4                               5.1                  1692  "
      ]
     },
     "execution_count": 7,
     "metadata": {},
     "output_type": "execute_result"
    }
   ],
   "source": [
    "X=data[[ 'Fixation Count', 'Fixation Duration Total [ms]',\n",
    "       'Fixation Duration Average [ms]', 'Fixation Duration Maximum [ms]',\n",
    "       'Fixation Duration Minimum [ms]', 'Fixation Dispersion Total [px]',\n",
    "       'Fixation Dispersion Average [px]', 'Fixation Dispersion Maximum [px]',\n",
    "       'Fixation Dispersion Minimum [px]', 'Scanpath Length [px]']] #.values\n",
    "\n",
    "X.head() # X[0:2]"
   ]
  },
  {
   "cell_type": "code",
   "execution_count": 8,
   "metadata": {},
   "outputs": [],
   "source": [
    "#Standardization of data with mean 0 and Var 1 to every features\n",
    "#X= preprocessing.StandardScaler().fit_transform(X)\n",
    "#X[0:5]"
   ]
  },
  {
   "cell_type": "code",
   "execution_count": 9,
   "metadata": {},
   "outputs": [],
   "source": [
    "is_expert=[]\n",
    "for i in range(len(data[\"P_type\"])):\n",
    "    if data[\"P_type\"][i]==\"Expert\":\n",
    "        is_expert.append(1)\n",
    "    else:\n",
    "        is_expert.append(0)\n",
    "        "
   ]
  },
  {
   "cell_type": "code",
   "execution_count": 10,
   "metadata": {},
   "outputs": [],
   "source": [
    "data[\"is_expert\"]=is_expert\n"
   ]
  },
  {
   "cell_type": "code",
   "execution_count": 11,
   "metadata": {},
   "outputs": [
    {
     "data": {
      "text/html": [
       "<div>\n",
       "<style scoped>\n",
       "    .dataframe tbody tr th:only-of-type {\n",
       "        vertical-align: middle;\n",
       "    }\n",
       "\n",
       "    .dataframe tbody tr th {\n",
       "        vertical-align: top;\n",
       "    }\n",
       "\n",
       "    .dataframe thead th {\n",
       "        text-align: right;\n",
       "    }\n",
       "</style>\n",
       "<table border=\"1\" class=\"dataframe\">\n",
       "  <thead>\n",
       "    <tr style=\"text-align: right;\">\n",
       "      <th></th>\n",
       "      <th>P_type</th>\n",
       "      <th>Trial</th>\n",
       "      <th>Stimulus</th>\n",
       "      <th>Export Start Trial Time [ms]</th>\n",
       "      <th>Export End Trial Time [ms]</th>\n",
       "      <th>Participant</th>\n",
       "      <th>Color</th>\n",
       "      <th>Fixation Count</th>\n",
       "      <th>Fixation Frequency [count/s]</th>\n",
       "      <th>Fixation Duration Total [ms]</th>\n",
       "      <th>...</th>\n",
       "      <th>Saccade Velocity Minimum [°/s]</th>\n",
       "      <th>Saccade Latency Average [ms]</th>\n",
       "      <th>Blink Count</th>\n",
       "      <th>Blink Frequency [count/s]</th>\n",
       "      <th>Blink Duration Total [ms]</th>\n",
       "      <th>Blink Duration Average [ms]</th>\n",
       "      <th>Blink Duration Maximum [ms]</th>\n",
       "      <th>Blink Duration Minimum [ms]</th>\n",
       "      <th>Scanpath Length [px]</th>\n",
       "      <th>is_expert</th>\n",
       "    </tr>\n",
       "  </thead>\n",
       "  <tbody>\n",
       "    <tr>\n",
       "      <th>0</th>\n",
       "      <td>Non_Expert</td>\n",
       "      <td>Trial001</td>\n",
       "      <td>01_dr.JPG</td>\n",
       "      <td>0</td>\n",
       "      <td>4989.4</td>\n",
       "      <td>NE1</td>\n",
       "      <td>Coral</td>\n",
       "      <td>10</td>\n",
       "      <td>2.0</td>\n",
       "      <td>4299.9</td>\n",
       "      <td>...</td>\n",
       "      <td>0.0</td>\n",
       "      <td>470.9</td>\n",
       "      <td>1</td>\n",
       "      <td>0.2</td>\n",
       "      <td>133.6</td>\n",
       "      <td>133.6</td>\n",
       "      <td>133.6</td>\n",
       "      <td>133.6</td>\n",
       "      <td>1002</td>\n",
       "      <td>0</td>\n",
       "    </tr>\n",
       "    <tr>\n",
       "      <th>1</th>\n",
       "      <td>Non_Expert</td>\n",
       "      <td>Trial001</td>\n",
       "      <td>01_dr.JPG</td>\n",
       "      <td>0</td>\n",
       "      <td>4986.0</td>\n",
       "      <td>NE2</td>\n",
       "      <td>CornflowerBlue</td>\n",
       "      <td>14</td>\n",
       "      <td>2.8</td>\n",
       "      <td>4332.0</td>\n",
       "      <td>...</td>\n",
       "      <td>0.0</td>\n",
       "      <td>330.5</td>\n",
       "      <td>0</td>\n",
       "      <td>0.0</td>\n",
       "      <td>0.0</td>\n",
       "      <td>0.0</td>\n",
       "      <td>0.0</td>\n",
       "      <td>0.0</td>\n",
       "      <td>2599</td>\n",
       "      <td>0</td>\n",
       "    </tr>\n",
       "    <tr>\n",
       "      <th>2</th>\n",
       "      <td>Non_Expert</td>\n",
       "      <td>Trial001</td>\n",
       "      <td>01_dr.JPG</td>\n",
       "      <td>0</td>\n",
       "      <td>5004.2</td>\n",
       "      <td>NE3</td>\n",
       "      <td>Crimson</td>\n",
       "      <td>13</td>\n",
       "      <td>2.6</td>\n",
       "      <td>4455.0</td>\n",
       "      <td>...</td>\n",
       "      <td>0.0</td>\n",
       "      <td>363.8</td>\n",
       "      <td>0</td>\n",
       "      <td>0.0</td>\n",
       "      <td>0.0</td>\n",
       "      <td>0.0</td>\n",
       "      <td>0.0</td>\n",
       "      <td>0.0</td>\n",
       "      <td>2129</td>\n",
       "      <td>0</td>\n",
       "    </tr>\n",
       "    <tr>\n",
       "      <th>3</th>\n",
       "      <td>Non_Expert</td>\n",
       "      <td>Trial001</td>\n",
       "      <td>01_dr.JPG</td>\n",
       "      <td>0</td>\n",
       "      <td>4979.9</td>\n",
       "      <td>NE4</td>\n",
       "      <td>Cyan</td>\n",
       "      <td>9</td>\n",
       "      <td>1.8</td>\n",
       "      <td>4454.6</td>\n",
       "      <td>...</td>\n",
       "      <td>0.0</td>\n",
       "      <td>631.6</td>\n",
       "      <td>1</td>\n",
       "      <td>0.2</td>\n",
       "      <td>100.0</td>\n",
       "      <td>100.0</td>\n",
       "      <td>100.0</td>\n",
       "      <td>100.0</td>\n",
       "      <td>1368</td>\n",
       "      <td>0</td>\n",
       "    </tr>\n",
       "    <tr>\n",
       "      <th>4</th>\n",
       "      <td>Non_Expert</td>\n",
       "      <td>Trial001</td>\n",
       "      <td>01_dr.JPG</td>\n",
       "      <td>0</td>\n",
       "      <td>5000.4</td>\n",
       "      <td>NE5</td>\n",
       "      <td>DarkBlue</td>\n",
       "      <td>10</td>\n",
       "      <td>2.0</td>\n",
       "      <td>4535.6</td>\n",
       "      <td>...</td>\n",
       "      <td>0.0</td>\n",
       "      <td>521.1</td>\n",
       "      <td>0</td>\n",
       "      <td>0.0</td>\n",
       "      <td>0.0</td>\n",
       "      <td>0.0</td>\n",
       "      <td>0.0</td>\n",
       "      <td>0.0</td>\n",
       "      <td>1692</td>\n",
       "      <td>0</td>\n",
       "    </tr>\n",
       "  </tbody>\n",
       "</table>\n",
       "<p>5 rows × 40 columns</p>\n",
       "</div>"
      ],
      "text/plain": [
       "       P_type     Trial   Stimulus  Export Start Trial Time [ms]  \\\n",
       "0  Non_Expert  Trial001  01_dr.JPG                             0   \n",
       "1  Non_Expert  Trial001  01_dr.JPG                             0   \n",
       "2  Non_Expert  Trial001  01_dr.JPG                             0   \n",
       "3  Non_Expert  Trial001  01_dr.JPG                             0   \n",
       "4  Non_Expert  Trial001  01_dr.JPG                             0   \n",
       "\n",
       "   Export End Trial Time [ms] Participant           Color  Fixation Count  \\\n",
       "0                      4989.4         NE1           Coral              10   \n",
       "1                      4986.0         NE2  CornflowerBlue              14   \n",
       "2                      5004.2         NE3         Crimson              13   \n",
       "3                      4979.9         NE4            Cyan               9   \n",
       "4                      5000.4         NE5        DarkBlue              10   \n",
       "\n",
       "   Fixation Frequency [count/s]  Fixation Duration Total [ms]  ...  \\\n",
       "0                           2.0                        4299.9  ...   \n",
       "1                           2.8                        4332.0  ...   \n",
       "2                           2.6                        4455.0  ...   \n",
       "3                           1.8                        4454.6  ...   \n",
       "4                           2.0                        4535.6  ...   \n",
       "\n",
       "   Saccade Velocity Minimum [°/s]  Saccade Latency Average [ms]  Blink Count  \\\n",
       "0                             0.0                         470.9            1   \n",
       "1                             0.0                         330.5            0   \n",
       "2                             0.0                         363.8            0   \n",
       "3                             0.0                         631.6            1   \n",
       "4                             0.0                         521.1            0   \n",
       "\n",
       "   Blink Frequency [count/s]  Blink Duration Total [ms]  \\\n",
       "0                        0.2                      133.6   \n",
       "1                        0.0                        0.0   \n",
       "2                        0.0                        0.0   \n",
       "3                        0.2                      100.0   \n",
       "4                        0.0                        0.0   \n",
       "\n",
       "   Blink Duration Average [ms]  Blink Duration Maximum [ms]  \\\n",
       "0                        133.6                        133.6   \n",
       "1                          0.0                          0.0   \n",
       "2                          0.0                          0.0   \n",
       "3                        100.0                        100.0   \n",
       "4                          0.0                          0.0   \n",
       "\n",
       "   Blink Duration Minimum [ms]  Scanpath Length [px]  is_expert  \n",
       "0                        133.6                  1002          0  \n",
       "1                          0.0                  2599          0  \n",
       "2                          0.0                  2129          0  \n",
       "3                        100.0                  1368          0  \n",
       "4                          0.0                  1692          0  \n",
       "\n",
       "[5 rows x 40 columns]"
      ]
     },
     "execution_count": 11,
     "metadata": {},
     "output_type": "execute_result"
    }
   ],
   "source": [
    "data.head()"
   ]
  },
  {
   "cell_type": "code",
   "execution_count": 12,
   "metadata": {
    "scrolled": true
   },
   "outputs": [],
   "source": [
    "y=data['is_expert'] #.values\n",
    "#y[0:5]"
   ]
  },
  {
   "cell_type": "code",
   "execution_count": 13,
   "metadata": {},
   "outputs": [],
   "source": [
    "from sklearn.model_selection import train_test_split"
   ]
  },
  {
   "cell_type": "code",
   "execution_count": 14,
   "metadata": {},
   "outputs": [
    {
     "name": "stdout",
     "output_type": "stream",
     "text": [
      "Train set: (1323, 10) (1323,)\n",
      "Test set: (331, 10) (331,)\n"
     ]
    }
   ],
   "source": [
    "X_train, X_test, y_train, y_test = train_test_split( X, y, test_size=0.2)\n",
    "print ('Train set:', X_train.shape, y_train.shape)\n",
    "print ('Test set:', X_test.shape, y_test.shape)"
   ]
  },
  {
   "cell_type": "code",
   "execution_count": 15,
   "metadata": {
    "scrolled": true
   },
   "outputs": [
    {
     "name": "stdout",
     "output_type": "stream",
     "text": [
      "x data (1654, 10)\n",
      "(1323, 10)\n",
      "(331, 10)\n"
     ]
    },
    {
     "data": {
      "text/plain": [
       "0    765\n",
       "1    558\n",
       "Name: is_expert, dtype: int64"
      ]
     },
     "execution_count": 15,
     "metadata": {},
     "output_type": "execute_result"
    }
   ],
   "source": [
    "print(\"x data\",X.shape)\n",
    "print(X_train.shape)\n",
    "print(X_test.shape)\n",
    "y_train.value_counts()"
   ]
  },
  {
   "cell_type": "code",
   "execution_count": 16,
   "metadata": {},
   "outputs": [],
   "source": [
    "from imblearn.over_sampling import SMOTE\n",
    "oversample = SMOTE()\n",
    "X_train, y_train= oversample.fit_resample(X_train, y_train)"
   ]
  },
  {
   "cell_type": "code",
   "execution_count": 17,
   "metadata": {},
   "outputs": [
    {
     "name": "stdout",
     "output_type": "stream",
     "text": [
      "(1530, 10)\n",
      "(331, 10)\n"
     ]
    },
    {
     "data": {
      "text/plain": [
       "0    765\n",
       "1    765\n",
       "Name: is_expert, dtype: int64"
      ]
     },
     "execution_count": 17,
     "metadata": {},
     "output_type": "execute_result"
    }
   ],
   "source": [
    "print(X_train.shape)\n",
    "print(X_test.shape)\n",
    "y_train.value_counts()"
   ]
  },
  {
   "cell_type": "markdown",
   "metadata": {},
   "source": [
    "# SVM Model "
   ]
  },
  {
   "cell_type": "code",
   "execution_count": 146,
   "metadata": {},
   "outputs": [],
   "source": [
    "from sklearn.neighbors import KNeighborsClassifier\n",
    "from sklearn.model_selection import cross_val_score\n",
    "from sklearn import svm\n",
    "from sklearn import metrics"
   ]
  },
  {
   "cell_type": "code",
   "execution_count": 147,
   "metadata": {},
   "outputs": [
    {
     "data": {
      "text/plain": [
       "array([0.97727273, 0.95454545, 0.99025974, 0.98371336, 0.9771987 ])"
      ]
     },
     "execution_count": 147,
     "metadata": {},
     "output_type": "execute_result"
    }
   ],
   "source": [
    "model_100 = svm.SVC(kernel='rbf')\n",
    "\n",
    "scores = cross_val_score(model_100, X_train, y_train, cv=5)\n",
    "scores"
   ]
  },
  {
   "cell_type": "code",
   "execution_count": 148,
   "metadata": {},
   "outputs": [
    {
     "data": {
      "text/plain": [
       "SVC()"
      ]
     },
     "execution_count": 148,
     "metadata": {},
     "output_type": "execute_result"
    }
   ],
   "source": [
    "model_100.fit(X_train, y_train)"
   ]
  },
  {
   "cell_type": "code",
   "execution_count": 149,
   "metadata": {},
   "outputs": [
    {
     "name": "stdout",
     "output_type": "stream",
     "text": [
      "Test Accuracy 0.975831\n",
      "Train Accuracy 0.977893\n"
     ]
    },
    {
     "data": {
      "text/plain": [
       "0.9778933680104032"
      ]
     },
     "execution_count": 149,
     "metadata": {},
     "output_type": "execute_result"
    }
   ],
   "source": [
    "### 1. Get and print a baseline accuracy score.\n",
    "y_pred = model_100.predict(X_test)\n",
    "accuracy = model_100.score(X_test, y_test)\n",
    "print(\"Test Accuracy %f\" % accuracy)\n",
    "metrics.accuracy_score(y_true=y_test, y_pred=y_pred)\n",
    "\n",
    "y_pred_train = model_100.predict(X_train)\n",
    "accuracy = model_100.score(X_train, y_train)\n",
    "print(\"Train Accuracy %f\" % accuracy)\n",
    "metrics.accuracy_score(y_true=y_train, y_pred=y_pred_train)"
   ]
  },
  {
   "cell_type": "code",
   "execution_count": 150,
   "metadata": {},
   "outputs": [
    {
     "name": "stdout",
     "output_type": "stream",
     "text": [
      "              precision    recall  f1-score   support\n",
      "\n",
      "           0       0.96      1.00      0.98       191\n",
      "           1       1.00      0.94      0.97       140\n",
      "\n",
      "    accuracy                           0.98       331\n",
      "   macro avg       0.98      0.97      0.98       331\n",
      "weighted avg       0.98      0.98      0.98       331\n",
      "\n"
     ]
    }
   ],
   "source": [
    "print(metrics.classification_report(y_test, y_pred))"
   ]
  },
  {
   "cell_type": "code",
   "execution_count": 151,
   "metadata": {},
   "outputs": [
    {
     "data": {
      "text/plain": [
       "Text(0.5, 1.0, 'Accuracy Score,: 0.9758308157099698')"
      ]
     },
     "execution_count": 151,
     "metadata": {},
     "output_type": "execute_result"
    },
    {
     "data": {
      "image/png": "[encoded data removed]",
      "text/plain": [
       "<Figure size 432x432 with 2 Axes>"
      ]
     },
     "metadata": {
      "needs_background": "light"
     },
     "output_type": "display_data"
    }
   ],
   "source": [
    "# Calculate Confusion Matrix\n",
    "cm = confusion_matrix(y_test, y_pred)\n",
    "plt.figure(figsize=(6,6))\n",
    "# Heatmap visualization of accuracy\n",
    "sns.heatmap(cm,annot=True, fmt='.3f', linewidths=.5, square=True,cmap='Blues_r')\n",
    "plt.ylabel('Actual label')\n",
    "plt.xlabel('Predicted label')\n",
    "title = 'Accuracy Score,: {0}'.format(accuracy_score(y_test, y_pred))\n",
    "plt.title(title,size=15)"
   ]
  },
  {
   "cell_type": "markdown",
   "metadata": {},
   "source": [
    "# SVM + PCA Model "
   ]
  },
  {
   "cell_type": "code",
   "execution_count": 152,
   "metadata": {},
   "outputs": [
    {
     "name": "stdout",
     "output_type": "stream",
     "text": [
      "(1538, 4)\n",
      "(331, 4)\n",
      "(1538, 10)\n"
     ]
    }
   ],
   "source": [
    "from sklearn.decomposition import PCA \n",
    "pca = PCA(0.95) # Preserve 90% of the variance\n",
    "X_train_transformed = pca.fit_transform(X_train) \n",
    "X_test_transformed = pca.transform(X_test) \n",
    "print(X_train_transformed.shape)\n",
    "print(X_test_transformed.shape)\n",
    "print(X_train.shape)"
   ]
  },
  {
   "cell_type": "code",
   "execution_count": 153,
   "metadata": {},
   "outputs": [
    {
     "data": {
      "text/plain": [
       "SVC()"
      ]
     },
     "execution_count": 153,
     "metadata": {},
     "output_type": "execute_result"
    }
   ],
   "source": [
    "model_pca= svm.SVC()\n",
    "model_pca.fit(X_train_transformed, y_train)\n"
   ]
  },
  {
   "cell_type": "code",
   "execution_count": 154,
   "metadata": {},
   "outputs": [
    {
     "name": "stdout",
     "output_type": "stream",
     "text": [
      " Test Accuracy 0.969789\n"
     ]
    },
    {
     "data": {
      "text/plain": [
       "0.9697885196374623"
      ]
     },
     "execution_count": 154,
     "metadata": {},
     "output_type": "execute_result"
    }
   ],
   "source": [
    "### 1. Get and print a baseline accuracy score.\n",
    "y_pred_pca = model_pca.predict(X_test_transformed)\n",
    "accuracy = model_pca.score(X_test_transformed, y_test)\n",
    "print(\" Test Accuracy %f\" % accuracy)\n",
    "metrics.accuracy_score(y_test,y_pred_pca)"
   ]
  },
  {
   "cell_type": "code",
   "execution_count": 155,
   "metadata": {},
   "outputs": [
    {
     "name": "stdout",
     "output_type": "stream",
     "text": [
      "              precision    recall  f1-score   support\n",
      "\n",
      "           0       0.95      1.00      0.97       191\n",
      "           1       1.00      0.93      0.96       140\n",
      "\n",
      "    accuracy                           0.97       331\n",
      "   macro avg       0.98      0.96      0.97       331\n",
      "weighted avg       0.97      0.97      0.97       331\n",
      "\n"
     ]
    }
   ],
   "source": [
    "print(metrics.classification_report(y_test, y_pred_pca))"
   ]
  },
  {
   "cell_type": "code",
   "execution_count": 156,
   "metadata": {},
   "outputs": [
    {
     "data": {
      "text/plain": [
       "Text(0.5, 1.0, 'Accuracy Score, 0.9697885196374623')"
      ]
     },
     "execution_count": 156,
     "metadata": {},
     "output_type": "execute_result"
    },
    {
     "data": {
      "image/png": "[encoded data removed]",
      "text/plain": [
       "<Figure size 432x432 with 2 Axes>"
      ]
     },
     "metadata": {
      "needs_background": "light"
     },
     "output_type": "display_data"
    }
   ],
   "source": [
    "# Calculate Confusion Matrix\n",
    "cm = confusion_matrix(y_test, y_pred_pca)\n",
    "\n",
    "plt.figure(figsize=(6,6))\n",
    "# Heatmap visualization of accuracy\n",
    "sns.heatmap(cm,annot=True, fmt='.3f', linewidths=.5, square=True,cmap='Blues_r')\n",
    "plt.ylabel('Actual label')\n",
    "plt.xlabel('Predicted label')\n",
    "title = 'Accuracy Score, {0}'.format(accuracy_score(y_test, y_pred_pca))\n",
    "plt.title(title,size=15)"
   ]
  },
  {
   "cell_type": "markdown",
   "metadata": {},
   "source": [
    "# Decision Tree Model"
   ]
  },
  {
   "cell_type": "code",
   "execution_count": 157,
   "metadata": {},
   "outputs": [],
   "source": [
    "# Initialize Decision Trees model, No hyperparameter Tuning\n",
    "decision_trees = DecisionTreeClassifier()\n",
    "\n",
    "# Use training data to fit Decision Trees model\n",
    "ds=decision_trees.fit(X_train, y_train)"
   ]
  },
  {
   "cell_type": "code",
   "execution_count": 158,
   "metadata": {},
   "outputs": [],
   "source": [
    "predictions_set = decision_trees.predict(X_test)\n",
    "y_pred=predictions_set"
   ]
  },
  {
   "cell_type": "code",
   "execution_count": 159,
   "metadata": {},
   "outputs": [
    {
     "name": "stdout",
     "output_type": "stream",
     "text": [
      "Accuracy 0.966767\n"
     ]
    },
    {
     "data": {
      "text/plain": [
       "0.9667673716012085"
      ]
     },
     "execution_count": 159,
     "metadata": {},
     "output_type": "execute_result"
    }
   ],
   "source": [
    "accuracy = ds.score(X_test, y_test)\n",
    "print(\"Accuracy %f\" % accuracy)\n",
    "accuracy_score(y_true=y_test, y_pred=y_pred)"
   ]
  },
  {
   "cell_type": "code",
   "execution_count": 160,
   "metadata": {},
   "outputs": [
    {
     "data": {
      "text/plain": [
       "Text(0.5, 1.0, 'Accuracy Score: 0.9667673716012085')"
      ]
     },
     "execution_count": 160,
     "metadata": {},
     "output_type": "execute_result"
    },
    {
     "data": {
      "image/png": "[encoded data removed]",
      "text/plain": [
       "<Figure size 432x432 with 2 Axes>"
      ]
     },
     "metadata": {
      "needs_background": "light"
     },
     "output_type": "display_data"
    }
   ],
   "source": [
    "# Calculate Confusion Matrix\n",
    "cm = confusion_matrix(y_test, predictions_set)\n",
    "plt.figure(figsize=(6,6))\n",
    "sns.heatmap(cm,annot=True, fmt='.3f', linewidths=.5, square=True,cmap='Blues_r')\n",
    "plt.ylabel('Actual label')\n",
    "plt.xlabel('Predicted label')\n",
    "title = 'Accuracy Score: {0}'.format(accuracy_score(y_test, predictions_set))\n",
    "plt.title(title,size=15)"
   ]
  },
  {
   "cell_type": "code",
   "execution_count": 161,
   "metadata": {},
   "outputs": [
    {
     "name": "stdout",
     "output_type": "stream",
     "text": [
      "\n",
      "Classification Report\n",
      "               precision    recall  f1-score   support\n",
      "\n",
      "           0       0.96      0.98      0.97       191\n",
      "           1       0.97      0.95      0.96       140\n",
      "\n",
      "    accuracy                           0.97       331\n",
      "   macro avg       0.97      0.96      0.97       331\n",
      "weighted avg       0.97      0.97      0.97       331\n",
      "\n"
     ]
    }
   ],
   "source": [
    "print(\"\\nClassification Report\\n\", classification_report(y_test, predictions_set))"
   ]
  },
  {
   "cell_type": "code",
   "execution_count": 163,
   "metadata": {},
   "outputs": [
    {
     "data": {
      "text/plain": [
       "[Text(0.41627358490566035, 0.95, 'X[7] <= 160.75\\ngini = 0.5\\nsamples = 1538\\nvalue = [769, 769]'),\n",
       " Text(0.16981132075471697, 0.85, 'X[5] <= 1339.2\\ngini = 0.035\\nsamples = 725\\nvalue = [712, 13]'),\n",
       " Text(0.1320754716981132, 0.75, 'X[2] <= 171.65\\ngini = 0.027\\nsamples = 722\\nvalue = [712, 10]'),\n",
       " Text(0.09433962264150944, 0.65, 'gini = 0.0\\nsamples = 2\\nvalue = [0, 2]'),\n",
       " Text(0.16981132075471697, 0.65, 'X[4] <= 84.4\\ngini = 0.022\\nsamples = 720\\nvalue = [712, 8]'),\n",
       " Text(0.1320754716981132, 0.55, 'gini = 0.0\\nsamples = 1\\nvalue = [0, 1]'),\n",
       " Text(0.20754716981132076, 0.55, 'X[1] <= 3625.15\\ngini = 0.019\\nsamples = 719\\nvalue = [712, 7]'),\n",
       " Text(0.07547169811320754, 0.45, 'X[7] <= 140.65\\ngini = 0.213\\nsamples = 33\\nvalue = [29, 4]'),\n",
       " Text(0.03773584905660377, 0.35, 'gini = 0.0\\nsamples = 28\\nvalue = [28, 0]'),\n",
       " Text(0.11320754716981132, 0.35, 'X[4] <= 100.05\\ngini = 0.32\\nsamples = 5\\nvalue = [1, 4]'),\n",
       " Text(0.07547169811320754, 0.25, 'gini = 0.0\\nsamples = 1\\nvalue = [1, 0]'),\n",
       " Text(0.1509433962264151, 0.25, 'gini = 0.0\\nsamples = 4\\nvalue = [0, 4]'),\n",
       " Text(0.33962264150943394, 0.45, 'X[6] <= 101.6\\ngini = 0.009\\nsamples = 686\\nvalue = [683, 3]'),\n",
       " Text(0.2641509433962264, 0.35, 'X[9] <= 194.5\\ngini = 0.003\\nsamples = 649\\nvalue = [648, 1]'),\n",
       " Text(0.22641509433962265, 0.25, 'X[9] <= 192.0\\ngini = 0.034\\nsamples = 58\\nvalue = [57, 1]'),\n",
       " Text(0.18867924528301888, 0.15, 'gini = 0.0\\nsamples = 57\\nvalue = [57, 0]'),\n",
       " Text(0.2641509433962264, 0.15, 'gini = 0.0\\nsamples = 1\\nvalue = [0, 1]'),\n",
       " Text(0.3018867924528302, 0.25, 'gini = 0.0\\nsamples = 591\\nvalue = [591, 0]'),\n",
       " Text(0.41509433962264153, 0.35, 'X[6] <= 102.05\\ngini = 0.102\\nsamples = 37\\nvalue = [35, 2]'),\n",
       " Text(0.37735849056603776, 0.25, 'gini = 0.0\\nsamples = 1\\nvalue = [0, 1]'),\n",
       " Text(0.4528301886792453, 0.25, 'X[6] <= 103.55\\ngini = 0.054\\nsamples = 36\\nvalue = [35, 1]'),\n",
       " Text(0.41509433962264153, 0.15, 'X[0] <= 6.5\\ngini = 0.444\\nsamples = 3\\nvalue = [2, 1]'),\n",
       " Text(0.37735849056603776, 0.05, 'gini = 0.0\\nsamples = 2\\nvalue = [2, 0]'),\n",
       " Text(0.4528301886792453, 0.05, 'gini = 0.0\\nsamples = 1\\nvalue = [0, 1]'),\n",
       " Text(0.49056603773584906, 0.15, 'gini = 0.0\\nsamples = 33\\nvalue = [33, 0]'),\n",
       " Text(0.20754716981132076, 0.75, 'gini = 0.0\\nsamples = 3\\nvalue = [0, 3]'),\n",
       " Text(0.6627358490566038, 0.85, 'X[8] <= 26.55\\ngini = 0.13\\nsamples = 813\\nvalue = [57, 756]'),\n",
       " Text(0.5377358490566038, 0.75, 'X[1] <= 4042.55\\ngini = 0.33\\nsamples = 48\\nvalue = [38, 10]'),\n",
       " Text(0.5, 0.65, 'gini = 0.0\\nsamples = 10\\nvalue = [0, 10]'),\n",
       " Text(0.5754716981132075, 0.65, 'gini = 0.0\\nsamples = 38\\nvalue = [38, 0]'),\n",
       " Text(0.7877358490566038, 0.75, 'X[7] <= 190.716\\ngini = 0.048\\nsamples = 765\\nvalue = [19, 746]'),\n",
       " Text(0.6509433962264151, 0.65, 'X[1] <= 4365.25\\ngini = 0.262\\nsamples = 116\\nvalue = [18, 98]'),\n",
       " Text(0.49056603773584906, 0.55, 'X[9] <= 1768.5\\ngini = 0.024\\nsamples = 82\\nvalue = [1, 81]'),\n",
       " Text(0.4528301886792453, 0.45, 'gini = 0.0\\nsamples = 80\\nvalue = [0, 80]'),\n",
       " Text(0.5283018867924528, 0.45, 'X[2] <= 266.15\\ngini = 0.5\\nsamples = 2\\nvalue = [1, 1]'),\n",
       " Text(0.49056603773584906, 0.35, 'gini = 0.0\\nsamples = 1\\nvalue = [0, 1]'),\n",
       " Text(0.5660377358490566, 0.35, 'gini = 0.0\\nsamples = 1\\nvalue = [1, 0]'),\n",
       " Text(0.8113207547169812, 0.55, 'X[9] <= 539.5\\ngini = 0.5\\nsamples = 34\\nvalue = [17, 17]'),\n",
       " Text(0.7169811320754716, 0.45, 'X[4] <= 216.15\\ngini = 0.397\\nsamples = 22\\nvalue = [6, 16]'),\n",
       " Text(0.6415094339622641, 0.35, 'X[1] <= 4395.35\\ngini = 0.124\\nsamples = 15\\nvalue = [1, 14]'),\n",
       " Text(0.6037735849056604, 0.25, 'gini = 0.0\\nsamples = 1\\nvalue = [1, 0]'),\n",
       " Text(0.6792452830188679, 0.25, 'gini = 0.0\\nsamples = 14\\nvalue = [0, 14]'),\n",
       " Text(0.7924528301886793, 0.35, 'X[8] <= 99.65\\ngini = 0.408\\nsamples = 7\\nvalue = [5, 2]'),\n",
       " Text(0.7547169811320755, 0.25, 'gini = 0.0\\nsamples = 4\\nvalue = [4, 0]'),\n",
       " Text(0.8301886792452831, 0.25, 'X[1] <= 4957.35\\ngini = 0.444\\nsamples = 3\\nvalue = [1, 2]'),\n",
       " Text(0.7924528301886793, 0.15, 'gini = 0.0\\nsamples = 2\\nvalue = [0, 2]'),\n",
       " Text(0.8679245283018868, 0.15, 'gini = 0.0\\nsamples = 1\\nvalue = [1, 0]'),\n",
       " Text(0.9056603773584906, 0.45, 'X[8] <= 100.85\\ngini = 0.153\\nsamples = 12\\nvalue = [11, 1]'),\n",
       " Text(0.8679245283018868, 0.35, 'gini = 0.0\\nsamples = 11\\nvalue = [11, 0]'),\n",
       " Text(0.9433962264150944, 0.35, 'gini = 0.0\\nsamples = 1\\nvalue = [0, 1]'),\n",
       " Text(0.9245283018867925, 0.65, 'X[6] <= 92.3\\ngini = 0.003\\nsamples = 649\\nvalue = [1, 648]'),\n",
       " Text(0.8867924528301887, 0.55, 'gini = 0.0\\nsamples = 1\\nvalue = [1, 0]'),\n",
       " Text(0.9622641509433962, 0.55, 'gini = 0.0\\nsamples = 648\\nvalue = [0, 648]')]"
      ]
     },
     "execution_count": 163,
     "metadata": {},
     "output_type": "execute_result"
    },
    {
     "data": {
      "image/png": "[encoded data removed]",
      "text/plain": [
       "<Figure size 432x288 with 1 Axes>"
      ]
     },
     "metadata": {
      "needs_background": "light"
     },
     "output_type": "display_data"
    }
   ],
   "source": [
    "from sklearn.tree import plot_tree\n",
    "plot_tree(decision_trees)"
   ]
  },
  {
   "cell_type": "code",
   "execution_count": null,
   "metadata": {},
   "outputs": [],
   "source": []
  },
  {
   "cell_type": "markdown",
   "metadata": {},
   "source": [
    "# Decision Tree + PCA Model"
   ]
  },
  {
   "cell_type": "code",
   "execution_count": 164,
   "metadata": {},
   "outputs": [
    {
     "name": "stdout",
     "output_type": "stream",
     "text": [
      "(1538, 4)\n",
      "(331, 4)\n",
      "(1538, 10)\n"
     ]
    }
   ],
   "source": [
    "from sklearn.decomposition import PCA \n",
    "pca = PCA(0.95)\n",
    " \n",
    "print(X_train_transformed.shape)\n",
    "print(X_test_transformed.shape)\n",
    "print(X_train.shape)"
   ]
  },
  {
   "cell_type": "code",
   "execution_count": 165,
   "metadata": {},
   "outputs": [
    {
     "data": {
      "text/plain": [
       "DecisionTreeClassifier()"
      ]
     },
     "execution_count": 165,
     "metadata": {},
     "output_type": "execute_result"
    }
   ],
   "source": [
    "# Initialize Decision Trees model for PCA instance\n",
    "decision_trees_pca = DecisionTreeClassifier()\n",
    "\n",
    "# Use training data to fit Decision Trees model with transformed X_train\n",
    "decision_trees_pca.fit(X_train_transformed, y_train)"
   ]
  },
  {
   "cell_type": "code",
   "execution_count": 166,
   "metadata": {},
   "outputs": [
    {
     "name": "stdout",
     "output_type": "stream",
     "text": [
      "Accuracy using PCA: 0.9788519637462235\n"
     ]
    }
   ],
   "source": [
    "# make prediction on entire test data\n",
    "predictions_set_pca = decision_trees_pca.predict(X_test_transformed)\n",
    "print(\"Accuracy using PCA:\", accuracy_score(y_test, predictions_set_pca))"
   ]
  },
  {
   "cell_type": "code",
   "execution_count": 167,
   "metadata": {},
   "outputs": [
    {
     "name": "stdout",
     "output_type": "stream",
     "text": [
      "\n",
      "PCA Classification Report\n",
      "               precision    recall  f1-score   support\n",
      "\n",
      "           0       0.98      0.98      0.98       191\n",
      "           1       0.97      0.98      0.98       140\n",
      "\n",
      "    accuracy                           0.98       331\n",
      "   macro avg       0.98      0.98      0.98       331\n",
      "weighted avg       0.98      0.98      0.98       331\n",
      "\n"
     ]
    },
    {
     "data": {
      "image/png": "[encoded data removed]",
      "text/plain": [
       "<Figure size 432x432 with 2 Axes>"
      ]
     },
     "metadata": {
      "needs_background": "light"
     },
     "output_type": "display_data"
    }
   ],
   "source": [
    "cm = confusion_matrix(y_test, predictions_set_pca)\n",
    "plt.figure(figsize=(6,6))\n",
    "sns.heatmap(cm,annot=True, fmt='.3f', linewidths=.5, square=True,cmap='Blues_r')\n",
    "plt.ylabel('Actual label')\n",
    "plt.xlabel('Predicted label')\n",
    "title = 'Accuracy Score Test PCA: {0}'.format(accuracy_score(y_test, predictions_set_pca))\n",
    "plt.title(title,size=15)\n",
    "print(\"\\nPCA Classification Report\\n\", classification_report(y_test, predictions_set_pca))"
   ]
  },
  {
   "cell_type": "markdown",
   "metadata": {},
   "source": [
    "# KNN CLassifier"
   ]
  },
  {
   "cell_type": "code",
   "execution_count": 168,
   "metadata": {},
   "outputs": [],
   "source": [
    "from sklearn.neighbors import KNeighborsClassifier"
   ]
  },
  {
   "cell_type": "code",
   "execution_count": 169,
   "metadata": {},
   "outputs": [
    {
     "name": "stdout",
     "output_type": "stream",
     "text": [
      "\n",
      "Classification Report\n",
      " 1               precision    recall  f1-score   support\n",
      "\n",
      "           0       0.96      0.97      0.97       192\n",
      "           1       0.96      0.95      0.96       139\n",
      "\n",
      "    accuracy                           0.96       331\n",
      "   macro avg       0.96      0.96      0.96       331\n",
      "weighted avg       0.96      0.96      0.96       331\n",
      "\n",
      "\n",
      "Classification Report\n",
      " 2               precision    recall  f1-score   support\n",
      "\n",
      "           0       0.98      0.96      0.97       197\n",
      "           1       0.95      0.97      0.96       134\n",
      "\n",
      "    accuracy                           0.97       331\n",
      "   macro avg       0.96      0.97      0.97       331\n",
      "weighted avg       0.97      0.97      0.97       331\n",
      "\n",
      "\n",
      "Classification Report\n",
      " 3               precision    recall  f1-score   support\n",
      "\n",
      "           0       0.95      0.97      0.96       191\n",
      "           1       0.96      0.94      0.95       140\n",
      "\n",
      "    accuracy                           0.95       331\n",
      "   macro avg       0.95      0.95      0.95       331\n",
      "weighted avg       0.95      0.95      0.95       331\n",
      "\n",
      "\n",
      "Classification Report\n",
      " 4               precision    recall  f1-score   support\n",
      "\n",
      "           0       0.97      0.96      0.97       195\n",
      "           1       0.95      0.96      0.95       136\n",
      "\n",
      "    accuracy                           0.96       331\n",
      "   macro avg       0.96      0.96      0.96       331\n",
      "weighted avg       0.96      0.96      0.96       331\n",
      "\n",
      "\n",
      "Classification Report\n",
      " 5               precision    recall  f1-score   support\n",
      "\n",
      "           0       0.95      0.96      0.96       192\n",
      "           1       0.95      0.94      0.94       139\n",
      "\n",
      "    accuracy                           0.95       331\n",
      "   macro avg       0.95      0.95      0.95       331\n",
      "weighted avg       0.95      0.95      0.95       331\n",
      "\n"
     ]
    },
    {
     "data": {
      "image/png": "[encoded data removed]",
      "text/plain": [
       "<Figure size 936x432 with 1 Axes>"
      ]
     },
     "metadata": {
      "needs_background": "light"
     },
     "output_type": "display_data"
    }
   ],
   "source": [
    "k=[1,2,3,4,5]\n",
    "acc1=[]\n",
    "for i in k:\n",
    "    knn_i=KNeighborsClassifier(n_neighbors=i)\n",
    "    knn_i.fit(X_train,y_train)\n",
    "    pred_i=knn_i.predict(X_test)\n",
    "    acc_i=knn_i.score(X_test,y_test)\n",
    "    acc1.append(acc_i)\n",
    "    print(\"\\nClassification Report\\n\",i, classification_report(pred_i , y_pred))\n",
    "    \n",
    "plt.figure(figsize=(13,6))    \n",
    "plt.plot(k,acc1,color='b',marker='*')\n",
    "plt.legend('Euclidian')\n",
    "plt.ylabel('Accuracy ')\n",
    "plt.xlabel('Number of Neighbors (K)')\n",
    "#plt.tight_layout()\n",
    "plt.grid(True)\n",
    "plt.xticks(k,k)\n",
    "plt.show()"
   ]
  },
  {
   "cell_type": "code",
   "execution_count": 170,
   "metadata": {},
   "outputs": [
    {
     "data": {
      "text/plain": [
       "KNeighborsClassifier()"
      ]
     },
     "execution_count": 170,
     "metadata": {},
     "output_type": "execute_result"
    }
   ],
   "source": [
    "# Initialize KNN model\n",
    "knn = KNeighborsClassifier()\n",
    "# Use training data to fit KNN model\n",
    "knn.fit(X_train, y_train)"
   ]
  },
  {
   "cell_type": "code",
   "execution_count": 171,
   "metadata": {},
   "outputs": [],
   "source": [
    "# make prediction on entire test data\n",
    "predictions_set1 = knn.predict(X_test)"
   ]
  },
  {
   "cell_type": "code",
   "execution_count": 172,
   "metadata": {},
   "outputs": [
    {
     "name": "stdout",
     "output_type": "stream",
     "text": [
      "KNN Accuracy: 0.973\n"
     ]
    }
   ],
   "source": [
    "print('KNN Accuracy: %.3f' % accuracy_score(y_test, predictions_set1))"
   ]
  },
  {
   "cell_type": "code",
   "execution_count": 173,
   "metadata": {},
   "outputs": [
    {
     "data": {
      "text/plain": [
       "Text(0.5, 1.0, 'Accuracy Score: 0.972809667673716')"
      ]
     },
     "execution_count": 173,
     "metadata": {},
     "output_type": "execute_result"
    },
    {
     "data": {
      "image/png": "[encoded data removed]",
      "text/plain": [
       "<Figure size 432x432 with 2 Axes>"
      ]
     },
     "metadata": {
      "needs_background": "light"
     },
     "output_type": "display_data"
    }
   ],
   "source": [
    "# Calculate Confusion Matrix\n",
    "cm = confusion_matrix(y_test, predictions_set1)\n",
    "plt.figure(figsize=(6,6))\n",
    "sns.heatmap(cm,annot=True, fmt='.3f', linewidths=.5, square=True,cmap='Blues_r')\n",
    "plt.ylabel('Actual label')\n",
    "plt.xlabel('Predicted label')\n",
    "all_sample_title = 'Accuracy Score: {0}'.format(accuracy_score(y_test, predictions_set1))\n",
    "plt.title(all_sample_title,size=15)"
   ]
  },
  {
   "cell_type": "code",
   "execution_count": 174,
   "metadata": {},
   "outputs": [
    {
     "name": "stdout",
     "output_type": "stream",
     "text": [
      "KNN Precision: 0.973\n",
      "KNN Recall: 0.973\n",
      "KNN F1 Score: 0.973\n",
      "\n",
      "Classification Report\n",
      "               precision    recall  f1-score   support\n",
      "\n",
      "           0       0.97      0.98      0.98       191\n",
      "           1       0.97      0.96      0.97       140\n",
      "\n",
      "    accuracy                           0.97       331\n",
      "   macro avg       0.97      0.97      0.97       331\n",
      "weighted avg       0.97      0.97      0.97       331\n",
      "\n"
     ]
    }
   ],
   "source": [
    "print('KNN Precision: %.3f' % precision_score(y_test, predictions_set1, average='micro'))\n",
    "print('KNN Recall: %.3f' % recall_score(y_test, predictions_set1, average='micro'))\n",
    "print('KNN F1 Score: %.3f' % f1_score(y_test, predictions_set1, average='micro'))\n",
    "print(\"\\nClassification Report\\n\", classification_report(y_test, predictions_set1))"
   ]
  },
  {
   "cell_type": "markdown",
   "metadata": {},
   "source": [
    "# KNN Classfier + PCA Model"
   ]
  },
  {
   "cell_type": "code",
   "execution_count": 175,
   "metadata": {},
   "outputs": [
    {
     "data": {
      "text/plain": [
       "KNeighborsClassifier()"
      ]
     },
     "execution_count": 175,
     "metadata": {},
     "output_type": "execute_result"
    }
   ],
   "source": [
    "# Initialize KNN model for PCA instance\n",
    "knn_pca = KNeighborsClassifier()\n",
    "# Use training data to fit KNN model with transformed X_train\n",
    "knn_pca.fit(X_train_transformed, y_train)"
   ]
  },
  {
   "cell_type": "code",
   "execution_count": 176,
   "metadata": {},
   "outputs": [
    {
     "name": "stdout",
     "output_type": "stream",
     "text": [
      "Accuracy Train PCA: 0.9848942598187311\n"
     ]
    }
   ],
   "source": [
    "# make prediction on entire test data\n",
    "predictions_set_pca = knn_pca.predict(X_test_transformed)\n",
    "print(\"Accuracy Train PCA:\", accuracy_score(y_test, predictions_set_pca))"
   ]
  },
  {
   "cell_type": "code",
   "execution_count": 177,
   "metadata": {},
   "outputs": [
    {
     "name": "stdout",
     "output_type": "stream",
     "text": [
      "\n",
      " PCA Classification Report\n",
      "               precision    recall  f1-score   support\n",
      "\n",
      "           0       0.98      0.99      0.99       191\n",
      "           1       0.99      0.98      0.98       140\n",
      "\n",
      "    accuracy                           0.98       331\n",
      "   macro avg       0.98      0.98      0.98       331\n",
      "weighted avg       0.98      0.98      0.98       331\n",
      "\n"
     ]
    },
    {
     "data": {
      "image/png": "[encoded data removed]",
      "text/plain": [
       "<Figure size 432x432 with 2 Axes>"
      ]
     },
     "metadata": {
      "needs_background": "light"
     },
     "output_type": "display_data"
    }
   ],
   "source": [
    "# Calculate Confusion Matrix for PCA\n",
    "cm = confusion_matrix(y_test, predictions_set_pca)\n",
    "plt.figure(figsize=(6,6))\n",
    "# Heatmap visualization of accuracy\n",
    "sns.heatmap(cm,annot=True, fmt='.3f', linewidths=.5, square=True,cmap='Blues_r')\n",
    "plt.ylabel('Actual label')\n",
    "plt.xlabel('Predicted label')\n",
    "title = 'Accuracy Score Test PCA: {0}'.format(accuracy_score(y_test, predictions_set_pca))\n",
    "plt.title(title,size=15)\n",
    "print(\"\\n PCA Classification Report\\n\", classification_report(y_test, predictions_set_pca))"
   ]
  },
  {
   "cell_type": "markdown",
   "metadata": {},
   "source": [
    "# NB Classifier"
   ]
  },
  {
   "cell_type": "code",
   "execution_count": 178,
   "metadata": {},
   "outputs": [],
   "source": [
    "from sklearn.naive_bayes import GaussianNB"
   ]
  },
  {
   "cell_type": "code",
   "execution_count": 179,
   "metadata": {},
   "outputs": [
    {
     "data": {
      "text/plain": [
       "GaussianNB()"
      ]
     },
     "execution_count": 179,
     "metadata": {},
     "output_type": "execute_result"
    }
   ],
   "source": [
    "gaussianNB_model = GaussianNB()\n",
    "gaussianNB_model.fit(X_train, y_train)"
   ]
  },
  {
   "cell_type": "code",
   "execution_count": 180,
   "metadata": {},
   "outputs": [
    {
     "name": "stdout",
     "output_type": "stream",
     "text": [
      "Accuracy: 0.966767\n",
      "\n"
     ]
    }
   ],
   "source": [
    "gnb_y_pred = gaussianNB_model.predict(X_test)\n",
    "accuracy = accuracy_score(y_test, gnb_y_pred)\n",
    "print('Accuracy: %f' % accuracy, end='\\n\\n')"
   ]
  },
  {
   "cell_type": "code",
   "execution_count": 181,
   "metadata": {},
   "outputs": [
    {
     "name": "stdout",
     "output_type": "stream",
     "text": [
      "\n",
      "PCA Classification Report\n",
      "               precision    recall  f1-score   support\n",
      "\n",
      "           0       0.96      0.98      0.97       191\n",
      "           1       0.98      0.94      0.96       140\n",
      "\n",
      "    accuracy                           0.97       331\n",
      "   macro avg       0.97      0.96      0.97       331\n",
      "weighted avg       0.97      0.97      0.97       331\n",
      "\n"
     ]
    },
    {
     "data": {
      "image/png": "[encoded data removed]",
      "text/plain": [
       "<Figure size 432x432 with 2 Axes>"
      ]
     },
     "metadata": {
      "needs_background": "light"
     },
     "output_type": "display_data"
    }
   ],
   "source": [
    "cm = confusion_matrix(y_test, gnb_y_pred)\n",
    "plt.figure(figsize=(6,6))\n",
    "# Heatmap visualization of accuracy\n",
    "sns.heatmap(cm,annot=True, fmt='.3f', linewidths=.5, square=True,cmap='Blues_r')\n",
    "plt.ylabel('Actual label')\n",
    "plt.xlabel('Predicted label')\n",
    "title = 'Accuracy Score: {0}'.format(accuracy_score(y_test, gnb_y_pred))\n",
    "plt.title(title,size=15)\n",
    "print(\"\\nPCA Classification Report\\n\", classification_report(y_test, gnb_y_pred))"
   ]
  },
  {
   "cell_type": "markdown",
   "metadata": {},
   "source": [
    "# NB Classifier + PCA Model"
   ]
  },
  {
   "cell_type": "code",
   "execution_count": 182,
   "metadata": {},
   "outputs": [
    {
     "data": {
      "text/plain": [
       "GaussianNB()"
      ]
     },
     "execution_count": 182,
     "metadata": {},
     "output_type": "execute_result"
    }
   ],
   "source": [
    "gaussianNB_model_pca = GaussianNB()\n",
    "\n",
    "gaussianNB_model_pca.fit(X_train_transformed, y_train)"
   ]
  },
  {
   "cell_type": "code",
   "execution_count": 183,
   "metadata": {},
   "outputs": [
    {
     "name": "stdout",
     "output_type": "stream",
     "text": [
      "Accuracy Train PCA: 0.9365558912386707\n"
     ]
    }
   ],
   "source": [
    "# make prediction on entire test data\n",
    "gnb_y_pred_pca = gaussianNB_model_pca.predict(X_test_transformed)\n",
    "print(\"Accuracy Train PCA:\", accuracy_score(y_test, gnb_y_pred_pca))"
   ]
  },
  {
   "cell_type": "code",
   "execution_count": 184,
   "metadata": {},
   "outputs": [
    {
     "name": "stdout",
     "output_type": "stream",
     "text": [
      "\n",
      "PCA Classification Report\n",
      "               precision    recall  f1-score   support\n",
      "\n",
      "           0       0.90      0.99      0.95       191\n",
      "           1       0.99      0.86      0.92       140\n",
      "\n",
      "    accuracy                           0.94       331\n",
      "   macro avg       0.95      0.93      0.93       331\n",
      "weighted avg       0.94      0.94      0.94       331\n",
      "\n"
     ]
    },
    {
     "data": {
      "image/png": "[encoded data removed]",
      "text/plain": [
       "<Figure size 432x432 with 2 Axes>"
      ]
     },
     "metadata": {
      "needs_background": "light"
     },
     "output_type": "display_data"
    }
   ],
   "source": [
    "cm = confusion_matrix(y_test, gnb_y_pred_pca)\n",
    "\n",
    "plt.figure(figsize=(6,6))\n",
    "\n",
    "# Heatmap visualization of accuracy\n",
    "sns.heatmap(cm,annot=True, fmt='.3f', linewidths=.5, square=True,cmap='Blues_r')\n",
    "plt.ylabel('Actual label')\n",
    "plt.xlabel('Predicted label')\n",
    "title = 'Accuracy Score: {0}'.format(accuracy_score(y_test, gnb_y_pred_pca))\n",
    "plt.title(title,size=15)\n",
    "\n",
    "print(\"\\nPCA Classification Report\\n\", classification_report(y_test, gnb_y_pred_pca))"
   ]
  },
  {
   "cell_type": "code",
   "execution_count": null,
   "metadata": {},
   "outputs": [],
   "source": []
  },
  {
   "cell_type": "code",
   "execution_count": null,
   "metadata": {},
   "outputs": [],
   "source": []
  },
  {
   "cell_type": "code",
   "execution_count": null,
   "metadata": {},
   "outputs": [],
   "source": []
  }
 ],
 "metadata": {
  "kernelspec": {
   "display_name": "Python 3 (ipykernel)",
   "language": "python",
   "name": "python3"
  },
  "language_info": {
   "codemirror_mode": {
    "name": "ipython",
    "version": 3
   },
   "file_extension": ".py",
   "mimetype": "text/x-python",
   "name": "python",
   "nbconvert_exporter": "python",
   "pygments_lexer": "ipython3",
   "version": "3.9.7"
  }
 },
 "nbformat": 4,
 "nbformat_minor": 4
}
