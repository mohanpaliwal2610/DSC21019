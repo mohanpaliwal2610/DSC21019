{
 "cells": [
  {
   "cell_type": "markdown",
   "metadata": {},
   "source": [
    "# Set T1.pdf"
   ]
  },
  {
   "cell_type": "code",
   "execution_count": 1,
   "metadata": {},
   "outputs": [],
   "source": [
    "import pandas as pd\n",
    "import numpy as np\n",
    "import matplotlib.pyplot as plt\n",
    "%matplotlib inline"
   ]
  },
  {
   "cell_type": "code",
   "execution_count": 2,
   "metadata": {},
   "outputs": [],
   "source": [
    "import statsmodels.api as sm"
   ]
  },
  {
   "cell_type": "code",
   "execution_count": 3,
   "metadata": {},
   "outputs": [],
   "source": [
    "from statsmodels.tsa.stattools import acovf,acf,pacf,pacf_yw,pacf_ols"
   ]
  },
  {
   "cell_type": "code",
   "execution_count": 4,
   "metadata": {},
   "outputs": [],
   "source": [
    "import warnings \n",
    "warnings.filterwarnings('ignore')"
   ]
  },
  {
   "cell_type": "markdown",
   "metadata": {},
   "source": [
    "1. Follow the time series data given below, \n",
    " 20.54, 22.26, 19.55, 20.50, 20.72, 19.27, 18.98, 19.59, 23.20, 25.33. (Manual \n",
    "method) \n"
   ]
  },
  {
   "cell_type": "code",
   "execution_count": 92,
   "metadata": {},
   "outputs": [
    {
     "data": {
      "text/html": [
       "<div>\n",
       "<style scoped>\n",
       "    .dataframe tbody tr th:only-of-type {\n",
       "        vertical-align: middle;\n",
       "    }\n",
       "\n",
       "    .dataframe tbody tr th {\n",
       "        vertical-align: top;\n",
       "    }\n",
       "\n",
       "    .dataframe thead th {\n",
       "        text-align: right;\n",
       "    }\n",
       "</style>\n",
       "<table border=\"1\" class=\"dataframe\">\n",
       "  <thead>\n",
       "    <tr style=\"text-align: right;\">\n",
       "      <th></th>\n",
       "      <th>a</th>\n",
       "    </tr>\n",
       "  </thead>\n",
       "  <tbody>\n",
       "    <tr>\n",
       "      <th>0</th>\n",
       "      <td>20.54</td>\n",
       "    </tr>\n",
       "    <tr>\n",
       "      <th>1</th>\n",
       "      <td>22.26</td>\n",
       "    </tr>\n",
       "    <tr>\n",
       "      <th>2</th>\n",
       "      <td>19.55</td>\n",
       "    </tr>\n",
       "    <tr>\n",
       "      <th>3</th>\n",
       "      <td>20.50</td>\n",
       "    </tr>\n",
       "    <tr>\n",
       "      <th>4</th>\n",
       "      <td>20.72</td>\n",
       "    </tr>\n",
       "    <tr>\n",
       "      <th>5</th>\n",
       "      <td>19.27</td>\n",
       "    </tr>\n",
       "    <tr>\n",
       "      <th>6</th>\n",
       "      <td>18.98</td>\n",
       "    </tr>\n",
       "    <tr>\n",
       "      <th>7</th>\n",
       "      <td>19.59</td>\n",
       "    </tr>\n",
       "    <tr>\n",
       "      <th>8</th>\n",
       "      <td>23.20</td>\n",
       "    </tr>\n",
       "    <tr>\n",
       "      <th>9</th>\n",
       "      <td>25.33</td>\n",
       "    </tr>\n",
       "  </tbody>\n",
       "</table>\n",
       "</div>"
      ],
      "text/plain": [
       "       a\n",
       "0  20.54\n",
       "1  22.26\n",
       "2  19.55\n",
       "3  20.50\n",
       "4  20.72\n",
       "5  19.27\n",
       "6  18.98\n",
       "7  19.59\n",
       "8  23.20\n",
       "9  25.33"
      ]
     },
     "execution_count": 92,
     "metadata": {},
     "output_type": "execute_result"
    }
   ],
   "source": [
    "df =pd.DataFrame({'a':[20.54,22.26,19.55,20.50,20.72,19.27,18.98,19.59,23.20,25.33]})\n",
    "df"
   ]
  },
  {
   "cell_type": "markdown",
   "metadata": {},
   "source": [
    "<b>i. Calculate the correlation coefficient. </b>\n"
   ]
  },
  {
   "cell_type": "markdown",
   "metadata": {},
   "source": [
    "## Autocorrelation for 1D\n",
    "The correlation $\\rho$ (rho) between two variables $y_1,y_2$ is given as:\n",
    "\n",
    "### $\\rho = \\frac {\\operatorname E[(y_1−\\mu_1)(y_2−\\mu_2)]} {\\sigma_{1}\\sigma_{2}} = \\frac {\\operatorname {Cov} (y_1,y_2)} {\\sigma_{1}\\sigma_{2}}$,\n",
    "\n",
    "where $E$ is the expectation operator, $\\mu_{1},\\sigma_{1}$ and $\\mu_{2},\\sigma_{2}$ are the means and standard deviations of $y_1$ and $y_2$.\n",
    "\n",
    "When working with a single variable (i.e. <em>autocorrelation</em>) we would consider $y_1$ to be the original series and $y_2$ a lagged version of it. Note that with autocorrelation we work with $\\bar y$, that is, the full population mean, and <em>not</em> the means of the reduced set of lagged factors (see note below).\n",
    "\n",
    "Thus, the formula for $\\rho_k$ for a time series at lag $k$ is:\n",
    "\n",
    "${\\displaystyle \\rho_k = \\frac {\\sum\\limits_{t=1}^{n-k} (y_t - \\bar{y})(y_{t+k}-\\bar{y})} {\\sum\\limits_{t=1}^{n} (y_t - \\bar{y})^2}}$\n",
    "\n",
    "This can be written in terms of the covariance constant $\\gamma_k$ as:\n",
    "\n",
    "${\\displaystyle \\rho_k = \\frac {\\gamma_k n} {\\gamma_0 n} = \\frac {\\gamma_k} {\\gamma_0 }}$\n",
    "\n",
    "For example,<br>\n",
    "$\\rho_4 = \\frac {\\gamma_4} {\\gamma_0 } = \\frac{-0.878} {3.68} $\n",
    "\n",
    "Note that ACF values are bound by -1 and 1. That is, ${\\displaystyle -1 \\leq \\rho_k \\leq 1}$"
   ]
  },
  {
   "cell_type": "code",
   "execution_count": 93,
   "metadata": {},
   "outputs": [
    {
     "data": {
      "text/plain": [
       "array([ 1.        ,  0.31686473, -0.17030383, -0.23832371, -0.17722606,\n",
       "       -0.05470385, -0.16785654, -0.07676163,  0.12168783, -0.05337695])"
      ]
     },
     "execution_count": 93,
     "metadata": {},
     "output_type": "execute_result"
    }
   ],
   "source": [
    "#ρk values\n",
    "arr3 = acf(df['a'])\n",
    "arr3"
   ]
  },
  {
   "cell_type": "code",
   "execution_count": 94,
   "metadata": {},
   "outputs": [
    {
     "name": "stdout",
     "output_type": "stream",
     "text": [
      "ρ 0 : 1.0\n",
      "ρ 1 : 0.3168647322508326\n",
      "ρ 2 : -0.17030382830387372\n",
      "ρ 3 : -0.23832371114564949\n",
      "ρ 4 : -0.17722605506935482\n"
     ]
    }
   ],
   "source": [
    "for ind,i in enumerate(arr3[:5]):\n",
    "    print('\\u03C1',ind,':',i)"
   ]
  },
  {
   "cell_type": "markdown",
   "metadata": {},
   "source": [
    "Note : can be expressed as r = 𝛾k/𝛾0 , since 𝛾0=1 it will have same values as ρ0, ρ1,..."
   ]
  },
  {
   "cell_type": "markdown",
   "metadata": {},
   "source": [
    "<b>ii. Derive Yule-Walker equations. </b>"
   ]
  },
  {
   "cell_type": "markdown",
   "metadata": {},
   "source": [
    "method employs the non-recursive Yule-Walker Equations:\n",
    "\n",
    "$\\phi_0 = 1\\\\\n",
    "\\phi_1 = \\rho_1 = 0.316\\\\\n",
    "\\phi_2 = \\frac {\\rho_2 - {\\rho_1}^2} {1-{\\rho_1}^2} = \\frac {(-0.170) - {(0.316)}^2} {1-{(0.316)}^2}$\n",
    "\n",
    "$\\displaystyle \\begin{pmatrix}\\rho_0&\\rho_1&\\cdots &\\rho_{k-1}\\\\\n",
    "\\rho_1&\\rho_0&\\cdots &\\rho_{k-2}\\\\\n",
    "\\vdots &\\vdots &\\ddots &\\vdots \\\\\n",
    "\\rho_{k-1}&\\rho_{k-2}&\\cdots &\\rho_0\\\\\n",
    "\\end{pmatrix}\\quad \\begin{pmatrix}\\phi_{k1}\\\\\\phi_{k2}\\\\\\vdots\\\\\\phi_{kk}\\end{pmatrix}\n",
    "\\mathbf = \\begin{pmatrix}\\rho_1\\\\\\rho_2\\\\\\vdots\\\\\\rho_k\\end{pmatrix}$"
   ]
  },
  {
   "cell_type": "code",
   "execution_count": 9,
   "metadata": {},
   "outputs": [
    {
     "name": "stdout",
     "output_type": "stream",
     "text": [
      "Coefficients of 𝜙KK given by for first 4 coefficient\n"
     ]
    },
    {
     "data": {
      "text/plain": [
       "array([ 1.        ,  0.31686473, -0.30092048, -0.088947  ])"
      ]
     },
     "execution_count": 9,
     "metadata": {},
     "output_type": "execute_result"
    }
   ],
   "source": [
    "print('Coefficients of 𝜙KK given by for first 4 coefficient')\n",
    "arr4 = pacf_yw(df['a'],nlags=3,method='mle')\n",
    "arr4"
   ]
  },
  {
   "cell_type": "markdown",
   "metadata": {},
   "source": [
    "Substitute values for 𝜌, 𝜙KK in eqn to get Yule walker eqn , done in manual calculation for reference"
   ]
  },
  {
   "cell_type": "markdown",
   "metadata": {},
   "source": [
    "<b>iii. Calculate the auto-covariance function. </b>"
   ]
  },
  {
   "cell_type": "markdown",
   "metadata": {},
   "source": [
    "## Autocovariance for 1D\n",
    "In a <em>deterministic</em> process, like $y=sin(x)$, we always know the value of $y$ for a given value of $x$. However, in a <em>stochastic</em> process there is always some randomness that prevents us from knowing the value of $y$. Instead, we analyze the past (or <em>lagged</em>) behavior of the system to derive a probabilistic estimate for $\\hat{y}$.\n",
    "\n",
    "One useful descriptor is <em>covariance</em>. When talking about dependent and independent $x$ and $y$ variables, covariance describes how the variance in $x$ relates to the variance in $y$. Here the size of the covariance isn't really important, as $x$ and $y$ may have very different scales. However, if the covariance is positive it means that $x$ and $y$ are changing in the same direction, and may be related.\n",
    "\n",
    "With a time series, $x$ is a fixed interval. Here we want to look at the variance of $y_t$ against lagged or shifted values of $y_{t+k}$\n",
    "\n",
    "For a stationary time series, the autocovariance function for $\\gamma$ (gamma) is given as:\n",
    "\n",
    "${\\displaystyle {\\gamma}_{XX}(t_{1},t_{2})=\\operatorname {Cov} \\left[X_{t_{1}},X_{t_{2}}\\right]=\\operatorname {E} [(X_{t_{1}}-\\mu _{t_{1}})(X_{t_{2}}-\\mu _{t_{2}})]}$\n",
    "\n",
    "We can calculate a specific $\\gamma_k$ with:\n",
    "\n",
    "${\\displaystyle \\gamma_k = \\frac 1 n \\sum\\limits_{t=1}^{n-k} (y_t - \\bar{y})(y_{t+k}-\\bar{y})}$"
   ]
  },
  {
   "cell_type": "code",
   "execution_count": 95,
   "metadata": {},
   "outputs": [
    {
     "data": {
      "text/plain": [
       "array([ 3.688004 ,  1.1685984, -0.6280812, -0.8789388, -0.6536104])"
      ]
     },
     "execution_count": 95,
     "metadata": {},
     "output_type": "execute_result"
    }
   ],
   "source": [
    "#Gamma values Ck=𝛾𝑘\n",
    "arr = acovf(df['a'])\n",
    "arr[:5]"
   ]
  },
  {
   "cell_type": "markdown",
   "metadata": {},
   "source": [
    "<b>iii. Plot ACF and PACF. </b>"
   ]
  },
  {
   "cell_type": "code",
   "execution_count": 11,
   "metadata": {},
   "outputs": [],
   "source": [
    "from statsmodels.graphics.tsaplots import plot_acf,plot_pacf"
   ]
  },
  {
   "cell_type": "code",
   "execution_count": 71,
   "metadata": {},
   "outputs": [
    {
     "data": {
      "text/plain": [
       "array([ 1.        ,  0.31686473, -0.17030383, -0.23832371, -0.17722606,\n",
       "       -0.05470385, -0.16785654, -0.07676163,  0.12168783, -0.05337695])"
      ]
     },
     "execution_count": 71,
     "metadata": {},
     "output_type": "execute_result"
    }
   ],
   "source": [
    "acf(df['a'])"
   ]
  },
  {
   "cell_type": "code",
   "execution_count": 12,
   "metadata": {},
   "outputs": [
    {
     "data": {
      "image/png": "[encoded data removed]",
      "text/plain": [
       "<Figure size 432x288 with 1 Axes>"
      ]
     },
     "metadata": {
      "needs_background": "light"
     },
     "output_type": "display_data"
    }
   ],
   "source": [
    "# Now let's plot the autocorrelation at different lags\n",
    "title = 'Autocorrelation'\n",
    "#lags = 4\n",
    "plot_acf(df,title=title,lags=4);"
   ]
  },
  {
   "cell_type": "code",
   "execution_count": 73,
   "metadata": {},
   "outputs": [
    {
     "data": {
      "image/png": "[encoded data removed]",
      "text/plain": [
       "<Figure size 432x288 with 1 Axes>"
      ]
     },
     "metadata": {
      "needs_background": "light"
     },
     "output_type": "display_data"
    }
   ],
   "source": [
    "title='Partial Autocorrelation'\n",
    "#lags=4\n",
    "plot_pacf(df,title=title,lags=4);"
   ]
  },
  {
   "cell_type": "markdown",
   "metadata": {},
   "source": [
    "<b>iv. Identify the pattern of ACF and its approximate model. </b>\n"
   ]
  },
  {
   "cell_type": "markdown",
   "metadata": {},
   "source": [
    "From the ACF and PACF plot, considering SE=0.316 we can consider ARMA(1) process component and may need transformation and may not fit model well as coeffient values  not >2𝜎 dataset for applying stationary models like ARMA"
   ]
  },
  {
   "cell_type": "markdown",
   "metadata": {},
   "source": [
    "<b>v. Calculate the standard error. </b>"
   ]
  },
  {
   "cell_type": "code",
   "execution_count": 14,
   "metadata": {},
   "outputs": [
    {
     "name": "stdout",
     "output_type": "stream",
     "text": [
      "0.31622776601683794\n"
     ]
    }
   ],
   "source": [
    "import math\n",
    "#print(math.sqrt(df['a'].std()))\n",
    "print(1/math.sqrt(len(df['a'])))\n",
    "#using formula SE=1/root(N)"
   ]
  },
  {
   "cell_type": "markdown",
   "metadata": {},
   "source": [
    "2. For the given set of data, 3.65, 8.03, 5.72, 4.93, 5.71, 4.79, 4.87, 6.48, 6.40, 6.41 [Manual Method] \n",
    "\n",
    "i. Identify the time series model. \n",
    "\n",
    "ii. Plot ACF plot for lag k=0, 1, 2, 3, 4 …. \n"
   ]
  },
  {
   "cell_type": "code",
   "execution_count": 15,
   "metadata": {},
   "outputs": [
    {
     "data": {
      "text/html": [
       "<div>\n",
       "<style scoped>\n",
       "    .dataframe tbody tr th:only-of-type {\n",
       "        vertical-align: middle;\n",
       "    }\n",
       "\n",
       "    .dataframe tbody tr th {\n",
       "        vertical-align: top;\n",
       "    }\n",
       "\n",
       "    .dataframe thead th {\n",
       "        text-align: right;\n",
       "    }\n",
       "</style>\n",
       "<table border=\"1\" class=\"dataframe\">\n",
       "  <thead>\n",
       "    <tr style=\"text-align: right;\">\n",
       "      <th></th>\n",
       "      <th>a</th>\n",
       "    </tr>\n",
       "  </thead>\n",
       "  <tbody>\n",
       "    <tr>\n",
       "      <th>0</th>\n",
       "      <td>3.65</td>\n",
       "    </tr>\n",
       "    <tr>\n",
       "      <th>1</th>\n",
       "      <td>8.03</td>\n",
       "    </tr>\n",
       "    <tr>\n",
       "      <th>2</th>\n",
       "      <td>5.72</td>\n",
       "    </tr>\n",
       "    <tr>\n",
       "      <th>3</th>\n",
       "      <td>4.93</td>\n",
       "    </tr>\n",
       "    <tr>\n",
       "      <th>4</th>\n",
       "      <td>5.71</td>\n",
       "    </tr>\n",
       "    <tr>\n",
       "      <th>5</th>\n",
       "      <td>4.79</td>\n",
       "    </tr>\n",
       "    <tr>\n",
       "      <th>6</th>\n",
       "      <td>4.87</td>\n",
       "    </tr>\n",
       "    <tr>\n",
       "      <th>7</th>\n",
       "      <td>6.48</td>\n",
       "    </tr>\n",
       "    <tr>\n",
       "      <th>8</th>\n",
       "      <td>6.40</td>\n",
       "    </tr>\n",
       "    <tr>\n",
       "      <th>9</th>\n",
       "      <td>6.41</td>\n",
       "    </tr>\n",
       "  </tbody>\n",
       "</table>\n",
       "</div>"
      ],
      "text/plain": [
       "      a\n",
       "0  3.65\n",
       "1  8.03\n",
       "2  5.72\n",
       "3  4.93\n",
       "4  5.71\n",
       "5  4.79\n",
       "6  4.87\n",
       "7  6.48\n",
       "8  6.40\n",
       "9  6.41"
      ]
     },
     "execution_count": 15,
     "metadata": {},
     "output_type": "execute_result"
    }
   ],
   "source": [
    "df2 =pd.DataFrame({'a':[3.65, 8.03, 5.72, 4.93, 5.71, 4.79, 4.87, 6.48, 6.40, 6.41]})\n",
    "df2"
   ]
  },
  {
   "cell_type": "code",
   "execution_count": 16,
   "metadata": {},
   "outputs": [
    {
     "data": {
      "image/png": "[encoded data removed]",
      "text/plain": [
       "<Figure size 432x288 with 1 Axes>"
      ]
     },
     "metadata": {
      "needs_background": "light"
     },
     "output_type": "display_data"
    }
   ],
   "source": [
    "# Now let's plot the autocorrelation at different lags\n",
    "title = 'Autocorrelation'\n",
    "#lags = 4\n",
    "plot_acf(df2,title=title);"
   ]
  },
  {
   "cell_type": "code",
   "execution_count": 17,
   "metadata": {},
   "outputs": [
    {
     "data": {
      "image/png": "[encoded data removed]",
      "text/plain": [
       "<Figure size 432x288 with 1 Axes>"
      ]
     },
     "metadata": {
      "needs_background": "light"
     },
     "output_type": "display_data"
    }
   ],
   "source": [
    "title='Partial Autocorrelation'\n",
    "#lags=4\n",
    "plot_pacf(df2,title=title,lags=4);"
   ]
  },
  {
   "cell_type": "code",
   "execution_count": 18,
   "metadata": {},
   "outputs": [
    {
     "name": "stdout",
     "output_type": "stream",
     "text": [
      "SE: 0.31622776601683794\n"
     ]
    }
   ],
   "source": [
    "print('SE:',1/math.sqrt(len(df2['a'])))"
   ]
  },
  {
   "cell_type": "markdown",
   "metadata": {},
   "source": [
    "From the ACF and PACF plot, considering SE=0.316 may need transformation and will not fit model well as coeffient values not >3𝜎 dataset for applying stationary models"
   ]
  },
  {
   "cell_type": "markdown",
   "metadata": {},
   "source": [
    "3. 𝑧(𝑡) = 0.5𝑎(𝑡 − 1) + 𝑎(𝑡) , for the given model what would be the pattern of \n",
    "ACF? [Analytical] "
   ]
  },
  {
   "cell_type": "raw",
   "metadata": {},
   "source": [
    "This is MA(1) process, lag=1 with θ1 as +0.5 then the ACF plot will have slowly +ve decaying parameter"
   ]
  },
  {
   "cell_type": "markdown",
   "metadata": {},
   "source": [
    "# Set- T1_a.pdf"
   ]
  },
  {
   "cell_type": "markdown",
   "metadata": {},
   "source": [
    "1. Follow the time series data given below, 9.47, 11.26, 10.47, 8.82, 8.90, 8.26, 8.87, 9.57, 11.31, 10.97. (Manual \n",
    "method) \n"
   ]
  },
  {
   "cell_type": "code",
   "execution_count": 33,
   "metadata": {},
   "outputs": [
    {
     "data": {
      "text/html": [
       "<div>\n",
       "<style scoped>\n",
       "    .dataframe tbody tr th:only-of-type {\n",
       "        vertical-align: middle;\n",
       "    }\n",
       "\n",
       "    .dataframe tbody tr th {\n",
       "        vertical-align: top;\n",
       "    }\n",
       "\n",
       "    .dataframe thead th {\n",
       "        text-align: right;\n",
       "    }\n",
       "</style>\n",
       "<table border=\"1\" class=\"dataframe\">\n",
       "  <thead>\n",
       "    <tr style=\"text-align: right;\">\n",
       "      <th></th>\n",
       "      <th>a</th>\n",
       "    </tr>\n",
       "  </thead>\n",
       "  <tbody>\n",
       "    <tr>\n",
       "      <th>0</th>\n",
       "      <td>9.47</td>\n",
       "    </tr>\n",
       "    <tr>\n",
       "      <th>1</th>\n",
       "      <td>11.26</td>\n",
       "    </tr>\n",
       "    <tr>\n",
       "      <th>2</th>\n",
       "      <td>10.47</td>\n",
       "    </tr>\n",
       "    <tr>\n",
       "      <th>3</th>\n",
       "      <td>8.82</td>\n",
       "    </tr>\n",
       "    <tr>\n",
       "      <th>4</th>\n",
       "      <td>8.90</td>\n",
       "    </tr>\n",
       "    <tr>\n",
       "      <th>5</th>\n",
       "      <td>8.26</td>\n",
       "    </tr>\n",
       "    <tr>\n",
       "      <th>6</th>\n",
       "      <td>8.87</td>\n",
       "    </tr>\n",
       "    <tr>\n",
       "      <th>7</th>\n",
       "      <td>9.57</td>\n",
       "    </tr>\n",
       "    <tr>\n",
       "      <th>8</th>\n",
       "      <td>11.31</td>\n",
       "    </tr>\n",
       "    <tr>\n",
       "      <th>9</th>\n",
       "      <td>10.97</td>\n",
       "    </tr>\n",
       "  </tbody>\n",
       "</table>\n",
       "</div>"
      ],
      "text/plain": [
       "       a\n",
       "0   9.47\n",
       "1  11.26\n",
       "2  10.47\n",
       "3   8.82\n",
       "4   8.90\n",
       "5   8.26\n",
       "6   8.87\n",
       "7   9.57\n",
       "8  11.31\n",
       "9  10.97"
      ]
     },
     "execution_count": 33,
     "metadata": {},
     "output_type": "execute_result"
    }
   ],
   "source": [
    "df3 =pd.DataFrame({'a':[9.47, 11.26, 10.47, 8.82, 8.90, 8.26, 8.87, 9.57, 11.31, 10.97]})\n",
    "df3"
   ]
  },
  {
   "cell_type": "markdown",
   "metadata": {},
   "source": [
    "<b>i. Calculate the correlation coefficient. </b>"
   ]
  },
  {
   "cell_type": "code",
   "execution_count": 34,
   "metadata": {},
   "outputs": [
    {
     "data": {
      "text/plain": [
       "array([ 1.        ,  0.45307619, -0.1111852 , -0.38266416, -0.48561927,\n",
       "       -0.31033938, -0.01228372,  0.27262836,  0.10951813, -0.03313094])"
      ]
     },
     "execution_count": 34,
     "metadata": {},
     "output_type": "execute_result"
    }
   ],
   "source": [
    "# ρ is the corrrelation coefficient (ρ= ck/c0)\n",
    "arr3 = acf(df3['a'])\n",
    "arr3"
   ]
  },
  {
   "cell_type": "code",
   "execution_count": 35,
   "metadata": {},
   "outputs": [
    {
     "name": "stdout",
     "output_type": "stream",
     "text": [
      "ρ 0 : 1.0\n",
      "ρ 1 : 0.45307619415295\n",
      "ρ 2 : -0.11118520338328751\n",
      "ρ 3 : -0.3826641631277863\n"
     ]
    }
   ],
   "source": [
    "for ind,i in enumerate(arr3[:4]):\n",
    "    print('\\u03C1',ind,':',i)"
   ]
  },
  {
   "cell_type": "markdown",
   "metadata": {},
   "source": [
    "<b>ii. Derive Yule-Walker equations. </b>"
   ]
  },
  {
   "cell_type": "markdown",
   "metadata": {},
   "source": [
    "$\\phi_0 = 1\\\\\n",
    "\\phi_1 = \\rho_1 = 0.316\\\\\n",
    "\\phi_2 = \\frac {\\rho_2 - {\\rho_1}^2} {1-{\\rho_1}^2} = \\frac {(-0.170) - {(0.316)}^2} {1-{(0.316)}^2}$\n",
    "\n",
    "$\\displaystyle \\begin{pmatrix}\\rho_0&\\rho_1&\\cdots &\\rho_{k-1}\\\\\n",
    "\\rho_1&\\rho_0&\\cdots &\\rho_{k-2}\\\\\n",
    "\\vdots &\\vdots &\\ddots &\\vdots \\\\\n",
    "\\rho_{k-1}&\\rho_{k-2}&\\cdots &\\rho_0\\\\\n",
    "\\end{pmatrix}\\quad \\begin{pmatrix}\\phi_{k1}\\\\\\phi_{k2}\\\\\\vdots\\\\\\phi_{kk}\\end{pmatrix}\n",
    "\\mathbf = \\begin{pmatrix}\\rho_1\\\\\\rho_2\\\\\\vdots\\\\\\rho_k\\end{pmatrix}$"
   ]
  },
  {
   "cell_type": "code",
   "execution_count": 36,
   "metadata": {},
   "outputs": [
    {
     "name": "stdout",
     "output_type": "stream",
     "text": [
      "Coefficients of 𝜙KK given by for first 4 coefficient\n"
     ]
    },
    {
     "data": {
      "text/plain": [
       "array([ 1.        ,  0.45307619, -0.39820624, -0.19711439])"
      ]
     },
     "execution_count": 36,
     "metadata": {},
     "output_type": "execute_result"
    }
   ],
   "source": [
    "print('Coefficients of 𝜙KK given by for first 4 coefficient')\n",
    "arr4 = pacf_yw(df3['a'],nlags=3,method='mle')\n",
    "arr4"
   ]
  },
  {
   "cell_type": "markdown",
   "metadata": {},
   "source": [
    "Substitute values for 𝜌, 𝜙KK in eqn to get Yule walker eqn , done in manual calculation for reference"
   ]
  },
  {
   "cell_type": "markdown",
   "metadata": {},
   "source": [
    "<b>iii. Calculate the auto-covariance function. </b>"
   ]
  },
  {
   "cell_type": "code",
   "execution_count": 37,
   "metadata": {},
   "outputs": [
    {
     "data": {
      "text/plain": [
       "array([ 1.13972,  0.51638, -0.12672, -0.43613])"
      ]
     },
     "execution_count": 37,
     "metadata": {},
     "output_type": "execute_result"
    }
   ],
   "source": [
    "#Gamma values 𝛾𝑘=ck , first four\n",
    "arr = acovf(df3['a'])\n",
    "arr[:4]"
   ]
  },
  {
   "cell_type": "markdown",
   "metadata": {},
   "source": [
    "<b>iii. Plot ACF and PACF. </b>"
   ]
  },
  {
   "cell_type": "code",
   "execution_count": 68,
   "metadata": {},
   "outputs": [
    {
     "data": {
      "image/png": "[encoded data removed]",
      "text/plain": [
       "<Figure size 432x288 with 1 Axes>"
      ]
     },
     "metadata": {
      "needs_background": "light"
     },
     "output_type": "display_data"
    }
   ],
   "source": [
    "from statsmodels.graphics.tsaplots import plot_acf,plot_pacf\n",
    "# Now let's plot the autocorrelation at different lags\n",
    "title = 'Autocorrelation'\n",
    "#lags = 4\n",
    "plot_acf(df3,title=title,lags=4);\n",
    "plt.plot([0.333 for i in range(0,6)], linestyle = 'dashed',) # SE line\n",
    "plt.plot([-0.333 for i in range(0,6)], linestyle = 'dashed',color='orange')\n",
    "plt.show()"
   ]
  },
  {
   "cell_type": "code",
   "execution_count": 70,
   "metadata": {},
   "outputs": [
    {
     "data": {
      "image/png": "[encoded data removed]",
      "text/plain": [
       "<Figure size 432x288 with 1 Axes>"
      ]
     },
     "metadata": {
      "needs_background": "light"
     },
     "output_type": "display_data"
    }
   ],
   "source": [
    "title='Partial Autocorrelation'\n",
    "#lags=4\n",
    "plot_pacf(df3,title=title,lags=4);\n",
    "plt.plot([0.333 for i in range(0,6)], linestyle = 'dashed',) # SE line\n",
    "plt.plot([-0.333 for i in range(0,6)], linestyle = 'dashed',color='orange')\n",
    "plt.show()"
   ]
  },
  {
   "cell_type": "code",
   "execution_count": 67,
   "metadata": {},
   "outputs": [
    {
     "name": "stdout",
     "output_type": "stream",
     "text": [
      "SE: 0.3333333333333333\n"
     ]
    }
   ],
   "source": [
    "print('SE:',1/math.sqrt(len(df3['a'])-1))"
   ]
  },
  {
   "cell_type": "markdown",
   "metadata": {},
   "source": [
    "<b>iv. Identify the pattern of ACF and its approximate model. </b>"
   ]
  },
  {
   "cell_type": "markdown",
   "metadata": {},
   "source": [
    "In ACF we observe k=1, component is above SE=0.333, we can consider MA(q=1) and AR(p=1, or 2) but since it is less than >3𝜎\n",
    "may need transformation and will not fit stationary model well"
   ]
  },
  {
   "cell_type": "markdown",
   "metadata": {},
   "source": [
    "<b>v. Calculate the standard error<b>"
   ]
  },
  {
   "cell_type": "code",
   "execution_count": 76,
   "metadata": {},
   "outputs": [
    {
     "name": "stdout",
     "output_type": "stream",
     "text": [
      "SE: 0.3333333333333333\n"
     ]
    }
   ],
   "source": [
    "print('SE:',1/math.sqrt(len(df3['a'])-1))"
   ]
  },
  {
   "cell_type": "markdown",
   "metadata": {},
   "source": [
    "<b>2. For the given set of data, 1.174, 0.13, -0.66, -1.48, 0.15, 0.82, -0.29, 0.54, -0.31, -1.096. [Manual Method]\n",
    "\n",
    "i. Identify the time series model. \n",
    "\n",
    "ii. Plot ACF plot for lag k=0, 1, 2, 3, 4 …. \n",
    "<b>"
   ]
  },
  {
   "cell_type": "code",
   "execution_count": 77,
   "metadata": {},
   "outputs": [
    {
     "data": {
      "text/html": [
       "<div>\n",
       "<style scoped>\n",
       "    .dataframe tbody tr th:only-of-type {\n",
       "        vertical-align: middle;\n",
       "    }\n",
       "\n",
       "    .dataframe tbody tr th {\n",
       "        vertical-align: top;\n",
       "    }\n",
       "\n",
       "    .dataframe thead th {\n",
       "        text-align: right;\n",
       "    }\n",
       "</style>\n",
       "<table border=\"1\" class=\"dataframe\">\n",
       "  <thead>\n",
       "    <tr style=\"text-align: right;\">\n",
       "      <th></th>\n",
       "      <th>a</th>\n",
       "    </tr>\n",
       "  </thead>\n",
       "  <tbody>\n",
       "    <tr>\n",
       "      <th>0</th>\n",
       "      <td>1.174</td>\n",
       "    </tr>\n",
       "    <tr>\n",
       "      <th>1</th>\n",
       "      <td>0.130</td>\n",
       "    </tr>\n",
       "    <tr>\n",
       "      <th>2</th>\n",
       "      <td>-0.660</td>\n",
       "    </tr>\n",
       "    <tr>\n",
       "      <th>3</th>\n",
       "      <td>-1.480</td>\n",
       "    </tr>\n",
       "    <tr>\n",
       "      <th>4</th>\n",
       "      <td>0.150</td>\n",
       "    </tr>\n",
       "    <tr>\n",
       "      <th>5</th>\n",
       "      <td>0.820</td>\n",
       "    </tr>\n",
       "    <tr>\n",
       "      <th>6</th>\n",
       "      <td>-0.290</td>\n",
       "    </tr>\n",
       "    <tr>\n",
       "      <th>7</th>\n",
       "      <td>0.540</td>\n",
       "    </tr>\n",
       "    <tr>\n",
       "      <th>8</th>\n",
       "      <td>-0.310</td>\n",
       "    </tr>\n",
       "    <tr>\n",
       "      <th>9</th>\n",
       "      <td>-1.096</td>\n",
       "    </tr>\n",
       "  </tbody>\n",
       "</table>\n",
       "</div>"
      ],
      "text/plain": [
       "       a\n",
       "0  1.174\n",
       "1  0.130\n",
       "2 -0.660\n",
       "3 -1.480\n",
       "4  0.150\n",
       "5  0.820\n",
       "6 -0.290\n",
       "7  0.540\n",
       "8 -0.310\n",
       "9 -1.096"
      ]
     },
     "execution_count": 77,
     "metadata": {},
     "output_type": "execute_result"
    }
   ],
   "source": [
    "df4 =pd.DataFrame({'a':[1.174, 0.13, -0.66, -1.48, 0.15, 0.82, -0.29, 0.54, -0.31, -1.096]})\n",
    "df4"
   ]
  },
  {
   "cell_type": "code",
   "execution_count": 84,
   "metadata": {},
   "outputs": [
    {
     "data": {
      "text/plain": [
       "[<matplotlib.lines.Line2D at 0x1a80a1e6280>]"
      ]
     },
     "execution_count": 84,
     "metadata": {},
     "output_type": "execute_result"
    },
    {
     "data": {
      "image/png": "[encoded data removed]",
      "text/plain": [
       "<Figure size 432x288 with 1 Axes>"
      ]
     },
     "metadata": {
      "needs_background": "light"
     },
     "output_type": "display_data"
    }
   ],
   "source": [
    "# Now let's plot the autocorrelation at different lags\n",
    "title = 'Autocorrelation'\n",
    "#lags = 4\n",
    "plot_acf(df4,title=title);\n",
    "plt.plot([0.333 for i in range(0,12)], linestyle = 'dashed',) # SE line\n",
    "plt.plot([-0.333 for i in range(0,12)], linestyle = 'dashed',color='orange')"
   ]
  },
  {
   "cell_type": "code",
   "execution_count": 85,
   "metadata": {},
   "outputs": [
    {
     "data": {
      "text/plain": [
       "[<matplotlib.lines.Line2D at 0x1a80a3eea90>]"
      ]
     },
     "execution_count": 85,
     "metadata": {},
     "output_type": "execute_result"
    },
    {
     "data": {
      "image/png": "[encoded data removed]",
      "text/plain": [
       "<Figure size 432x288 with 1 Axes>"
      ]
     },
     "metadata": {
      "needs_background": "light"
     },
     "output_type": "display_data"
    }
   ],
   "source": [
    "title='Partial Autocorrelation'\n",
    "#lags=4\n",
    "plot_pacf(df4,title=title,lags=4);\n",
    "plt.plot([0.333 for i in range(0,12)], linestyle = 'dashed',) # SE line\n",
    "plt.plot([-0.333 for i in range(0,12)], linestyle = 'dashed',color='orange')"
   ]
  },
  {
   "cell_type": "code",
   "execution_count": 81,
   "metadata": {},
   "outputs": [
    {
     "name": "stdout",
     "output_type": "stream",
     "text": [
      "SE: 0.3333333333333333\n"
     ]
    }
   ],
   "source": [
    "print('SE:',1/math.sqrt(len(df4['a'])-1))"
   ]
  },
  {
   "cell_type": "markdown",
   "metadata": {},
   "source": [
    "In ACF and PACF graph we see that there is no MA or AR component, may need stationary test as ADF to check and apply \n",
    "transformation like ARIMA"
   ]
  },
  {
   "cell_type": "code",
   "execution_count": 15,
   "metadata": {},
   "outputs": [],
   "source": [
    "import numpy as np\n",
    "import pandas as pd\n",
    "%matplotlib inline\n",
    "\n",
    "# Load specific forecasting tools\n",
    "from statsmodels.tsa.api import VAR, DynamicVAR\n",
    "from statsmodels.tsa.stattools import adfuller\n",
    "from statsmodels.tools.eval_measures import rmse\n",
    "\n",
    "# Ignore harmless warnings\n",
    "import warnings\n",
    "warnings.filterwarnings(\"ignore\")\n",
    "\n",
    "# Load datasets\n",
    "df = pd.read_excel('data.xlsx',index_col=0, parse_dates=True)"
   ]
  },
  {
   "cell_type": "code",
   "execution_count": 11,
   "metadata": {},
   "outputs": [],
   "source": [
    "from statsmodels.tsa.stattools import adfuller\n",
    "\n",
    "def adf_test(series,title=''):\n",
    "    \"\"\"\n",
    "    Pass in a time series and an optional title, returns an ADF report\n",
    "    \"\"\"\n",
    "    print(f'Augmented Dickey-Fuller Test: {title}')\n",
    "    result = adfuller(series.dropna(),autolag='AIC') # .dropna() handles differenced data\n",
    "    \n",
    "    labels = ['ADF test statistic','p-value','# lags used','# observations']\n",
    "    out = pd.Series(result[0:4],index=labels)\n",
    "\n",
    "    for key,val in result[4].items():\n",
    "        out[f'critical value ({key})']=val\n",
    "        \n",
    "    print(out.to_string())          # .to_string() removes the line \"dtype: float64\"\n",
    "    \n",
    "    if result[1] <= 0.05:\n",
    "        print(\"Strong evidence against the null hypothesis\")\n",
    "        print(\"Reject the null hypothesis\")\n",
    "        print(\"Data has no unit root and is stationary\")\n",
    "    else:\n",
    "        print(\"Weak evidence against the null hypothesis\")\n",
    "        print(\"Fail to reject the null hypothesis\")\n",
    "        print(\"Data has a unit root and is non-stationary\")"
   ]
  },
  {
   "cell_type": "code",
   "execution_count": 16,
   "metadata": {},
   "outputs": [
    {
     "name": "stdout",
     "output_type": "stream",
     "text": [
      "Augmented Dickey-Fuller Test on Daily Female Births\n",
      "ADF test statistic      -2.723831\n",
      "p-value                  0.070004\n",
      "# lags used              0.000000\n",
      "# observations          15.000000\n",
      "critical value (1%)     -3.964443\n",
      "critical value (5%)     -3.084908\n",
      "critical value (10%)    -2.681814\n",
      "dtype: float64\n"
     ]
    }
   ],
   "source": [
    "print('Augmented Dickey-Fuller Test on Daily Female Births')\n",
    "dftest = adfuller(df['data'],autolag='AIC')\n",
    "dfout = pd.Series(dftest[0:4],index=['ADF test statistic','p-value','# lags used','# observations'])\n",
    "\n",
    "for key,val in dftest[4].items():\n",
    "    dfout[f'critical value ({key})']=val\n",
    "print(dfout)"
   ]
  },
  {
   "cell_type": "code",
   "execution_count": 17,
   "metadata": {},
   "outputs": [
    {
     "name": "stdout",
     "output_type": "stream",
     "text": [
      "Augmented Dickey-Fuller Test: \n",
      "ADF test statistic      -2.723831\n",
      "p-value                  0.070004\n",
      "# lags used              0.000000\n",
      "# observations          15.000000\n",
      "critical value (1%)     -3.964443\n",
      "critical value (5%)     -3.084908\n",
      "critical value (10%)    -2.681814\n",
      "Weak evidence against the null hypothesis\n",
      "Fail to reject the null hypothesis\n",
      "Data has a unit root and is non-stationary\n"
     ]
    }
   ],
   "source": [
    "adf_test(df['data'])"
   ]
  },
  {
   "cell_type": "code",
   "execution_count": 19,
   "metadata": {},
   "outputs": [],
   "source": [
    "from statsmodels.tsa.stattools import q_stat"
   ]
  },
  {
   "cell_type": "code",
   "execution_count": 25,
   "metadata": {},
   "outputs": [
    {
     "data": {
      "text/plain": [
       "(array([19.2       , 27.63908119, 31.57792311, 33.76256121, 33.77476274,\n",
       "        34.09426533, 34.60546946, 35.38825079, 36.55671738, 38.28203134,\n",
       "        40.83805201, 44.70403327, 50.11744564, 54.88357923, 61.98551434,\n",
       "                inf]),\n",
       " array([1.17713391e-05, 9.95978071e-07, 6.42281372e-07, 8.33588287e-07,\n",
       "        2.63989972e-06, 6.45122454e-06, 1.32647281e-05, 2.27168044e-05,\n",
       "        3.15691309e-05, 3.38918628e-05, 2.56967950e-05, 1.15800806e-05,\n",
       "        2.84626718e-06, 9.06578185e-07, 1.14559168e-07, 0.00000000e+00]))"
      ]
     },
     "execution_count": 25,
     "metadata": {},
     "output_type": "execute_result"
    }
   ],
   "source": [
    "q_stat(acf(df['data']),nobs=16)"
   ]
  },
  {
   "cell_type": "code",
   "execution_count": 26,
   "metadata": {},
   "outputs": [
    {
     "data": {
      "text/plain": [
       "array([ 1.        ,  0.44432998, -0.0044679 , -0.00670185, -0.00893581,\n",
       "       -0.01116976, -0.01340371, -0.01563766, -0.01787161, -0.02010556,\n",
       "       -0.02233951, -0.02457346, -0.02680742, -0.02904137, -0.03127532,\n",
       "       -0.03350927, -0.03574322, -0.03797717, -0.04021112, -0.04244508,\n",
       "       -0.04467903, -0.04691298, -0.04914693, -0.05138088, -0.05361483,\n",
       "       -0.05584878, -0.05808273, -0.06031669, -0.06255064, -0.03957969])"
      ]
     },
     "execution_count": 26,
     "metadata": {},
     "output_type": "execute_result"
    }
   ],
   "source": [
    "acf([\n",
    "16272.01,\n",
    "16472.37,\n",
    "16776.43,\n",
    "16776.43,\n",
    "16776.43,\n",
    "16776.43,\n",
    "16776.43,\n",
    "16776.43,\n",
    "16776.43,\n",
    "16776.43,\n",
    "16776.43,\n",
    "16776.43,\n",
    "16776.43,\n",
    "16776.43,\n",
    "16776.43,\n",
    "16776.43,\n",
    "16776.43,\n",
    "16776.43,\n",
    "16776.43,\n",
    "16776.43,\n",
    "16776.43,\n",
    "16776.43,\n",
    "16776.43,\n",
    "16776.43,\n",
    "16776.43,\n",
    "16776.43,\n",
    "16776.43,\n",
    "16776.43,\n",
    "16776.43,\n",
    "16776.43\n",
    "])"
   ]
  }
 ],
 "metadata": {
  "kernelspec": {
   "display_name": "Python 3",
   "language": "python",
   "name": "python3"
  },
  "language_info": {
   "codemirror_mode": {
    "name": "ipython",
    "version": 3
   },
   "file_extension": ".py",
   "mimetype": "text/x-python",
   "name": "python",
   "nbconvert_exporter": "python",
   "pygments_lexer": "ipython3",
   "version": "3.8.5"
  }
 },
 "nbformat": 4,
 "nbformat_minor": 4
}
