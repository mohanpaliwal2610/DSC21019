{
 "cells": [
  {
   "cell_type": "markdown",
   "metadata": {},
   "source": [
    "# Assignment - 1\n",
    "25/11/2021\n"
   ]
  },
  {
   "cell_type": "markdown",
   "metadata": {},
   "source": [
    "### Bayes Theorem"
   ]
  },
  {
   "cell_type": "markdown",
   "metadata": {},
   "source": [
    "#### Q1  In a study, physicians were asked what the odds of breast cancer would be in a woman who was initially thought to have a 1% risk of cancer but who ended up with a positive mammogram result (a mammogram accurately classifies about 80% of cancerous tumors and 90% of benign tumors.) 95 out of a hundred physicians estimated the probability of cancer to be about 75%. Do you agree?"
   ]
  },
  {
   "cell_type": "code",
   "execution_count": 87,
   "metadata": {},
   "outputs": [
    {
     "name": "stdout",
     "output_type": "stream",
     "text": [
      "P(M|P) = 7.5%\n",
      "So the chance would be 7.5%. \n"
     ]
    }
   ],
   "source": [
    "# Introduction of events\n",
    "# event P : manmogran result is positive\n",
    "# event B : tumor is benign\n",
    "# event M : tumor is malignant.\n",
    "# note that not_B = M\n",
    "#P(M)\n",
    "p_M=0.01\n",
    "#P(B)\n",
    "p_B=1-0.01\n",
    "#P(P/M)\n",
    "p_P_given_M=0.80\n",
    "#P(P/B)\n",
    "p_P_given_B=0.10\n",
    "\n",
    "def bayes_theorem(p_M, p_P_given_M, p_P_given_B):\n",
    "  # calculate P(P)\n",
    "  p_P = p_P_given_M * p_M + p_P_given_B * p_B\n",
    "  # calculate P(M|P)\n",
    "  p_M_given_P = (p_P_given_M * p_M) / p_P\n",
    "  return p_M_given_P\n",
    "# calculate P(M|P)\n",
    "result = bayes_theorem(p_M, p_P_given_M, p_P_given_B)\n",
    "# summarize\n",
    "print('P(M|P) = %.1f%%' % (result * 100))\n",
    "print(\"So the chance would be 7.5%. \")"
   ]
  },
  {
   "cell_type": "markdown",
   "metadata": {},
   "source": [
    "#### Q.2.  It is estimated that 50% of emails are spam emails. Some software has been applied to filter these spam emails before they reach your inbox. A certain brand of software claims that it can detect 99% of spam emails, and the probability for a false positive (a non-spam email detected as spam) is 5%. Now if an email is detected as spam, then what is the probability that it is in fact a non-spam email?"
   ]
  },
  {
   "cell_type": "code",
   "execution_count": 83,
   "metadata": {},
   "outputs": [
    {
     "name": "stdout",
     "output_type": "stream",
     "text": [
      "P(not_A|B) = 4.808%\n"
     ]
    }
   ],
   "source": [
    "#B : event that an email is detected as spam,\n",
    "#A : event that an email is spam,\n",
    "#not_A : event that an email is not spam.\n",
    "\n",
    "# calculate the probability of an email in the spam folder being non spam\n",
    "# calculate P(not_A|B) given P(A),P(not_A), P(B|A), P(B|not A)\n",
    "def bayes_theorem(p_a, p_b_given_a, p_b_given_not_a):\n",
    "  # calculate P(not A)\n",
    "  p_not_a = 1 - p_a\n",
    "  # calculate P(B)\n",
    "  p_b = p_b_given_a * p_a + p_b_given_not_a * p_not_a\n",
    "  # calculate P(not_A|B)\n",
    "  p_not_a_given_b = (p_b_given_not_a * p_not_a) / p_b\n",
    "  return p_not_a_given_b\n",
    "\n",
    "#P(A)\n",
    "p_a = 0.5\n",
    "# P(B|A)\n",
    "p_b_given_a = 0.99\n",
    "# P(B|not A)\n",
    "p_b_given_not_a = 0.05\n",
    "# calculate P(not_A|B)\n",
    "result = bayes_theorem(p_a, p_b_given_a, p_b_given_not_a)\n",
    "# summarize\n",
    "print('P(not_A|B) = %.3f%%' % (result * 100))"
   ]
  },
  {
   "cell_type": "markdown",
   "metadata": {},
   "source": [
    "## 2. DISCRETE PROBABILITY DISTRIBUTIONS\n",
    "### Binomial Distribution\n"
   ]
  },
  {
   "cell_type": "code",
   "execution_count": 2,
   "metadata": {},
   "outputs": [],
   "source": [
    "import numpy as np\n",
    "import pandas as pd\n",
    "from numpy import random\n",
    "from numpy.random import binomial\n",
    "from numpy.random import multinomial\n",
    "from numpy.random import poisson\n",
    "from scipy.stats import binom\n",
    "from scipy.stats import multinomial\n",
    "from scipy.stats import poisson\n",
    "import seaborn as sns\n",
    "from scipy import stats\n",
    "import matplotlib.pyplot as plt\n",
    "# settings for seaborn plotting style\n",
    "#sns.set(color_codes=True)"
   ]
  },
  {
   "cell_type": "markdown",
   "metadata": {},
   "source": [
    "#### 1. Given 10 trials for coin toss generate 10 data points, plot the histogram. Find the moments of the distribution."
   ]
  },
  {
   "cell_type": "code",
   "execution_count": 3,
   "metadata": {},
   "outputs": [
    {
     "name": "stdout",
     "output_type": "stream",
     "text": [
      " data Points is : [3 5 5 5 6 1 5 4 3 8]\n"
     ]
    },
    {
     "data": {
      "image/png": "[encoded data removed]",
      "text/plain": [
       "<Figure size 432x288 with 1 Axes>"
      ]
     },
     "metadata": {
      "needs_background": "light"
     },
     "output_type": "display_data"
    },
    {
     "name": "stdout",
     "output_type": "stream",
     "text": [
      "Mean=5.000, Variance=2.500, skew=0.000, kurt=-0.200\n"
     ]
    }
   ],
   "source": [
    "# n : number of trials =10\n",
    "# p : prob of occurence of head or tail =0.5\n",
    "\n",
    "# simulate data points\n",
    "data_binom = random.binomial(n=10, p=0.5, size=10)\n",
    "print(\" data Points is :\",data_binom)\n",
    "\n",
    "# To display the histogram of the distribution\n",
    "ax=sns.histplot(data_binom,kde=False,bins=6)\n",
    "ax.set(xlabel='Binomial Distribution', ylabel='Frequency')\n",
    "plt.show()\n",
    "\n",
    "# To calculate the moments of the distribution\n",
    "mean, var, skew, kurt = binom.stats(n=10, p=0.5, moments='mvsk')\n",
    "print('Mean=%.3f, Variance=%.3f, skew=%.3f, kurt=%.3f' % (mean, var, skew, kurt))"
   ]
  },
  {
   "cell_type": "code",
   "execution_count": 4,
   "metadata": {},
   "outputs": [
    {
     "data": {
      "image/png": "[encoded data removed]",
      "text/plain": [
       "<Figure size 432x288 with 1 Axes>"
      ]
     },
     "metadata": {
      "needs_background": "light"
     },
     "output_type": "display_data"
    }
   ],
   "source": [
    "# define the parameters of the distribution\n",
    "p = 0.5\n",
    "n = 10\n",
    "\n",
    "#PMF plotting using histogram\n",
    "x = np.arange(binom.ppf(0.01, n, p), binom.ppf(0.99, n, p)+2)\n",
    "plt.plot(x, binom.pmf(x, n, p), 'bo', ms=8, label='binom pmf')\n",
    "plt.vlines(x, 0, binom.pmf(x, n, p), colors='b', lw=5, alpha=0.5)\n",
    "\n",
    "plt.xlabel('Binomial distribution')\n",
    "plt.ylabel('pmf')\n",
    "plt.show()\n"
   ]
  },
  {
   "cell_type": "code",
   "execution_count": 168,
   "metadata": {},
   "outputs": [
    {
     "data": {
      "text/plain": [
       "Text(0, 0.5, 'cdf')"
      ]
     },
     "execution_count": 168,
     "metadata": {},
     "output_type": "execute_result"
    },
    {
     "data": {
      "image/png": "[encoded data removed]",
      "text/plain": [
       "<Figure size 432x288 with 1 Axes>"
      ]
     },
     "metadata": {},
     "output_type": "display_data"
    }
   ],
   "source": [
    "#CDF plotting using histogram\n",
    "x = np.linspace(0, 10, 11)\n",
    "plt.plot(x, stats.binom.cdf(x, n, p), 'bo', ms=8, label='binom cdf')\n",
    "plt.vlines(x, 0, binom.cdf(x, n, p), colors='b', lw=5, alpha=0.5)\n",
    "plt.xlabel('Binomial distribution')\n",
    "plt.ylabel('cdf')"
   ]
  },
  {
   "cell_type": "markdown",
   "metadata": {},
   "source": [
    "#### Q.2 whenlooking at a person’s eye color, it turns out that 1% of people in the world has green eyes Consider a group of 20 people.\n",
    "\n",
    "a. State the random variable.\n",
    "\n",
    "b. Write the probability distribution.\n",
    "\n",
    "c. Draw a histogram.\n",
    "\n",
    "d. Find the mean.\n",
    "\n",
    "e. Find the variance.\n",
    "\n",
    "f. Find the standard deviation."
   ]
  },
  {
   "cell_type": "code",
   "execution_count": 181,
   "metadata": {},
   "outputs": [],
   "source": [
    "# ans A]---\n",
    "\n",
    "# x = number of people with green eyes\n",
    "\n",
    "# ans B]---\n",
    "'''\n",
    "There are 20 people, and each person is a trial,\n",
    "so there are a fixed number of trials. In this case, n=20 .\n",
    "each trials are independant.\n",
    "'''\n",
    "'''The probability of a person having green eyes is 0.01.\n",
    "This is the same for every trial since each person has the same chance of having green eyes.\n",
    "p = 0.01 and q = 1 - 0.01 = 0.99\n",
    "'''\n",
    "'''\n",
    "here X~ Bin(n=20, p=0.01)\n",
    "'''\n",
    "n=20\n",
    "p=0.01"
   ]
  },
  {
   "cell_type": "code",
   "execution_count": 189,
   "metadata": {
    "scrolled": true
   },
   "outputs": [
    {
     "data": {
      "image/png": "[encoded data removed]",
      "text/plain": [
       "<Figure size 432x288 with 1 Axes>"
      ]
     },
     "metadata": {},
     "output_type": "display_data"
    },
    {
     "name": "stdout",
     "output_type": "stream",
     "text": [
      "Mean=0.200, Variance=0.198, skew=2.202, kurt=4.751\n",
      "standard deviation : 0.4449719092257398\n"
     ]
    }
   ],
   "source": [
    "# ans C]----\n",
    "# simulate data points\n",
    "data_binom = random.binomial(n, p, size=1000)\n",
    "#print(\" data Points is :\",data_binom)\n",
    "\n",
    "# To display the histogram of the distribution\n",
    "ax=sns.histplot(data_binom,kde=False,bins=5)\n",
    "ax.set(xlabel='Binomial Distribution', ylabel='Frequency')\n",
    "plt.show()\n",
    "\n",
    "# ans D, E, F]----\n",
    "\n",
    "# To calculate the moments of the distribution\n",
    "mean, var, skew, kurt = binom.stats(n, p, moments='mvsk')\n",
    "print('Mean=%.3f, Variance=%.3f, skew=%.3f, kurt=%.3f' % (mean, var, skew, kurt))\n",
    "print(\"standard deviation :\" ,np.sqrt(var))"
   ]
  },
  {
   "cell_type": "code",
   "execution_count": 192,
   "metadata": {},
   "outputs": [
    {
     "data": {
      "image/png": "[encoded data removed]",
      "text/plain": [
       "<Figure size 432x288 with 1 Axes>"
      ]
     },
     "metadata": {},
     "output_type": "display_data"
    }
   ],
   "source": [
    "#PMF plotting using histogram\n",
    "#x = np.arange(binom.ppf(0.01, n, p), binom.ppf(0.99, n, p)+5)\n",
    "x=list(np.arange(0,n+1,1))\n",
    "plt.plot(x, binom.pmf(x, n, p), 'bo', ms=8, label='binom pmf')\n",
    "plt.vlines(x, 0, binom.pmf(x, n, p), colors='b', lw=5, alpha=0.5)\n",
    "\n",
    "plt.xlabel('Binomial distribution')\n",
    "plt.ylabel('pmf')\n",
    "plt.show()\n"
   ]
  },
  {
   "cell_type": "code",
   "execution_count": 195,
   "metadata": {},
   "outputs": [
    {
     "data": {
      "text/plain": [
       "Text(0, 0.5, 'cdf')"
      ]
     },
     "execution_count": 195,
     "metadata": {},
     "output_type": "execute_result"
    },
    {
     "data": {
      "image/png": "[encoded data removed]",
      "text/plain": [
       "<Figure size 432x288 with 1 Axes>"
      ]
     },
     "metadata": {},
     "output_type": "display_data"
    }
   ],
   "source": [
    "#CDF plotting using histogram\n",
    "x = np.linspace(0, 20, 21)\n",
    "plt.plot(x, stats.binom.cdf(x, n, p), 'bo', ms=8, label='binom cdf')\n",
    "plt.vlines(x, 0, binom.cdf(x, n, p), colors='b', lw=5, alpha=0.5)\n",
    "plt.xlabel('Binomial distribution')\n",
    "plt.ylabel('cdf')"
   ]
  },
  {
   "cell_type": "markdown",
   "metadata": {},
   "source": [
    "#### Q.3. Nathan makes 60% of his free-throw attempts. If he shoots 12 free throws, what is the probability that he makes exactly 10?"
   ]
  },
  {
   "cell_type": "code",
   "execution_count": 202,
   "metadata": {
    "scrolled": true
   },
   "outputs": [
    {
     "name": "stdout",
     "output_type": "stream",
     "text": [
      "probability that he makes exactly 10 is : 0.06385228185599987\n"
     ]
    }
   ],
   "source": [
    "# X=no of made free-throw attempts \n",
    "n=12    # n=no of free throws shoots\n",
    "p=0.60 # 60% made free throw attempts\n",
    "\n",
    "# probability that he makes exactly 10\n",
    "p_x_10=binom.pmf(k=10, n=12, p=0.6)\n",
    "print(\"probability that he makes exactly 10 is :\", p_x_10)\n"
   ]
  },
  {
   "cell_type": "code",
   "execution_count": 203,
   "metadata": {},
   "outputs": [
    {
     "data": {
      "image/png": "[encoded data removed]",
      "text/plain": [
       "<Figure size 432x288 with 1 Axes>"
      ]
     },
     "metadata": {},
     "output_type": "display_data"
    }
   ],
   "source": [
    "#PMF plotting using histogram\n",
    "#x = np.arange(binom.ppf(0.01, n, p), binom.ppf(0.99, n, p)+5)\n",
    "x=list(np.arange(0,n+1,1))\n",
    "plt.plot(x, binom.pmf(x, n, p), 'bo', ms=8, label='binom pmf')\n",
    "plt.vlines(x, 0, binom.pmf(x, n, p), colors='b', lw=5, alpha=0.5)\n",
    "\n",
    "plt.xlabel('Binomial distribution')\n",
    "plt.ylabel('pmf')\n",
    "plt.show()"
   ]
  },
  {
   "cell_type": "code",
   "execution_count": 204,
   "metadata": {},
   "outputs": [
    {
     "data": {
      "text/plain": [
       "Text(0, 0.5, 'cdf')"
      ]
     },
     "execution_count": 204,
     "metadata": {},
     "output_type": "execute_result"
    },
    {
     "data": {
      "image/png": "[encoded data removed]",
      "text/plain": [
       "<Figure size 432x288 with 1 Axes>"
      ]
     },
     "metadata": {},
     "output_type": "display_data"
    }
   ],
   "source": [
    "#CDF plotting using histogram\n",
    "x = np.linspace(0, 12, 13)\n",
    "plt.plot(x, stats.binom.cdf(x, n, p), 'bo', ms=8, label='binom cdf')\n",
    "plt.vlines(x, 0, binom.cdf(x, n, p), colors='b', lw=5, alpha=0.5)\n",
    "plt.xlabel('Binomial distribution')\n",
    "plt.ylabel('cdf')"
   ]
  },
  {
   "cell_type": "markdown",
   "metadata": {},
   "source": [
    "#### Q.4  Approximately 10% of all people are left-handed. Consider a grouping of fifteen people.\n",
    "a. State the random variable.\n",
    "\n",
    "b. Write the probability distribution.\n",
    "\n",
    "c. Draw a histogram.\n",
    "\n",
    "d. Describe the shape of the histogram.\n",
    "\n",
    "e. Find the mean.\n",
    "\n",
    "f. Find the variance.\n",
    "\n",
    "g. Find the standard deviation."
   ]
  },
  {
   "cell_type": "code",
   "execution_count": 205,
   "metadata": {},
   "outputs": [],
   "source": [
    "# ans A]---\n",
    "\n",
    "# x = number of peoples are left handed\n",
    "\n",
    "# ans B]---\n",
    "'''\n",
    "There are 15 people, and each person is a trial,\n",
    "so there are a fixed number of trials. In this case, n=15.\n",
    "each trials are independant.\n",
    "'''\n",
    "'''The probability of a person is left handed is 0.1\n",
    "This is the same for every trial since each person has the same chance of left handed.\n",
    "p = 0.1 and q = 1 - 0.1 = 0.9\n",
    "'''\n",
    "'''\n",
    "here X~ Bin(n=15, p=0.1)\n",
    "'''\n",
    "n=15\n",
    "p=0.1"
   ]
  },
  {
   "cell_type": "code",
   "execution_count": 207,
   "metadata": {},
   "outputs": [
    {
     "data": {
      "image/png": "[encoded data removed]",
      "text/plain": [
       "<Figure size 432x288 with 1 Axes>"
      ]
     },
     "metadata": {},
     "output_type": "display_data"
    },
    {
     "name": "stdout",
     "output_type": "stream",
     "text": [
      " shape of distribution is positively skewed and leptokurtic \n",
      "Mean=1.500, Variance=1.350, skew=0.689, kurt=0.341\n",
      "standard deviation : 1.161895003862225\n"
     ]
    }
   ],
   "source": [
    "# ans C]----\n",
    "# simulate data points\n",
    "data_binom = random.binomial(n, p, size=10000)\n",
    "#print(\" data Points is :\",data_binom)\n",
    "\n",
    "# To display the histogram of the distribution\n",
    "ax=sns.histplot(data_binom,kde=False,bins=10)\n",
    "ax.set(xlabel='Binomial Distribution', ylabel='Frequency')\n",
    "plt.show()\n",
    "\n",
    "# ans D]----\n",
    "\n",
    "print(\" shape of distribution is positively skewed and leptokurtic \")\n",
    "\n",
    "# ans E, F, G]----\n",
    "\n",
    "# To calculate the moments of the distribution\n",
    "mean, var, skew, kurt = binom.stats(n, p, moments='mvsk')\n",
    "print('Mean=%.3f, Variance=%.3f, skew=%.3f, kurt=%.3f' % (mean, var, skew, kurt))\n",
    "print(\"standard deviation :\" ,np.sqrt(var))\n"
   ]
  },
  {
   "cell_type": "code",
   "execution_count": 208,
   "metadata": {},
   "outputs": [
    {
     "data": {
      "image/png": "[encoded data removed]",
      "text/plain": [
       "<Figure size 432x288 with 1 Axes>"
      ]
     },
     "metadata": {},
     "output_type": "display_data"
    }
   ],
   "source": [
    "#PMF plotting using histogram\n",
    "#x = np.arange(binom.ppf(0.01, n, p), binom.ppf(0.99, n, p)+5)\n",
    "x=list(np.arange(0,n+1,1))\n",
    "plt.plot(x, binom.pmf(x, n, p), 'bo', ms=8, label='binom pmf')\n",
    "plt.vlines(x, 0, binom.pmf(x, n, p), colors='b', lw=5, alpha=0.5)\n",
    "\n",
    "plt.xlabel('Binomial distribution')\n",
    "plt.ylabel('pmf')\n",
    "plt.show()"
   ]
  },
  {
   "cell_type": "code",
   "execution_count": 209,
   "metadata": {},
   "outputs": [
    {
     "data": {
      "text/plain": [
       "Text(0, 0.5, 'cdf')"
      ]
     },
     "execution_count": 209,
     "metadata": {},
     "output_type": "execute_result"
    },
    {
     "data": {
      "image/png": "[encoded data removed]",
      "text/plain": [
       "<Figure size 432x288 with 1 Axes>"
      ]
     },
     "metadata": {},
     "output_type": "display_data"
    }
   ],
   "source": [
    "#CDF plotting using histogram\n",
    "x = np.linspace(0, 15, 16)\n",
    "plt.plot(x, stats.binom.cdf(x, n, p), 'bo', ms=8, label='binom cdf')\n",
    "plt.vlines(x, 0, binom.cdf(x, n, p), colors='b', lw=5, alpha=0.5)\n",
    "plt.xlabel('Binomial distribution')\n",
    "plt.ylabel('cdf')"
   ]
  },
  {
   "cell_type": "markdown",
   "metadata": {},
   "source": [
    "## Multinomial Distribution"
   ]
  },
  {
   "cell_type": "markdown",
   "metadata": {},
   "source": [
    "#### Q.5 Three card players play a series of matches. The probability that player A will win any game is 20%, the probability that player B will win is 30%, and the probability player Cwill win is 50%. If they play 6 games, what is the probability that player A will win 1 game, player B will win 2 games, and player C will win 3? (Calculate the success assuming each case information)"
   ]
  },
  {
   "cell_type": "code",
   "execution_count": 211,
   "metadata": {},
   "outputs": [
    {
     "name": "stdout",
     "output_type": "stream",
     "text": [
      "Case=[1, 2, 3],P(A=1,B=2,C=3) Probability: 13.500%\n"
     ]
    }
   ],
   "source": [
    "# define the parameters of the distribution\n",
    "# k=6 no of games played\n",
    "# p1=prob of player A is win is 0.20\n",
    "# p2=prob of player B is win is 0.30\n",
    "# p3=prob of player C is win is 0.50\n",
    "\n",
    "p = [0.20, 0.30, 0.50]\n",
    "k = 6\n",
    "# define the distribution\n",
    "dist = multinomial(k, p)\n",
    "# define a specific number of outcomes from 6 trials\n",
    "cases = [1, 2, 3]\n",
    "# calculate the probability for the case\n",
    "pr = dist.pmf(cases)\n",
    "# print as a percentage\n",
    "print('Case=%s,P(A=1,B=2,C=3) Probability: %.3f%%' % (cases, pr*100))"
   ]
  },
  {
   "cell_type": "markdown",
   "metadata": {},
   "source": [
    "#### Q.6 You are given a bag of marbles. Inside the bag are 5 red marbles, 4 white marbles, and 3 blue marbles. Calculate the probability that with 6 trials, you choose 3 marbles that are red, 1 marble that is white, and 2 marbles that are blue, replacing each marble after it is chosen. Find the mean and variance of this distribution."
   ]
  },
  {
   "cell_type": "code",
   "execution_count": 222,
   "metadata": {},
   "outputs": [
    {
     "name": "stdout",
     "output_type": "stream",
     "text": [
      "Case=[3, 1, 2],P(R=3,W=1,B=2) Probability: 9.042%\n"
     ]
    }
   ],
   "source": [
    "# n= no of marbles in bag =12\n",
    "# p1 = prob of red marbles is selected =5/12\n",
    "p1=5/12\n",
    "# p2 = prob of white marbles is selected =4/12 \n",
    "p2=4/12\n",
    "# p3 = prob of blue marbles is selected =3/12\n",
    "p3=3/12\n",
    "p=[5.0/12.0, 4.0/12.0, 3.0/12.0]\n",
    "k=6\n",
    "# define the distribution\n",
    "dist = multinomial(k, p)\n",
    "cases=[3,1,2]\n",
    "# calculate the probability for the case\n",
    "pr = dist.pmf(cases)\n",
    "# print as a percentage\n",
    "print('Case=%s,P(R=3,W=1,B=2) Probability: %.3f%%' % (cases, pr*100))"
   ]
  },
  {
   "cell_type": "code",
   "execution_count": 227,
   "metadata": {},
   "outputs": [
    {
     "name": "stdout",
     "output_type": "stream",
     "text": [
      "means is : [2.5, 2.0, 1.5]\n",
      "variance is : [1.458333333333333, 1.3333333333333335, 1.125]\n"
     ]
    }
   ],
   "source": [
    "# Mean \n",
    "mean_R=k*p1\n",
    "mean_W=k*p2\n",
    "mean_B=k*p3\n",
    "print(\"means is :\" ,[mean_R, mean_W,mean_B])\n",
    "# Mean \n",
    "var_R=k*p1*(1-p1)\n",
    "var_W=k*p2*(1-p2)\n",
    "var_B=k*p3*(1-p3)\n",
    "print(\"variance is :\" ,[var_R, var_W,var_B])"
   ]
  },
  {
   "cell_type": "markdown",
   "metadata": {},
   "source": [
    "## Poisson Distribution\n"
   ]
  },
  {
   "cell_type": "markdown",
   "metadata": {},
   "source": [
    "#### Q.7 Let’s say that the number of buses that come on a bus stop in span of 30 minutes is 1. Poisson distribution can be used to model the probability of different number of buses, X, coming to the bus stop within the next 30 minutes where X can take value of 0, 1, 2, 3, 4. Show the distribution by using histogram plotting."
   ]
  },
  {
   "cell_type": "code",
   "execution_count": 244,
   "metadata": {},
   "outputs": [
    {
     "data": {
      "text/plain": [
       "array([0.36787944, 0.36787944, 0.18393972, 0.06131324, 0.01532831])"
      ]
     },
     "execution_count": 244,
     "metadata": {},
     "output_type": "execute_result"
    }
   ],
   "source": [
    "#Random variable representing number of buses\n",
    "# Mean number of buses coming to bus stop in 30 minutes is 1\n",
    "\n",
    "X = [0, 1, 2, 3, 4]\n",
    "lmbda = 1\n",
    "# Probability values\n",
    "poisson_pd = poisson.pmf(X, lmbda)\n",
    "poisson_pd"
   ]
  },
  {
   "cell_type": "code",
   "execution_count": 245,
   "metadata": {},
   "outputs": [
    {
     "data": {
      "image/png": "[encoded data removed]",
      "text/plain": [
       "<Figure size 432x288 with 1 Axes>"
      ]
     },
     "metadata": {},
     "output_type": "display_data"
    },
    {
     "name": "stdout",
     "output_type": "stream",
     "text": [
      "Mean=1.000, Variance=1.000, skew=1.000, kurt=1.000\n"
     ]
    }
   ],
   "source": [
    "data_poission = poisson.rvs(mu=1, size=1000)\n",
    "ax=sns.histplot(data_poission,kde=False,bins=10)\n",
    "ax.set(xlabel='poisson Distribution', ylabel='Frequency')\n",
    "plt.show()\n",
    "# CALCULATION OF MOMENTS OF POISSION DISTRIBUTION\n",
    "mean, var, skew, kurt = poisson.stats(mu=1, moments='mvsk')\n",
    "print('Mean=%.3f, Variance=%.3f, skew=%.3f, kurt=%.3f' % (mean, var, skew, kurt))"
   ]
  },
  {
   "cell_type": "markdown",
   "metadata": {},
   "source": [
    "#### Q.8 Let’s say that you are out on a long drive. The rate of occurrences of good restaurants a range of 10 miles (or km) is 2. In other words, the mean number of occurrences of restaurants in a range of 10 KM or miles is 2.\n",
    "a. Identify the parameters of the distribution and plot the same\n",
    "\n",
    "b. What is the probability that 0, 1, 2, 3, 4, or 5 restaurants will occur in the next 10 km.? Show the pmf of the distribution."
   ]
  },
  {
   "cell_type": "code",
   "execution_count": 247,
   "metadata": {},
   "outputs": [
    {
     "data": {
      "image/png": "[encoded data removed]",
      "text/plain": [
       "<Figure size 432x288 with 1 Axes>"
      ]
     },
     "metadata": {},
     "output_type": "display_data"
    }
   ],
   "source": [
    "#Random variable( X ) representing number of occurence of good restaurant in range of 10km\n",
    "# Mean number of occurence of good restaurant in range of 10km is 2\n",
    "\n",
    "# ans a]--\n",
    "# parameter is lambda\n",
    "lmbda=2\n",
    "data_poission = poisson.rvs(mu=2, size=1000)\n",
    "ax=sns.histplot(data_poission,kde=False,bins=10)\n",
    "ax.set(xlabel='poisson Distribution', ylabel='Frequency')\n",
    "plt.show()\n",
    "\n"
   ]
  },
  {
   "cell_type": "code",
   "execution_count": 249,
   "metadata": {},
   "outputs": [
    {
     "data": {
      "text/plain": [
       "array([0.13533528, 0.27067057, 0.27067057, 0.18044704, 0.09022352,\n",
       "       0.03608941])"
      ]
     },
     "execution_count": 249,
     "metadata": {},
     "output_type": "execute_result"
    }
   ],
   "source": [
    "# ans b]---\n",
    "X = [0, 1, 2, 3, 4, 5]\n",
    "mu = 2\n",
    "# Probability values\n",
    "poisson_pd = poisson.pmf(X, mu)\n",
    "poisson_pd\n"
   ]
  },
  {
   "cell_type": "code",
   "execution_count": 254,
   "metadata": {},
   "outputs": [
    {
     "data": {
      "image/png": "[encoded data removed]",
      "text/plain": [
       "<Figure size 432x288 with 1 Axes>"
      ]
     },
     "metadata": {},
     "output_type": "display_data"
    }
   ],
   "source": [
    "#PMF plotting using histogram\n",
    "x = np.arange(poisson.ppf(0.01, mu), poisson.ppf(0.99, mu)+1)\n",
    "plt.plot(x, poisson.pmf(x, mu) , 'bo', ms=8, label='poisson pmf')\n",
    "plt.vlines(x, 0, poisson.pmf(x, mu), colors='b', lw=5, alpha=0.5)\n",
    "plt.xlabel('Poisson distribution')\n",
    "plt.ylabel('pmf')\n",
    "plt.show()"
   ]
  },
  {
   "cell_type": "markdown",
   "metadata": {},
   "source": [
    "## CONTINUOUS PROBABILITY DISTRIBUTIONS"
   ]
  },
  {
   "cell_type": "markdown",
   "metadata": {},
   "source": [
    "### Normal Distribution"
   ]
  },
  {
   "cell_type": "code",
   "execution_count": 255,
   "metadata": {},
   "outputs": [],
   "source": [
    "import numpy as np\n",
    "from scipy.stats import norm\n",
    "from numpy.random import exponential\n",
    "from scipy.stats import expon\n",
    "import matplotlib.pyplot as plt\n",
    "import seaborn as sns\n",
    "import pylab as pl"
   ]
  },
  {
   "cell_type": "markdown",
   "metadata": {},
   "source": [
    "#### Q.1 Create a normal distribution with mean = 40, standard deviation = 45. Create the random sample points and plot the histogram."
   ]
  },
  {
   "cell_type": "code",
   "execution_count": 261,
   "metadata": {},
   "outputs": [
    {
     "data": {
      "text/plain": [
       "40.09728877207914"
      ]
     },
     "execution_count": 261,
     "metadata": {},
     "output_type": "execute_result"
    },
    {
     "data": {
      "image/png": "[encoded data removed]",
      "text/plain": [
       "<Figure size 432x288 with 1 Axes>"
      ]
     },
     "metadata": {},
     "output_type": "display_data"
    }
   ],
   "source": [
    "data_normal = np.random.normal(40,45,1000)\n",
    "ax=sns.histplot(data_normal,kde=False,bins=20)\n",
    "ax.set(xlabel='Normal Distribution', ylabel='Frequency')\n",
    "np.mean(data_normal)"
   ]
  },
  {
   "cell_type": "markdown",
   "metadata": {},
   "source": [
    "#### Q.2. The average number of acres burned by forest and range fires in a large New Mexico county is 4,300 acres per year, with a standard deviation of 750 acres. The distribution of the number of acres burned is normal.\n",
    "a. What is the probability that between 2,500 and 4,200 acres will be burned in\n",
    "any given year?\n",
    "\n",
    "b. Find the moments of the distribution\n",
    "\n",
    "c. Also calculate number of burnt acres corresponds to the 38th percentile?"
   ]
  },
  {
   "cell_type": "code",
   "execution_count": 266,
   "metadata": {},
   "outputs": [
    {
     "data": {
      "text/plain": [
       "0.43876734745178986"
      ]
     },
     "execution_count": 266,
     "metadata": {},
     "output_type": "execute_result"
    }
   ],
   "source": [
    "mean=4300\n",
    "sd=750\n",
    "# ans a]---\n",
    "prob=norm.cdf(4200,mean,sd)-norm.cdf(2500,mean,sd)\n",
    "prob"
   ]
  },
  {
   "cell_type": "code",
   "execution_count": 267,
   "metadata": {},
   "outputs": [
    {
     "name": "stdout",
     "output_type": "stream",
     "text": [
      "Mean=4300.000, Variance=562500.000, skew=0.000, kurt=0.000\n"
     ]
    }
   ],
   "source": [
    "# ans b]---\n",
    "#moments of the normal distribution\n",
    "mean, var, skew, kurt = norm.stats(mean, sd, moments='mvsk')\n",
    "print('Mean=%.3f, Variance=%.3f, skew=%.3f, kurt=%.3f' % (mean, var, skew, kurt))"
   ]
  },
  {
   "cell_type": "code",
   "execution_count": 271,
   "metadata": {},
   "outputs": [
    {
     "name": "stdout",
     "output_type": "stream",
     "text": [
      "number of burnt acres corresponds to the 38th percentile is : 4070.889408925452\n"
     ]
    }
   ],
   "source": [
    "# ans c]---\n",
    "x=norm.ppf(0.38,mean,sd)\n",
    "print(\"number of burnt acres corresponds to the 38th percentile is :\",x )"
   ]
  },
  {
   "cell_type": "markdown",
   "metadata": {},
   "source": [
    "#### Q.3 For a certain type of computers, the length of time between charges of the battery is normally distributed with a mean of 50 hours and a standard deviation of 15 hours.John owns one of these computers and wants to know the probability that the length of time will be between 50 and 70 hours."
   ]
  },
  {
   "cell_type": "code",
   "execution_count": 273,
   "metadata": {},
   "outputs": [
    {
     "name": "stdout",
     "output_type": "stream",
     "text": [
      "probability of the length of time will be between 50 and 70 hours is : 0.4087887802741321\n"
     ]
    }
   ],
   "source": [
    "mean=50\n",
    "sd=15\n",
    "prob=norm.cdf(70,mean,sd)-norm.cdf(50,mean,sd)\n",
    "prob\n",
    "print(\"probability of the length of time will be between 50 and 70 hours is :\",prob)"
   ]
  },
  {
   "cell_type": "markdown",
   "metadata": {},
   "source": [
    "## Exponential Distribution\n"
   ]
  },
  {
   "cell_type": "markdown",
   "metadata": {},
   "source": [
    "#### Q.4 The number of miles that a particular car can run before its battery wears out is exponentially distributed with an average of 10,000 miles. The owner of the car needs to take a 5000-mile trip. What is the probability that he will be able to complete the trip without having to replace the car battery?"
   ]
  },
  {
   "cell_type": "code",
   "execution_count": 280,
   "metadata": {},
   "outputs": [
    {
     "data": {
      "text/plain": [
       "0.6065306597126334"
      ]
     },
     "execution_count": 280,
     "metadata": {},
     "output_type": "execute_result"
    }
   ],
   "source": [
    "mean=10000\n",
    "# create distribution\n",
    "dist = expon(mean)\n",
    "# p(x>5000)=1-p(x<5000)\n",
    "prob=1-(1-np.exp(-5000/mean))\n",
    "prob"
   ]
  },
  {
   "cell_type": "code",
   "execution_count": 284,
   "metadata": {},
   "outputs": [
    {
     "data": {
      "text/plain": [
       "[Text(0.5, 0, 'Exponential Distribution'), Text(0, 0.5, 'Frequency')]"
      ]
     },
     "execution_count": 284,
     "metadata": {},
     "output_type": "execute_result"
    },
    {
     "data": {
      "image/png": "[encoded data removed]",
      "text/plain": [
       "<Figure size 432x288 with 1 Axes>"
      ]
     },
     "metadata": {},
     "output_type": "display_data"
    }
   ],
   "source": [
    "# define the distribution\n",
    "beta = 10000\n",
    "n = 1000\n",
    "# generate the sample\n",
    "sample = exponential(beta, n)\n",
    "#histogram plotting of data distribution\n",
    "exp=sns.histplot(sample,kde=False,bins=20)\n",
    "exp.set(xlabel='Exponential Distribution', ylabel='Frequency')\n"
   ]
  },
  {
   "cell_type": "code",
   "execution_count": null,
   "metadata": {},
   "outputs": [],
   "source": []
  },
  {
   "cell_type": "markdown",
   "metadata": {},
   "source": [
    "#### Q.5 Students arrive at a local bar and restaurant according to an approximate Poisson process at a mean rate of 30 students per hour. What is the probability that the bouncer has to wait more than 3 minutes to card the next student?"
   ]
  },
  {
   "cell_type": "code",
   "execution_count": 285,
   "metadata": {},
   "outputs": [
    {
     "data": {
      "text/plain": [
       "0.22313016014842982"
      ]
     },
     "execution_count": 285,
     "metadata": {},
     "output_type": "execute_result"
    }
   ],
   "source": [
    "# X equal the number of students\n",
    "#then the Poisson mean is 30 students per 60 minutes, means (lambda) 1/2 students per minutes\n",
    "# W  denote the (waiting) time between students, theta=1/lambda=2 minutes between arriving students\n",
    "# W follows exponential distribution with mean theta=2\n",
    "# f(w)=(1/theta)*exp(-w/theta)\n",
    "# cdf F(t)=P(W<t)=1-exp(-t/theta)\n",
    "# probability of the bouncer has to wait more than 3 minutes to card the next student :\n",
    "#P(W>3)=1-P(W<3)=1-(1-exp(-3/2))= exp(-3/2)\n",
    "prob=np.exp(-3/2)\n",
    "prob\n"
   ]
  },
  {
   "cell_type": "code",
   "execution_count": null,
   "metadata": {},
   "outputs": [],
   "source": []
  },
  {
   "cell_type": "markdown",
   "metadata": {},
   "source": [
    "#### Q.6 On the average, a certain computer part lasts ten years. The length of time the computer part lasts is exponentially distributed. What is the probability that a computer part lasts more than 7 years? (Plot the cdf graph)"
   ]
  },
  {
   "cell_type": "code",
   "execution_count": 286,
   "metadata": {},
   "outputs": [
    {
     "data": {
      "text/plain": [
       "0.4965853037914095"
      ]
     },
     "execution_count": 286,
     "metadata": {},
     "output_type": "execute_result"
    }
   ],
   "source": [
    "# x = the amount of time (in years) a computer part lasts.\n",
    "# theta=10\n",
    "# X ~ exp (mean=10)\n",
    "# P(X>7)=1-F(7)=1-(1-exp(-7/10))\n",
    "prob=np.exp(-7/10)\n",
    "prob"
   ]
  },
  {
   "cell_type": "code",
   "execution_count": 315,
   "metadata": {},
   "outputs": [
    {
     "data": {
      "image/png": "[encoded data removed]",
      "text/plain": [
       "<Figure size 432x288 with 1 Axes>"
      ]
     },
     "metadata": {},
     "output_type": "display_data"
    }
   ],
   "source": [
    "from reliability.Distributions import Exponential_Distribution\n",
    "import matplotlib.pyplot as plt\n",
    "\n",
    "dist = Exponential_Distribution(1/theta)  # this created the distribution object\n",
    "dist.CDF()  # this creates the plot of the CDF\n",
    "plt.show()\n"
   ]
  },
  {
   "cell_type": "code",
   "execution_count": null,
   "metadata": {},
   "outputs": [],
   "source": []
  },
  {
   "cell_type": "markdown",
   "metadata": {},
   "source": [
    "## Uniform Distribution\n"
   ]
  },
  {
   "cell_type": "code",
   "execution_count": 316,
   "metadata": {},
   "outputs": [],
   "source": [
    "from scipy.stats import uniform"
   ]
  },
  {
   "cell_type": "markdown",
   "metadata": {},
   "source": [
    "#### Q.7 The time between arrivals of customers at a bank during the 12 PM - 1 PM hour has a uniform distribution between 0 to 120 seconds.\n",
    "\n",
    "a. What is the probability that the time between the arrival of two customers will\n",
    "be less than 20 seconds?\n",
    "\n",
    "b. What is the probability that the time between the arrival of two customers will\n",
    "be between 10 and 30 seconds?\n",
    "\n",
    "c. What is the probability that the time between the arrival of two customers will\n",
    "be more than 35 seconds?\n",
    "\n",
    "d. What are the mean and standard deviation of the time between arrivals?"
   ]
  },
  {
   "cell_type": "code",
   "execution_count": 319,
   "metadata": {},
   "outputs": [
    {
     "name": "stdout",
     "output_type": "stream",
     "text": [
      "The probability that the time deviation between arrival of two customers is less than 20 seconds is : 0.16666666666666666\n"
     ]
    }
   ],
   "source": [
    "# X determines the number of seconds that is incurred in arrival of two customers\n",
    "# X~ Uniform(0,120)\n",
    "#X~ U(a,b)  f(x)=(a+b)/2     F(x)=P(X<x)=(x-a)/(b-a)\n",
    "unifo=uniform(0,120)\n",
    "#ans a]---\n",
    "#P(X<20)\n",
    "prob1=unifo.cdf(20)\n",
    "prob1\n",
    "print(\"The probability that the time deviation between arrival of two customers is less than 20 seconds is :\", prob1)"
   ]
  },
  {
   "cell_type": "code",
   "execution_count": 321,
   "metadata": {},
   "outputs": [
    {
     "name": "stdout",
     "output_type": "stream",
     "text": [
      "The probability that the difference between two customers' arrival can lie within the range of 10 and 30 seconds is :  0.16666666666666669\n"
     ]
    }
   ],
   "source": [
    "#ans b]---\n",
    "#P(10<x<30)\n",
    "prob2=unifo.cdf(30)-unifo.cdf(10)\n",
    "prob2\n",
    "print(\"The probability that the difference between two customers' arrival can lie within the range of 10 and 30 seconds is : \",prob2)"
   ]
  },
  {
   "cell_type": "code",
   "execution_count": 323,
   "metadata": {},
   "outputs": [
    {
     "name": "stdout",
     "output_type": "stream",
     "text": [
      "The probability that more than 35 seconds can be taken between the arrival of two customers is : 0.7083333333333333\n"
     ]
    }
   ],
   "source": [
    "#ans c]---\n",
    "#P(X>35)\n",
    "prob3=1-unifo.cdf(35)\n",
    "prob3\n",
    "print(\"The probability that more than 35 seconds can be taken between the arrival of two customers is :\",prob3)"
   ]
  },
  {
   "cell_type": "code",
   "execution_count": 327,
   "metadata": {},
   "outputs": [
    {
     "name": "stdout",
     "output_type": "stream",
     "text": [
      " mean :  60.0\n",
      "standard deviation : 34.64101615137755\n"
     ]
    }
   ],
   "source": [
    "# ansc D]---\n",
    "# mean=E(X)=(a+b)/2\n",
    "#var=E(x-xbar)^2=(b-a)^2/12\n",
    "#sd=sqrt(var)\n",
    "mean=(0+120)/2\n",
    "var=(120-0)**2/12\n",
    "sd=np.sqrt(var)\n",
    "print(\" mean : \",mean)\n",
    "print(\"standard deviation :\",sd )"
   ]
  },
  {
   "cell_type": "markdown",
   "metadata": {},
   "source": [
    "#### Q.8. The current (in mA) is measured in a piece of copper wire is known to follow a uniform distribution over the interval [0,25]. Write down the formula for the probability density function f(x) of the random variable X representing the current. Calculate the mean and variance of the distribution and find the cumulative distribution function F(x)."
   ]
  },
  {
   "cell_type": "code",
   "execution_count": 328,
   "metadata": {},
   "outputs": [
    {
     "name": "stdout",
     "output_type": "stream",
     "text": [
      " mean :  12.5\n",
      "Variance : 52.083333333333336\n"
     ]
    }
   ],
   "source": [
    "# X ~ U ( a=0, b=25 )\n",
    "# f(x)=1/(a+b)=1/(0+25)\n",
    "#     = 0.04 for 0<=x<=25\n",
    "#     = 0     for O.W\n",
    "# mean=E(x)=(a+b)/2=(25)/2\n",
    "mean=25/2\n",
    "# var= (b-a)^2/12 = (25-0)^2/12\n",
    "var=(25-0)**2/12\n",
    "print(\" mean : \",mean)\n",
    "print(\"Variance :\",var )"
   ]
  },
  {
   "cell_type": "code",
   "execution_count": null,
   "metadata": {},
   "outputs": [],
   "source": [
    "#CDF\n",
    "# CDF= F(x)=P(X<x)=  0         for x<0\n",
    "#                    x/(25)    for 0<=x<=25\n",
    "#                     1        for  X>=25\n",
    "\n"
   ]
  },
  {
   "cell_type": "code",
   "execution_count": 330,
   "metadata": {},
   "outputs": [
    {
     "data": {
      "image/png": "[encoded data removed]",
      "text/plain": [
       "<Figure size 432x288 with 1 Axes>"
      ]
     },
     "metadata": {},
     "output_type": "display_data"
    },
    {
     "data": {
      "image/png": "[encoded data removed]",
      "text/plain": [
       "<Figure size 432x288 with 1 Axes>"
      ]
     },
     "metadata": {},
     "output_type": "display_data"
    }
   ],
   "source": [
    "# Genrating uniform distribution\n",
    "a=0\n",
    "b=25\n",
    "size=100\n",
    "uniform_distribution = uniform(loc=a, scale=b)\n",
    "x = np.linspace(uniform_distribution.ppf(0), uniform_distribution.ppf(1), size)\n",
    "\n",
    "# Plotting pdf\n",
    "plt.plot(x, uniform_distribution.pdf(x), 'r-', lw=2, alpha=1, label='pdf')\n",
    "plt.xlabel('uniform distribution')\n",
    "plt.ylabel(\"pdf\")\n",
    "plt.show()\n",
    "\n",
    "# Plotting cdf\n",
    "plt.plot(x, uniform_distribution.cdf(x), 'r-', lw=2, alpha=1, label='pdf')\n",
    "plt.xlabel('uniform distribution')\n",
    "plt.ylabel(\"cdf\")\n",
    "plt.show()"
   ]
  },
  {
   "cell_type": "markdown",
   "metadata": {},
   "source": [
    "#### Q.9. The amount of time, in minutes, that a person must wait for a bus is uniformlydistributed between zero and 15 minutes, inclusive.\n",
    "\n",
    "a. What is the probability that a person waits fewer than 12.5 minutes?\n",
    "\n",
    "b. On the average, how long must a person wait? Find the mean, μ, and the\n",
    "standard deviation, σ.\n",
    "\n",
    "c. Ninety percent of the time, the time a person must wait falls below what\n",
    "value? This asks for the 90th percentile"
   ]
  },
  {
   "cell_type": "code",
   "execution_count": 332,
   "metadata": {},
   "outputs": [
    {
     "name": "stdout",
     "output_type": "stream",
     "text": [
      " probability that a person waits fewer than 12.5 minutes is : 0.8333333333333334\n"
     ]
    }
   ],
   "source": [
    "#  X= the number of minutes a person must wait for a bus.\n",
    "# X ~ U (a=0 , b=15)\n",
    "unif=uniform(0,15)\n",
    "\n",
    "# ans a]---\n",
    "# P(X<12.5)\n",
    "prob1= unif.cdf(12.5)\n",
    "prob1\n",
    "print( \" probability that a person waits fewer than 12.5 minutes is :\", prob1)"
   ]
  },
  {
   "cell_type": "code",
   "execution_count": 336,
   "metadata": {},
   "outputs": [
    {
     "name": "stdout",
     "output_type": "stream",
     "text": [
      " On the average, a person must wait 7.5  minutes\n",
      " The Standard deviation is 4.330127018922194  minutes.\n"
     ]
    }
   ],
   "source": [
    "# ans b]---\n",
    "# E(x)=(a+b)/2\n",
    "# var=(b-a)^2/12\n",
    "mean=(0+15)/2\n",
    "var=(15-0)**2/12\n",
    "sd=np.sqrt(var)\n",
    "print(\" On the average, a person must wait\",mean,\" minutes\")\n",
    "print(\" The Standard deviation is\", sd ,\" minutes.\")"
   ]
  },
  {
   "cell_type": "code",
   "execution_count": 338,
   "metadata": {},
   "outputs": [
    {
     "name": "stdout",
     "output_type": "stream",
     "text": [
      "Ninety percent of the time, a person must wait at most  13.5  minutes\n"
     ]
    }
   ],
   "source": [
    "# ans c]---\n",
    "\n",
    "# The 90th percentile\n",
    "x=unif.ppf(0.90)\n",
    "print(\"Ninety percent of the time, a person must wait at most \",x,\" minutes\")"
   ]
  },
  {
   "cell_type": "markdown",
   "metadata": {},
   "source": [
    "#### Q.10. . Suppose the time it takes a student to finish a quiz is uniformly distributed between six and 15 minutes, inclusive. Let X = the time, in minutes, it takes a student to finish a quiz. Then X ~ U (6, 15).\n",
    "\n",
    "a. Find the probability that a randomly selected student needs at least eight\n",
    "minutes to complete the quiz. Then find the probability that a different student\n",
    "needs at least eight minutes to finish the quiz given that she has already taken\n",
    "more than seven minutes"
   ]
  },
  {
   "cell_type": "code",
   "execution_count": 341,
   "metadata": {},
   "outputs": [
    {
     "data": {
      "text/plain": [
       "0.8666666666666667"
      ]
     },
     "execution_count": 341,
     "metadata": {},
     "output_type": "execute_result"
    }
   ],
   "source": [
    "# X = the time, in minutes, it takes a student to finish a quiz.\n",
    "# X ~ U (a=6 , b=15)\n",
    "unif=uniform(6,15)\n",
    "# ans a]---\n",
    "# P(X>8)\n",
    "prob1=1-unif.cdf(8)\n",
    "prob1"
   ]
  },
  {
   "cell_type": "code",
   "execution_count": 342,
   "metadata": {},
   "outputs": [
    {
     "data": {
      "text/plain": [
       "0.9285714285714286"
      ]
     },
     "execution_count": 342,
     "metadata": {},
     "output_type": "execute_result"
    }
   ],
   "source": [
    "# P(X>8/X>7)=P(X>8 and X>7)/P(X>7)\n",
    "#           = P(X>8)/P(X>7)\n",
    "prob2=(1-unif.cdf(8))/(1-unif.cdf(7))\n",
    "prob2\n"
   ]
  },
  {
   "cell_type": "code",
   "execution_count": null,
   "metadata": {},
   "outputs": [],
   "source": []
  }
 ],
 "metadata": {
  "kernelspec": {
   "display_name": "Python 3",
   "language": "python",
   "name": "python3"
  },
  "language_info": {
   "codemirror_mode": {
    "name": "ipython",
    "version": 3
   },
   "file_extension": ".py",
   "mimetype": "text/x-python",
   "name": "python",
   "nbconvert_exporter": "python",
   "pygments_lexer": "ipython3",
   "version": "3.8.5"
  }
 },
 "nbformat": 4,
 "nbformat_minor": 4
}
